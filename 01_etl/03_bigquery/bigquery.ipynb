{
 "cells": [
  {
   "cell_type": "code",
   "execution_count": null,
   "id": "b79e8e64-f005-4647-9c57-56f27e3fb381",
   "metadata": {},
   "outputs": [],
   "source": [
    "import os\n",
    "import pandas as pd\n",
    "from loguru import logger\n",
    "\n",
    "from google.cloud import bigquery\n",
    "from google.oauth2 import service_account"
   ]
  },
  {
   "cell_type": "markdown",
   "id": "a35d33da-d7eb-4293-9e57-167f654de9c1",
   "metadata": {},
   "source": [
    "# BigQuery API. Работа с таблицами (создание, удаление, схемы)"
   ]
  },
  {
   "cell_type": "code",
   "execution_count": null,
   "id": "3f8280c3-e38a-4ec3-a0c7-e72b83f1e959",
   "metadata": {},
   "outputs": [],
   "source": [
    "# BigQuery connect\n",
    "big_query_key_path = \"XXXXXXX.json\"\n",
    "project_id = 'my_project'\n",
    "dataset=\"test1\"\n",
    "table_name=\"table_test\"\n",
    "table_id=f\"{project_id}.{dataset}.{table_name}\"\n",
    "\n",
    "def get_client_and_table(dataset):\n",
    "    key_path = big_query_key_path\n",
    "    credentials = service_account.Credentials.from_service_account_file(\n",
    "        key_path, scopes=[\"https://www.googleapis.com/auth/cloud-platform\"],\n",
    "    )\n",
    "\n",
    "    client = bigquery.Client(credentials=credentials, project=credentials.project_id,)\n",
    "    return client, credentials\n",
    "\n",
    "client, credentials = get_client_and_table(dataset=dataset)"
   ]
  },
  {
   "cell_type": "code",
   "execution_count": null,
   "id": "b55c8dfe-5b76-4a9c-944c-660910ec3661",
   "metadata": {},
   "outputs": [],
   "source": [
    "# list tables in dataset\n",
    "tables = client.list_tables(f'{project_id}.{dataset}')\n",
    "for table_item in tables:\n",
    "    print(table_item.table_id)"
   ]
  },
  {
   "cell_type": "code",
   "execution_count": null,
   "id": "80759782-f064-4bc9-bcb3-97d5902b8928",
   "metadata": {},
   "outputs": [],
   "source": [
    "# get count rows in table\n",
    "table = client.get_table(table_id)\n",
    "print('{} rows in {}'.format(table.num_rows,table.table_id))"
   ]
  },
  {
   "cell_type": "code",
   "execution_count": null,
   "id": "92dfcc02-04dc-46ff-8626-6909af7fc3dd",
   "metadata": {},
   "outputs": [],
   "source": [
    "# get schema and find field\n",
    "table = client.get_table(table_id)\n",
    "for field in table.schema:\n",
    "    if 'count' in field.name:\n",
    "        print(field)\n",
    "    print(field)"
   ]
  },
  {
   "cell_type": "code",
   "execution_count": null,
   "id": "3d9a967b-d27f-41e0-a490-f66e220c342b",
   "metadata": {},
   "outputs": [],
   "source": [
    "# Create new blank table with schema\n",
    "# https://medium.com/pipeline-a-data-engineering-resource/how-to-create-nested-schemas-in-python-using-the-google-bigquery-api-8d86b1602cbd\n",
    "# https://cloud.google.com/bigquery/docs/schemas\n",
    "\n",
    "schema = [\n",
    "    bigquery.SchemaField('headers', 'RECORD', mode='NULLABLE', fields=[\n",
    "        bigquery.SchemaField('tag', 'STRING', 'NULLABLE'), \n",
    "        bigquery.SchemaField('last_date', 'STRING', 'NULLABLE'), \n",
    "        bigquery.SchemaField('server', 'STRING', 'NULLABLE'), \n",
    "        bigquery.SchemaField('length', 'INTEGER', 'NULLABLE')]),\n",
    "    bigquery.SchemaField('group_id', 'INTEGER', mode='NULLABLE'),\n",
    "    bigquery.SchemaField('json', 'RECORD', mode='NULLABLE', fields=[\n",
    "        bigquery.SchemaField('field1', 'STRING', 'NULLABLE'), \n",
    "        bigquery.SchemaField('field2', 'INTEGER', 'NULLABLE'), \n",
    "        bigquery.SchemaField('name', 'STRING', 'NULLABLE'), \n",
    "        bigquery.SchemaField('id', 'STRING', 'NULLABLE')]),\n",
    "    bigquery.SchemaField('event', 'STRING', mode='NULLABLE'),\n",
    "    bigquery.SchemaField('date_upload', 'DATETIME', mode='NULLABLE'),\n",
    "]\n",
    "\n",
    "table = bigquery.Table(table_id, schema=schema)\n",
    "table = client.create_table(table)\n",
    "print(\n",
    "    \"Created table {}.{}.{}\".format(table.project, table.dataset_id, table.table_id)\n",
    ")"
   ]
  },
  {
   "cell_type": "code",
   "execution_count": null,
   "id": "a9805f2c-a735-48e1-bdca-7ab86a283136",
   "metadata": {},
   "outputs": [],
   "source": [
    "# Delete Table\n",
    "client.delete_table(table_id, not_found_ok=True)  \n",
    "print(\"Deleted table '{}'.\".format(table_id))"
   ]
  },
  {
   "cell_type": "code",
   "execution_count": null,
   "id": "b5ad5807-e4e3-44ee-828f-74b03e26278b",
   "metadata": {},
   "outputs": [],
   "source": [
    "# access to rows\n",
    "table = client.get_table(table_id)\n",
    "df = client.list_rows(table).to_dataframe()\n",
    "df.head(3)"
   ]
  },
  {
   "cell_type": "code",
   "execution_count": null,
   "id": "15820a6e-3dab-47d7-94b3-9c78a43cb7c6",
   "metadata": {},
   "outputs": [],
   "source": [
    "# Delete ALL ROWS from table BigQuery\n",
    "query = (f'DELETE FROM {table_id} WHERE true')\n",
    "query_job = client.query(query)\n",
    "table = client.get_table(table_id)\n",
    "print('{} rows in {}'.format(table.num_rows,table.table_id))"
   ]
  },
  {
   "cell_type": "markdown",
   "id": "5e94669b-36e4-4c9f-9b74-3ddd0cc1a608",
   "metadata": {},
   "source": [
    "# BigQuery API. QUERY"
   ]
  },
  {
   "cell_type": "code",
   "execution_count": null,
   "id": "3d0a8d76-4f21-4555-bda1-8fcbb45fc601",
   "metadata": {},
   "outputs": [],
   "source": [
    "def __load_df_from_bq(table_id, query=None):\n",
    "    if query is None:\n",
    "        query = f\"SELECT * FROM {table_id}\"\n",
    "    result = client.query(query).to_dataframe()\n",
    "    logger.info(\"Finish load {}, {}\".format(dataset, result.shape))\n",
    "    return result"
   ]
  },
  {
   "cell_type": "code",
   "execution_count": null,
   "id": "909e88e9-df26-408f-9168-d571941a3aca",
   "metadata": {},
   "outputs": [],
   "source": [
    "def get_none_query(table_id):\n",
    "    return __load_df_from_bq(table_id=table_id)"
   ]
  },
  {
   "cell_type": "code",
   "execution_count": null,
   "id": "ba2ef269-6322-4449-8719-e044f5a6e79f",
   "metadata": {},
   "outputs": [],
   "source": [
    "def get_is_query(table_id):\n",
    "    query = (\n",
    "        \"\"\"\n",
    "        SELECT *\n",
    "        FROM my_project.test1.table_test \n",
    "        WHERE date_diff(current_date(),date_upload,DAY) <= 7\n",
    "        LIMIT 1000\n",
    "        \"\"\"\n",
    "    )    \n",
    "    return __load_df_from_bq_2(table_id=table_id, query=query)"
   ]
  },
  {
   "cell_type": "code",
   "execution_count": null,
   "id": "cca2388f-2032-4856-a315-c2c984955edb",
   "metadata": {},
   "outputs": [],
   "source": [
    "df_standart=get_none_query(table_id)\n",
    "df_new_query=get_is_query(table_id)"
   ]
  }
 ],
 "metadata": {
  "kernelspec": {
   "display_name": "Python 3 (ipykernel)",
   "language": "python",
   "name": "python3"
  },
  "language_info": {
   "codemirror_mode": {
    "name": "ipython",
    "version": 3
   },
   "file_extension": ".py",
   "mimetype": "text/x-python",
   "name": "python",
   "nbconvert_exporter": "python",
   "pygments_lexer": "ipython3",
   "version": "3.8.15"
  }
 },
 "nbformat": 4,
 "nbformat_minor": 5
}
