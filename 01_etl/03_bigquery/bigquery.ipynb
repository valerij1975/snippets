{
 "cells": [
  {
   "cell_type": "code",
   "execution_count": null,
   "id": "b79e8e64-f005-4647-9c57-56f27e3fb381",
   "metadata": {},
   "outputs": [],
   "source": [
    "import os\n",
    "import pandas as pd\n",
    "from loguru import logger\n",
    "\n",
    "from google.cloud import bigquery\n",
    "from google.oauth2 import service_account"
   ]
  },
  {
   "cell_type": "markdown",
   "id": "a35d33da-d7eb-4293-9e57-167f654de9c1",
   "metadata": {},
   "source": [
    "# BigQuery API. Работа с таблицами (создание, удаление, схемы)"
   ]
  },
  {
   "cell_type": "code",
   "execution_count": 4,
   "id": "c6b0bf64-03b8-4045-9542-57819d22fcd8",
   "metadata": {},
   "outputs": [],
   "source": [
    "# BigQuery connect\n",
    "big_query_key_path = \"XXXXXXX.json\"\n",
    "project_id = 'my_project'\n",
    "dataset=\"test1\"\n",
    "table_name=\"table_test\"\n",
    "table_id=f\"{project_id}.{dataset}.{table_name}\""
   ]
  },
  {
   "cell_type": "code",
   "execution_count": null,
   "id": "3f8280c3-e38a-4ec3-a0c7-e72b83f1e959",
   "metadata": {},
   "outputs": [],
   "source": [
    "\n",
    "\n",
    "def get_client_and_table(dataset):\n",
    "    key_path = big_query_key_path\n",
    "    credentials = service_account.Credentials.from_service_account_file(\n",
    "        key_path, scopes=[\"https://www.googleapis.com/auth/cloud-platform\"],\n",
    "    )\n",
    "\n",
    "    client = bigquery.Client(credentials=credentials, project=credentials.project_id,)\n",
    "    return client, credentials\n",
    "\n",
    "client, credentials = get_client_and_table(dataset=dataset)"
   ]
  },
  {
   "cell_type": "code",
   "execution_count": null,
   "id": "b55c8dfe-5b76-4a9c-944c-660910ec3661",
   "metadata": {},
   "outputs": [],
   "source": [
    "# list tables in dataset\n",
    "tables = client.list_tables(f'{project_id}.{dataset}')\n",
    "for table_item in tables:\n",
    "    print(table_item.table_id)"
   ]
  },
  {
   "cell_type": "code",
   "execution_count": null,
   "id": "80759782-f064-4bc9-bcb3-97d5902b8928",
   "metadata": {},
   "outputs": [],
   "source": [
    "# get count rows in table\n",
    "table = client.get_table(table_id)\n",
    "print('{} rows in {}'.format(table.num_rows,table.table_id))"
   ]
  },
  {
   "cell_type": "code",
   "execution_count": null,
   "id": "92dfcc02-04dc-46ff-8626-6909af7fc3dd",
   "metadata": {},
   "outputs": [],
   "source": [
    "# get schema and find field\n",
    "table = client.get_table(table_id)\n",
    "for field in table.schema:\n",
    "    if 'count' in field.name:\n",
    "        print(field)\n",
    "    print(field)"
   ]
  },
  {
   "cell_type": "code",
   "execution_count": null,
   "id": "3d9a967b-d27f-41e0-a490-f66e220c342b",
   "metadata": {},
   "outputs": [],
   "source": [
    "# Create new blank table with schema\n",
    "# https://medium.com/pipeline-a-data-engineering-resource/how-to-create-nested-schemas-in-python-using-the-google-bigquery-api-8d86b1602cbd\n",
    "# https://cloud.google.com/bigquery/docs/schemas\n",
    "\n",
    "schema = [\n",
    "    bigquery.SchemaField('headers', 'RECORD', mode='NULLABLE', fields=[\n",
    "        bigquery.SchemaField('tag', 'STRING', 'NULLABLE'), \n",
    "        bigquery.SchemaField('last_date', 'STRING', 'NULLABLE'), \n",
    "        bigquery.SchemaField('server', 'STRING', 'NULLABLE'), \n",
    "        bigquery.SchemaField('length', 'INTEGER', 'NULLABLE')]),\n",
    "    bigquery.SchemaField('group_id', 'INTEGER', mode='NULLABLE'),\n",
    "    bigquery.SchemaField('json', 'RECORD', mode='NULLABLE', fields=[\n",
    "        bigquery.SchemaField('field1', 'STRING', 'NULLABLE'), \n",
    "        bigquery.SchemaField('field2', 'INTEGER', 'NULLABLE'), \n",
    "        bigquery.SchemaField('name', 'STRING', 'NULLABLE'), \n",
    "        bigquery.SchemaField('id', 'STRING', 'NULLABLE')]),\n",
    "    bigquery.SchemaField('event', 'STRING', mode='NULLABLE'),\n",
    "    bigquery.SchemaField('date_upload', 'DATETIME', mode='NULLABLE'),\n",
    "]\n",
    "\n",
    "table = bigquery.Table(table_id, schema=schema)\n",
    "table = client.create_table(table)\n",
    "print(\n",
    "    \"Created table {}.{}.{}\".format(table.project, table.dataset_id, table.table_id)\n",
    ")"
   ]
  },
  {
   "cell_type": "code",
   "execution_count": null,
   "id": "a9805f2c-a735-48e1-bdca-7ab86a283136",
   "metadata": {},
   "outputs": [],
   "source": [
    "# Delete Table\n",
    "client.delete_table(table_id, not_found_ok=True)  \n",
    "print(\"Deleted table '{}'.\".format(table_id))"
   ]
  },
  {
   "cell_type": "code",
   "execution_count": null,
   "id": "b5ad5807-e4e3-44ee-828f-74b03e26278b",
   "metadata": {},
   "outputs": [],
   "source": [
    "# access to rows\n",
    "table = client.get_table(table_id)\n",
    "df = client.list_rows(table).to_dataframe()\n",
    "df.head(3)"
   ]
  },
  {
   "cell_type": "code",
   "execution_count": null,
   "id": "15820a6e-3dab-47d7-94b3-9c78a43cb7c6",
   "metadata": {},
   "outputs": [],
   "source": [
    "# Delete ALL ROWS from table BigQuery\n",
    "query = (f'DELETE FROM {table_id} WHERE true')\n",
    "query_job = client.query(query)\n",
    "table = client.get_table(table_id)\n",
    "print('{} rows in {}'.format(table.num_rows,table.table_id))"
   ]
  },
  {
   "cell_type": "markdown",
   "id": "5e94669b-36e4-4c9f-9b74-3ddd0cc1a608",
   "metadata": {},
   "source": [
    "# BigQuery API. QUERY"
   ]
  },
  {
   "cell_type": "code",
   "execution_count": null,
   "id": "3d0a8d76-4f21-4555-bda1-8fcbb45fc601",
   "metadata": {},
   "outputs": [],
   "source": [
    "def __load_df_from_bq(table_id, query=None):\n",
    "    if query is None:\n",
    "        query = f\"SELECT * FROM {table_id}\"\n",
    "    result = client.query(query).to_dataframe()\n",
    "    logger.info(\"Finish load {}, {}\".format(dataset, result.shape))\n",
    "    return result"
   ]
  },
  {
   "cell_type": "code",
   "execution_count": null,
   "id": "909e88e9-df26-408f-9168-d571941a3aca",
   "metadata": {},
   "outputs": [],
   "source": [
    "def get_none_query(table_id):\n",
    "    return __load_df_from_bq(table_id=table_id)"
   ]
  },
  {
   "cell_type": "code",
   "execution_count": null,
   "id": "ba2ef269-6322-4449-8719-e044f5a6e79f",
   "metadata": {},
   "outputs": [],
   "source": [
    "def get_is_query(table_id):\n",
    "    query = (\n",
    "        \"\"\"\n",
    "        SELECT *\n",
    "        FROM my_project.test1.table_test \n",
    "        WHERE date_diff(current_date(),date_upload,DAY) <= 7\n",
    "        LIMIT 1000\n",
    "        \"\"\"\n",
    "    )    \n",
    "    return __load_df_from_bq_2(table_id=table_id, query=query)"
   ]
  },
  {
   "cell_type": "code",
   "execution_count": null,
   "id": "cca2388f-2032-4856-a315-c2c984955edb",
   "metadata": {},
   "outputs": [],
   "source": [
    "df_standart=get_none_query(table_id)\n",
    "df_new_query=get_is_query(table_id)"
   ]
  },
  {
   "cell_type": "markdown",
   "id": "d86cefcd-e986-4ea9-abcb-1f58514ed029",
   "metadata": {},
   "source": [
    "## SQL-query sample olist"
   ]
  },
  {
   "cell_type": "code",
   "execution_count": 7,
   "id": "c3ed06c0-908d-46d6-bf2a-a485db2bf221",
   "metadata": {},
   "outputs": [],
   "source": [
    "sql_text=f\"\"\"\n",
    "#standardSQL\n",
    "WITH geoavg AS (SELECT \n",
    "  geolocation_zip_code_prefix,\n",
    "  AVG(geolocation_lat) AS lat,\n",
    "  AVG(geolocation_lng) AS lng\n",
    "FROM `{project_id}.olist.geolocation`\n",
    "GROUP BY\n",
    "    geolocation_zip_code_prefix),  \n",
    "\n",
    "custgeo AS (\n",
    "SELECT \n",
    "    c.*, \n",
    "    geoavg.lat AS customers_geo_lat,\n",
    "    geoavg.lng AS customers_geo_lng\n",
    "FROM `{project_id}.olist.customers` c LEFT JOIN geoavg ON c.customer_zip_code_prefix=geoavg.geolocation_zip_code_prefix),\n",
    "\n",
    "ordcustgeo AS (\n",
    "SELECT\n",
    "    ord.*, \n",
    "    c.* EXCEPT(customer_id)\n",
    "FROM `{project_id}.olist.orders` ord LEFT JOIN custgeo c ON ord.customer_id=c.customer_id),\n",
    "\n",
    "itemavg AS (SELECT \n",
    "  order_id,\n",
    "  MAX(order_item_id) AS order_item_count,\n",
    "  SUM(price) AS sum_price,\n",
    "  SUM(freight_value) AS sum_freight_value,\n",
    "  SUM(price)+SUM(freight_value) AS sum_price_freight\n",
    "\n",
    "FROM `{project_id}.olist.order_items1`\n",
    "GROUP BY\n",
    "    order_id),  \n",
    "\n",
    "orditem1 AS (\n",
    "SELECT \n",
    "    o.*, \n",
    "    itemavg.* EXCEPT (order_id)\n",
    "FROM ordcustgeo o LEFT JOIN itemavg ON o.order_id=itemavg.order_id),\n",
    "\n",
    "ordprod AS (\n",
    "SELECT \n",
    "  COUNT(*) as num_prod,\n",
    "  order_id,\n",
    "  product_id\n",
    "  FROM `{project_id}.olist.order_items1`\n",
    "\n",
    "GROUP BY\n",
    "  order_id, \n",
    "  product_id\n",
    "),\n",
    "\n",
    "unprod AS(\n",
    "SELECT \n",
    "  COUNT(*) as num_uniq_prod,\n",
    "  order_id,\n",
    "  FROM ordprod\n",
    "\n",
    "GROUP BY\n",
    "  order_id),\n",
    "\n",
    "orditem2 AS (\n",
    "SELECT \n",
    "    o.*, \n",
    "    unprod.* EXCEPT (order_id)\n",
    "FROM orditem1 o LEFT JOIN unprod ON o.order_id=unprod.order_id),\n",
    "\n",
    "tmp AS (\n",
    "SELECT \n",
    "  MAX(review_answer_timestamp) as max_review_answer_date,\n",
    "  order_id\n",
    "  FROM `{project_id}.olist.order_reviews2`\n",
    "GROUP BY\n",
    "  order_id),\n",
    "\n",
    "score AS(\n",
    "SELECT \n",
    "  s.review_score AS review_score,\n",
    "  s.sent_score AS sent_score, \n",
    "  s.sent_magnitude AS sent_magnitude,\n",
    "  s.entities_list AS entities_list,\n",
    "  s.sentences_count AS sentences_count,\n",
    "  s.token_count AS token_count,\n",
    "  s.sentlist AS sentlist,\n",
    "  s.tokenlist AS tokenlist,\n",
    "  s.review_id AS review_id,\n",
    "  s.review_answer_timestamp AS review_answer_timestamp,\n",
    "  s.order_id AS order_id\n",
    "FROM `{project_id}.olist.order_reviews2` s RIGHT JOIN tmp ON s.review_answer_timestamp=tmp.max_review_answer_date AND s.order_id=tmp.order_id\n",
    "),\n",
    "\n",
    "avgr AS(\n",
    "SELECT \n",
    "  order_id,\n",
    "  COUNT(*) as num_reviews_per_order,\n",
    "  STRING_AGG(message1, \" \") as message,\n",
    "  STRING_AGG(title11, \" \") as title,\n",
    "  MIN(review_creation_date) as min_review_create_date,\n",
    "  MAX(review_creation_date) as max_review_create_date,\n",
    "  MIN(review_answer_timestamp) as min_review_answer_date,\n",
    "  MAX(review_answer_timestamp) as max_review_answer_date\n",
    "  \n",
    "FROM `{project_id}.olist.order_reviews2` \n",
    "\n",
    "GROUP BY\n",
    "  order_id),\n",
    "\n",
    "rev AS (\n",
    "SELECT \n",
    "avgr.*,\n",
    "score.review_id AS review_id,\n",
    "score.review_score,\n",
    "score.sent_score AS sent_score, \n",
    "score.sent_magnitude AS sent_magnitude,\n",
    "score.entities_list AS entities_list,\n",
    "score.sentences_count AS sentences_count,\n",
    "score.token_count AS token_count,\n",
    "score.sentlist AS sentlist,\n",
    "score.tokenlist AS tokenlist,\n",
    "FROM avgr LEFT JOIN score ON avgr.order_id=score.order_id)\n",
    "\n",
    "SELECT \n",
    "    s.*,\n",
    "    rev.* EXCEPT (order_id)\n",
    "FROM orditem2 s LEFT JOIN rev ON s.order_id=rev.order_id\n",
    "\"\"\""
   ]
  },
  {
   "cell_type": "markdown",
   "id": "8a378397-1373-49be-b08c-b76d2cc4e5f2",
   "metadata": {},
   "source": [
    "## SQL-Query for field \"RECORD\""
   ]
  },
  {
   "cell_type": "code",
   "execution_count": null,
   "id": "d6601473-cb5a-49d2-a6ce-cb63cf1d801a",
   "metadata": {},
   "outputs": [],
   "source": [
    "schema = [\n",
    "    bigquery.SchemaField('order', 'RECORD', mode='NULLABLE', fields=[\n",
    "        bigquery.SchemaField('amount', 'FLOAT', mode='NULLABLE'),\n",
    "        bigquery.SchemaField('currency', 'STRING', mode='NULLABLE'),\n",
    "        bigquery.SchemaField('created_at', 'DATETIME', mode='NULLABLE')]),\n",
    "    bigquery.SchemaField('date_upload', 'DATETIME', mode='NULLABLE'),\n",
    "]\n",
    "\n",
    "# Sometimes you need to use this syntax for describing fields - with symbols \" `order` \"\n",
    "query = (\n",
    "    \"\"\"\n",
    "    SELECT\n",
    "        date_upload,\n",
    "        `order`.amount,\n",
    "        `order`.currency,\n",
    "        `order`.created_at,\n",
    "    FROM my_project.my_dataset.my_table\n",
    "        \n",
    "    \"\"\"\n",
    ")"
   ]
  }
 ],
 "metadata": {
  "kernelspec": {
   "display_name": "Python 3 (ipykernel)",
   "language": "python",
   "name": "python3"
  },
  "language_info": {
   "codemirror_mode": {
    "name": "ipython",
    "version": 3
   },
   "file_extension": ".py",
   "mimetype": "text/x-python",
   "name": "python",
   "nbconvert_exporter": "python",
   "pygments_lexer": "ipython3",
   "version": "3.8.15"
  }
 },
 "nbformat": 4,
 "nbformat_minor": 5
}
