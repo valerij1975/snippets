{
 "cells": [
  {
   "cell_type": "code",
   "execution_count": null,
   "id": "b0931ca0-f5c8-498d-8cd5-cc6e36e94341",
   "metadata": {},
   "outputs": [],
   "source": [
    "import os\n",
    "import pandas\n",
    "import numpy\n",
    "import re"
   ]
  },
  {
   "cell_type": "code",
   "execution_count": null,
   "id": "14293e49-2a58-45db-8f6e-da8891cda2c0",
   "metadata": {},
   "outputs": [],
   "source": []
  },
  {
   "cell_type": "code",
   "execution_count": null,
   "id": "e39712be-6893-472d-bbbf-327067feeba3",
   "metadata": {},
   "outputs": [],
   "source": []
  },
  {
   "cell_type": "code",
   "execution_count": null,
   "id": "6df0b53c-177c-4e37-8763-c958ca877a50",
   "metadata": {},
   "outputs": [],
   "source": [
    "type(dfb['cookies'].str.replace(r'[\"]','')[0]) # замена символов в квадратных скобках"
   ]
  },
  {
   "cell_type": "code",
   "execution_count": null,
   "id": "95c44073-c967-43a0-82d3-1a52ca76ea8b",
   "metadata": {},
   "outputs": [],
   "source": [
    "dfb['cookies'].str.split(',',expand=True) # разбить строковое значение в столбце и разнести по разным столбцам"
   ]
  },
  {
   "cell_type": "code",
   "execution_count": null,
   "id": "2415e297-67ac-49a3-9dd5-eca7da1fdc0f",
   "metadata": {},
   "outputs": [],
   "source": [
    "# пример создания столбца датафрейма из КОНКРЕТНОГО ключа словаря, находящегося в другом столбце\n",
    "dfb[\"new\"] = (dfb[\"headers\"].apply(lambda x: x.get(\"Via\") if isinstance(x, dict) else np.nan))"
   ]
  }
 ],
 "metadata": {
  "kernelspec": {
   "display_name": "Python 3 (ipykernel)",
   "language": "python",
   "name": "python3"
  },
  "language_info": {
   "codemirror_mode": {
    "name": "ipython",
    "version": 3
   },
   "file_extension": ".py",
   "mimetype": "text/x-python",
   "name": "python",
   "nbconvert_exporter": "python",
   "pygments_lexer": "ipython3",
   "version": "3.8.15"
  }
 },
 "nbformat": 4,
 "nbformat_minor": 5
}
