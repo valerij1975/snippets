{
 "cells": [
  {
   "cell_type": "code",
   "execution_count": 1,
   "id": "b89159ad-55c4-4ebd-8e88-0fda9e0178ce",
   "metadata": {},
   "outputs": [
    {
     "name": "stdout",
     "output_type": "stream",
     "text": [
      "Collecting openpyxl\n",
      "  Downloading openpyxl-3.1.0-py2.py3-none-any.whl (250 kB)\n",
      "     -------------------------------------- 250.0/250.0 kB 2.6 MB/s eta 0:00:00\n",
      "Collecting et-xmlfile\n",
      "  Using cached et_xmlfile-1.1.0-py3-none-any.whl (4.7 kB)\n",
      "Installing collected packages: et-xmlfile, openpyxl\n",
      "Successfully installed et-xmlfile-1.1.0 openpyxl-3.1.0\n"
     ]
    }
   ],
   "source": [
    "!pip install openpyxl"
   ]
  },
  {
   "cell_type": "markdown",
   "id": "3214a785-3392-4852-8c93-7cfbea7ab4c8",
   "metadata": {},
   "source": [
    "Working with Excel Files in Python - https://www.python-excel.org/"
   ]
  },
  {
   "cell_type": "code",
   "execution_count": 71,
   "id": "a58c7a77-5331-4294-aa8a-aa6f3d8dfdd5",
   "metadata": {},
   "outputs": [],
   "source": [
    "import os\n",
    "import pandas as pd\n",
    "import openpyxl\n",
    "import time\n",
    "from openpyxl.utils.dataframe import dataframe_to_rows"
   ]
  },
  {
   "cell_type": "code",
   "execution_count": 4,
   "id": "1b9ed678-0619-45fc-a682-50cc64eb745b",
   "metadata": {},
   "outputs": [],
   "source": [
    "PATH = \"../../data/excel/\""
   ]
  },
  {
   "cell_type": "markdown",
   "id": "d225ffe6-0cd9-4ce6-80e0-30c5840da019",
   "metadata": {},
   "source": [
    "# BASIC Function"
   ]
  },
  {
   "cell_type": "markdown",
   "id": "24eace96-9ef9-4df7-aedb-6fe64802f86b",
   "metadata": {},
   "source": [
    "## Create New Excel workbook and new sheet"
   ]
  },
  {
   "cell_type": "code",
   "execution_count": 5,
   "id": "0f465c5d-d8b4-4505-981b-3f45ca4eb1dc",
   "metadata": {},
   "outputs": [],
   "source": [
    "workbook = openpyxl.Workbook()\n",
    "sheet = workbook.active"
   ]
  },
  {
   "cell_type": "markdown",
   "id": "03ec39fb-c0a8-47bf-80f3-0573b7a2129d",
   "metadata": {},
   "source": [
    "## Add data to sheet - simple"
   ]
  },
  {
   "cell_type": "code",
   "execution_count": 26,
   "id": "f3c39404-ec59-40b1-a6ca-a93e688a5277",
   "metadata": {},
   "outputs": [],
   "source": [
    "sheet[\"A1\"] = \"hello\"\n",
    "sheet[\"B1\"] = \"world!\"\n",
    "c1 = sheet.cell(row = 2, column = 1)\n",
    "c1.value=\"new row - variant 2\"\n",
    "sheet.cell(row = 2, column = 2).value=\"new col\""
   ]
  },
  {
   "cell_type": "markdown",
   "id": "d9ddace1-ab8b-490f-81b0-2a85ba3424a9",
   "metadata": {},
   "source": [
    "## Save workbook in NEW Excel file"
   ]
  },
  {
   "cell_type": "code",
   "execution_count": 62,
   "id": "7a5f04bf-cf92-4064-b11c-41727527208c",
   "metadata": {},
   "outputs": [],
   "source": [
    "workbook.save(filename=f\"{PATH}hello_world.xlsx\")"
   ]
  },
  {
   "cell_type": "markdown",
   "id": "4e05a8f8-7d6e-44c6-8d9c-f188fd03d4a6",
   "metadata": {},
   "source": [
    "## Reading Excel Spreadsheets"
   ]
  },
  {
   "cell_type": "code",
   "execution_count": 79,
   "id": "d37f7010-5310-457e-9077-7fe1bb041e48",
   "metadata": {},
   "outputs": [],
   "source": [
    "workbook = openpyxl.load_workbook(filename=f\"{PATH}hello_world.xlsx\")"
   ]
  },
  {
   "cell_type": "markdown",
   "id": "25bca577-5d6a-409e-b4ca-12d31bec2f95",
   "metadata": {},
   "source": [
    "## Simple info about Spreadsheets"
   ]
  },
  {
   "cell_type": "code",
   "execution_count": 29,
   "id": "0bc646fe-471c-4ccd-a99e-07fe9e7d5d6b",
   "metadata": {},
   "outputs": [
    {
     "name": "stdout",
     "output_type": "stream",
     "text": [
      "['Sheet']\n",
      "<Worksheet \"Sheet\">\n",
      "Sheet\n"
     ]
    }
   ],
   "source": [
    "print(workbook.sheetnames)\n",
    "print(sheet := workbook.active)\n",
    "print(sheet.title)"
   ]
  },
  {
   "cell_type": "markdown",
   "id": "dce31b1a-f180-4d81-8cab-7ae85fdd495c",
   "metadata": {},
   "source": [
    "## GET cells and data from cells"
   ]
  },
  {
   "cell_type": "code",
   "execution_count": 30,
   "id": "cedbb460-4b9c-416a-912a-ef8a3750990a",
   "metadata": {},
   "outputs": [
    {
     "data": {
      "text/plain": [
       "<Cell 'Sheet'.A1>"
      ]
     },
     "execution_count": 30,
     "metadata": {},
     "output_type": "execute_result"
    }
   ],
   "source": [
    "sheet[\"A1\"]"
   ]
  },
  {
   "cell_type": "code",
   "execution_count": 31,
   "id": "31c94201-2c85-4c3d-a401-172fa313e586",
   "metadata": {},
   "outputs": [
    {
     "data": {
      "text/plain": [
       "'hello'"
      ]
     },
     "execution_count": 31,
     "metadata": {},
     "output_type": "execute_result"
    }
   ],
   "source": [
    "sheet[\"A1\"].value"
   ]
  },
  {
   "cell_type": "code",
   "execution_count": 32,
   "id": "fd32dd33-8858-4a4e-9331-8ffddc257d3b",
   "metadata": {},
   "outputs": [],
   "source": [
    "sheet[\"F10\"].value"
   ]
  },
  {
   "cell_type": "code",
   "execution_count": 33,
   "id": "4fd58c3e-1a15-4503-bb49-5a3f9d0d709b",
   "metadata": {},
   "outputs": [
    {
     "data": {
      "text/plain": [
       "<Cell 'Sheet'.B1>"
      ]
     },
     "execution_count": 33,
     "metadata": {},
     "output_type": "execute_result"
    }
   ],
   "source": [
    "sheet.cell(row=1, column=2)"
   ]
  },
  {
   "cell_type": "code",
   "execution_count": 34,
   "id": "b72909a0-9643-42c5-a33c-5ef65cd2423b",
   "metadata": {},
   "outputs": [
    {
     "data": {
      "text/plain": [
       "'world!'"
      ]
     },
     "execution_count": 34,
     "metadata": {},
     "output_type": "execute_result"
    }
   ],
   "source": [
    "sheet.cell(row=1, column=2).value"
   ]
  },
  {
   "cell_type": "code",
   "execution_count": 35,
   "id": "2f7264e9-2551-4554-8f28-cab774b4b542",
   "metadata": {},
   "outputs": [
    {
     "data": {
      "text/plain": [
       "((<Cell 'Sheet'.A1>, <Cell 'Sheet'.B1>, <Cell 'Sheet'.C1>),\n",
       " (<Cell 'Sheet'.A2>, <Cell 'Sheet'.B2>, <Cell 'Sheet'.C2>))"
      ]
     },
     "execution_count": 35,
     "metadata": {},
     "output_type": "execute_result"
    }
   ],
   "source": [
    "sheet[\"A1:C2\"]"
   ]
  },
  {
   "cell_type": "code",
   "execution_count": 36,
   "id": "51c306db-33c5-4309-9dc6-c39272b6fc9a",
   "metadata": {},
   "outputs": [
    {
     "data": {
      "text/plain": [
       "((<Cell 'Sheet'.A1>,\n",
       "  <Cell 'Sheet'.A2>,\n",
       "  <Cell 'Sheet'.A3>,\n",
       "  <Cell 'Sheet'.A4>,\n",
       "  <Cell 'Sheet'.A5>,\n",
       "  <Cell 'Sheet'.A6>,\n",
       "  <Cell 'Sheet'.A7>,\n",
       "  <Cell 'Sheet'.A8>,\n",
       "  <Cell 'Sheet'.A9>,\n",
       "  <Cell 'Sheet'.A10>),\n",
       " (<Cell 'Sheet'.B1>,\n",
       "  <Cell 'Sheet'.B2>,\n",
       "  <Cell 'Sheet'.B3>,\n",
       "  <Cell 'Sheet'.B4>,\n",
       "  <Cell 'Sheet'.B5>,\n",
       "  <Cell 'Sheet'.B6>,\n",
       "  <Cell 'Sheet'.B7>,\n",
       "  <Cell 'Sheet'.B8>,\n",
       "  <Cell 'Sheet'.B9>,\n",
       "  <Cell 'Sheet'.B10>))"
      ]
     },
     "execution_count": 36,
     "metadata": {},
     "output_type": "execute_result"
    }
   ],
   "source": [
    "sheet[\"A:B\"]"
   ]
  },
  {
   "cell_type": "code",
   "execution_count": 37,
   "id": "41cca7fb-4b6a-4848-a979-44b685438878",
   "metadata": {},
   "outputs": [
    {
     "data": {
      "text/plain": [
       "(<Cell 'Sheet'.A5>,\n",
       " <Cell 'Sheet'.B5>,\n",
       " <Cell 'Sheet'.C5>,\n",
       " <Cell 'Sheet'.D5>,\n",
       " <Cell 'Sheet'.E5>,\n",
       " <Cell 'Sheet'.F5>)"
      ]
     },
     "execution_count": 37,
     "metadata": {},
     "output_type": "execute_result"
    }
   ],
   "source": [
    "sheet[5]"
   ]
  },
  {
   "cell_type": "code",
   "execution_count": 38,
   "id": "9dc11cba-57f3-4a1d-bb54-5d0fea897454",
   "metadata": {},
   "outputs": [
    {
     "data": {
      "text/plain": [
       "['hello', 'world!', None, None, None, None]"
      ]
     },
     "execution_count": 38,
     "metadata": {},
     "output_type": "execute_result"
    }
   ],
   "source": [
    "[x.value for x in sheet[1] ]"
   ]
  },
  {
   "cell_type": "code",
   "execution_count": 80,
   "id": "368393de-4420-47a2-95ff-f91f9b2a5708",
   "metadata": {},
   "outputs": [
    {
     "name": "stdout",
     "output_type": "stream",
     "text": [
      "Total Rows: 14\n",
      "Total Columns: 6\n"
     ]
    }
   ],
   "source": [
    "print(\"Total Rows:\", sheet.max_row)\n",
    "print(\"Total Columns:\", sheet.max_column)"
   ]
  },
  {
   "cell_type": "code",
   "execution_count": 93,
   "id": "517c226c-d821-46a9-8a0b-baecb450045a",
   "metadata": {},
   "outputs": [
    {
     "data": {
      "text/plain": [
       "'A1:C14'"
      ]
     },
     "execution_count": 93,
     "metadata": {},
     "output_type": "execute_result"
    }
   ],
   "source": [
    "workbook[\"Sheet\"].dimensions"
   ]
  },
  {
   "cell_type": "code",
   "execution_count": 81,
   "id": "eceacbcc-21ce-4ed0-beb4-e665843d69d2",
   "metadata": {},
   "outputs": [
    {
     "name": "stdout",
     "output_type": "stream",
     "text": [
      "hello\n",
      "new row - variant 2\n",
      "None\n",
      "500\n",
      "600\n",
      "None\n",
      "= SUM(A4:A5)\n",
      "None\n",
      "None\n",
      "None\n",
      "1\n",
      "4\n",
      "1\n",
      "4\n"
     ]
    }
   ],
   "source": [
    "for i in range(1, sheet.max_row + 1): \n",
    "    cell = sheet.cell(row = i, column = 1) \n",
    "    print(cell.value) "
   ]
  },
  {
   "cell_type": "code",
   "execution_count": 41,
   "id": "0a236f9f-c2f8-46c6-9964-a2b7d6ae5df6",
   "metadata": {},
   "outputs": [
    {
     "name": "stdout",
     "output_type": "stream",
     "text": [
      "hello world!\n",
      "new row - variant 2 new col\n",
      "None None\n",
      "None None\n",
      "None None\n",
      "None None\n"
     ]
    }
   ],
   "source": [
    "cells = sheet['A1': 'B6']\n",
    "for cell1, cell2 in cells:\n",
    "    print(cell1.value, cell2.value)"
   ]
  },
  {
   "cell_type": "markdown",
   "id": "48c76acd-e6f6-42f2-8260-a8a22eb78173",
   "metadata": {},
   "source": [
    "## ADD Data to Spreadsheets"
   ]
  },
  {
   "cell_type": "code",
   "execution_count": 42,
   "id": "e9f58bb9-2bdb-4d9f-b217-9892691c4d54",
   "metadata": {},
   "outputs": [],
   "source": [
    "data = (\n",
    "    (1, 2, 3),\n",
    "    (4, 5, 6)\n",
    ")\n",
    "  \n",
    "for row in data:\n",
    "    sheet.append(row)\n",
    "    \n",
    "workbook.save(filename=f\"{PATH}hello_world.xlsx\")"
   ]
  },
  {
   "cell_type": "code",
   "execution_count": 61,
   "id": "6dd89f0f-af68-4639-85aa-2c9ab8268004",
   "metadata": {},
   "outputs": [],
   "source": [
    "data = [\n",
    "    [1, 2, 3],\n",
    "    [4, 5, 6]\n",
    "]\n",
    "  \n",
    "for row in data:\n",
    "    sheet.append(row)"
   ]
  },
  {
   "cell_type": "code",
   "execution_count": 43,
   "id": "cae1dae7-c2f6-4968-b81f-c4651d83dfc8",
   "metadata": {},
   "outputs": [
    {
     "name": "stdout",
     "output_type": "stream",
     "text": [
      "Total Rows: 12\n",
      "Total Columns: 6\n"
     ]
    }
   ],
   "source": [
    "print(\"Total Rows:\", sheet.max_row)\n",
    "print(\"Total Columns:\", sheet.max_column)"
   ]
  },
  {
   "cell_type": "code",
   "execution_count": 44,
   "id": "0651a62c-4f7f-4c3e-9a91-a0ea5e4e587a",
   "metadata": {},
   "outputs": [],
   "source": [
    "sheet['A4'] = 500\n",
    "sheet['A5'] = 600\n",
    "sheet['A7'] = '= SUM(A4:A5)'"
   ]
  },
  {
   "cell_type": "code",
   "execution_count": 97,
   "id": "069d261b-aa37-4f97-b3d0-9d5772e9b013",
   "metadata": {},
   "outputs": [],
   "source": [
    "from openpyxl.utils import FORMULAE\n",
    "#FORMULAE"
   ]
  },
  {
   "cell_type": "markdown",
   "id": "95366a59-71d1-4e90-85e6-733c268f6b0d",
   "metadata": {},
   "source": [
    "## Managing sheets"
   ]
  },
  {
   "cell_type": "code",
   "execution_count": 85,
   "id": "c90794fe-f91c-494c-aafb-28e442d0fb75",
   "metadata": {},
   "outputs": [
    {
     "data": {
      "text/plain": [
       "['Sheet']"
      ]
     },
     "execution_count": 85,
     "metadata": {},
     "output_type": "execute_result"
    }
   ],
   "source": [
    "workbook.sheetnames"
   ]
  },
  {
   "cell_type": "code",
   "execution_count": 86,
   "id": "a1eb2b73-1911-479f-adf5-c3d3fbc1f709",
   "metadata": {},
   "outputs": [
    {
     "data": {
      "text/plain": [
       "<Worksheet \"Sheet\">"
      ]
     },
     "execution_count": 86,
     "metadata": {},
     "output_type": "execute_result"
    }
   ],
   "source": [
    "products_sheet = workbook[\"Sheet\"]\n",
    "products_sheet"
   ]
  },
  {
   "cell_type": "code",
   "execution_count": 87,
   "id": "97b64bf0-774b-413a-91e7-f9962a387c96",
   "metadata": {},
   "outputs": [
    {
     "data": {
      "text/plain": [
       "['Sheet', 'Operations']"
      ]
     },
     "execution_count": 87,
     "metadata": {},
     "output_type": "execute_result"
    }
   ],
   "source": [
    "operations_sheet = workbook.create_sheet(\"Operations\")\n",
    "workbook.sheetnames"
   ]
  },
  {
   "cell_type": "code",
   "execution_count": 88,
   "id": "6e13a468-b936-4e6e-859e-cb0f8cff03b9",
   "metadata": {},
   "outputs": [
    {
     "data": {
      "text/plain": [
       "['HR', 'Sheet', 'Operations']"
      ]
     },
     "execution_count": 88,
     "metadata": {},
     "output_type": "execute_result"
    }
   ],
   "source": [
    "# You can also define the position to create the sheet at\n",
    "hr_sheet = workbook.create_sheet(\"HR\", 0)\n",
    "workbook.sheetnames"
   ]
  },
  {
   "cell_type": "code",
   "execution_count": 89,
   "id": "24633605-8551-403a-86b7-d2c9c4588dd0",
   "metadata": {},
   "outputs": [
    {
     "data": {
      "text/plain": [
       "['HR', 'Sheet']"
      ]
     },
     "execution_count": 89,
     "metadata": {},
     "output_type": "execute_result"
    }
   ],
   "source": [
    "# To remove them, just pass the sheet as an argument to the .remove()\n",
    "workbook.remove(operations_sheet)\n",
    "workbook.sheetnames"
   ]
  },
  {
   "cell_type": "code",
   "execution_count": 90,
   "id": "2d3de688-a7a3-4204-a83e-dbb8d0d67987",
   "metadata": {},
   "outputs": [
    {
     "data": {
      "text/plain": [
       "['HR', 'Sheet', 'Sheet Copy']"
      ]
     },
     "execution_count": 90,
     "metadata": {},
     "output_type": "execute_result"
    }
   ],
   "source": [
    "workbook.copy_worksheet(products_sheet)\n",
    "workbook.sheetnames"
   ]
  },
  {
   "cell_type": "markdown",
   "id": "1fea3e1f-2794-4e55-be87-3b2b2c3e5eef",
   "metadata": {},
   "source": [
    "## Managing cells, rows, columns"
   ]
  },
  {
   "cell_type": "code",
   "execution_count": 82,
   "id": "51faaab8-f2ed-4191-9572-f6417a42fa31",
   "metadata": {},
   "outputs": [],
   "source": [
    "# merge cells\n",
    "sheet.merge_cells('B3:D5')   \n",
    "sheet.cell(row = 3, column = 2).value = '9 cells join together.'"
   ]
  },
  {
   "cell_type": "code",
   "execution_count": 83,
   "id": "6fe50a2e-5971-4219-ad00-4e620e47ea52",
   "metadata": {},
   "outputs": [],
   "source": [
    "# unmerge cells\n",
    "sheet.unmerge_cells('B3:D5') "
   ]
  },
  {
   "cell_type": "code",
   "execution_count": 84,
   "id": "e09d6243-05bd-4844-a746-2e3bd6e3f570",
   "metadata": {},
   "outputs": [
    {
     "name": "stdout",
     "output_type": "stream",
     "text": [
      "hello\n",
      "new row - variant 2\n",
      "None\n",
      "500\n",
      "600\n",
      "None\n",
      "= SUM(A4:A5)\n",
      "None\n",
      "None\n",
      "None\n",
      "1\n",
      "4\n",
      "1\n",
      "4\n"
     ]
    }
   ],
   "source": [
    "# insert / delete\n",
    "# Insert a column before the existing column 1 (\"A\")\n",
    "sheet.insert_cols(idx=1)\n",
    "# Insert 5 columns between column 2 (\"B\") and 3 (\"C\")\n",
    "sheet.insert_cols(idx=3, amount=5)\n",
    "# Delete the created columns\n",
    "sheet.delete_cols(idx=3, amount=5)\n",
    "sheet.delete_cols(idx=1)\n",
    "# Insert a new row in the beginning\n",
    "sheet.insert_rows(idx=1)\n",
    "# Insert 3 new rows in the beginning\n",
    "sheet.insert_rows(idx=1, amount=3)\n",
    "# Delete the first 4 rows\n",
    "sheet.delete_rows(idx=1, amount=4)\n",
    "for i in range(1, sheet.max_row + 1): \n",
    "    cell = sheet.cell(row = i, column = 1) \n",
    "    print(cell.value) "
   ]
  },
  {
   "cell_type": "code",
   "execution_count": 91,
   "id": "489a7d93-60e7-47d5-88f2-b5f19e4c2afc",
   "metadata": {},
   "outputs": [],
   "source": [
    "# freeze rows\n",
    "sheet = workbook.active\n",
    "sheet.freeze_panes = \"C2\""
   ]
  },
  {
   "cell_type": "code",
   "execution_count": 98,
   "id": "38fc07bc-76aa-49b4-af48-2fa16d915357",
   "metadata": {},
   "outputs": [
    {
     "name": "stdout",
     "output_type": "stream",
     "text": [
      "A1:C14\n"
     ]
    }
   ],
   "source": [
    "# add auto filter\n",
    "sheet=workbook[\"Sheet\"]\n",
    "print(sheet.dimensions)\n",
    "sheet.auto_filter.ref = \"A1:C14\""
   ]
  },
  {
   "cell_type": "code",
   "execution_count": 99,
   "id": "f57c942f-9c52-4d6f-8632-b67b607ecda0",
   "metadata": {},
   "outputs": [],
   "source": [
    "# add styles\n",
    "from openpyxl.styles import Font, Color, Alignment, Border, Side\n",
    "\n",
    "# Create a few styles\n",
    "bold_font = Font(bold=True)\n",
    "big_red_text = Font(color=\"00FF0000\", size=20)\n",
    "center_aligned_text = Alignment(horizontal=\"center\")\n",
    "double_border_side = Side(border_style=\"double\")\n",
    "square_border = Border(top=double_border_side,\n",
    "                       right=double_border_side,\n",
    "                       bottom=double_border_side,\n",
    "                       left=double_border_side)\n",
    "# Style some cells!\n",
    "sheet[\"A2\"].font = bold_font\n",
    "sheet[\"A3\"].font = big_red_text\n",
    "sheet[\"A4\"].alignment = center_aligned_text\n",
    "sheet[\"A5\"].border = square_border\n",
    "workbook.save(filename=f\"{PATH}hello_world.xlsx\")"
   ]
  },
  {
   "cell_type": "code",
   "execution_count": 100,
   "id": "0852b03f-d9a9-4d3a-a2c4-78bd3891888b",
   "metadata": {},
   "outputs": [],
   "source": [
    "# add styles - way 2\n",
    "from openpyxl.styles import NamedStyle\n",
    "# Let's create a style template for the header row\n",
    "header = NamedStyle(name=\"header\")\n",
    "header.font = Font(bold=True)\n",
    "header.border = Border(bottom=Side(border_style=\"thin\"))\n",
    "header.alignment = Alignment(horizontal=\"center\", vertical=\"center\")\n",
    "\n",
    "# Now let's apply this to all first row (header) cells\n",
    "header_row = sheet[1]\n",
    "for cell in header_row:\n",
    "    cell.style = header\n",
    "workbook.save(filename=f\"{PATH}hello_world.xlsx\")"
   ]
  },
  {
   "cell_type": "code",
   "execution_count": 101,
   "id": "2d9e87cf-55a1-4cd4-ab99-caec1a70800d",
   "metadata": {},
   "outputs": [],
   "source": [
    "# Conditional Formatting\n",
    "from openpyxl.styles import PatternFill\n",
    "from openpyxl.styles.differential import DifferentialStyle\n",
    "from openpyxl.formatting.rule import Rule\n",
    "\n",
    "red_background = PatternFill(fgColor=\"00FF0000\")\n",
    "diff_style = DifferentialStyle(fill=red_background)\n",
    "rule = Rule(type=\"expression\", dxf=diff_style)\n",
    "rule.formula = [\"$H1<3\"]\n",
    "sheet.conditional_formatting.add(\"A1:O100\", rule)\n",
    "workbook.save(filename=f\"{PATH}hello_world.xlsx\")"
   ]
  },
  {
   "cell_type": "code",
   "execution_count": 102,
   "id": "08586d50-93b9-4aac-b39f-4e9ed357fe4d",
   "metadata": {},
   "outputs": [],
   "source": [
    "# ColorScale\n",
    "\n",
    "from openpyxl.formatting.rule import ColorScaleRule\n",
    "color_scale_rule = ColorScaleRule(start_type=\"min\",\n",
    "                                  start_color=\"00FF0000\",  # Red\n",
    "                                  end_type=\"max\",\n",
    "                                  end_color=\"0000FF00\")  # Green\n",
    "\n",
    "# Again, let's add this gradient to the star ratings, column \"H\"\n",
    "sheet.conditional_formatting.add(\"H2:H100\", color_scale_rule)"
   ]
  },
  {
   "cell_type": "code",
   "execution_count": 103,
   "id": "59bf4f3f-05f0-44a4-8cd5-43c700597205",
   "metadata": {},
   "outputs": [],
   "source": [
    "# ColorScale 2\n",
    "color_scale_rule = ColorScaleRule(start_type=\"num\",\n",
    "                                  start_value=1,\n",
    "                                  start_color=\"00FF0000\",  # Red\n",
    "                                  mid_type=\"num\",\n",
    "                                  mid_value=3,\n",
    "                                  mid_color=\"00FFFF00\",  # Yellow\n",
    "                                  end_type=\"num\",\n",
    "                                  end_value=5,\n",
    "                                  end_color=\"0000FF00\")  # Green\n",
    "\n",
    "# Again, let's add this gradient to the star ratings, column \"H\"\n",
    "sheet.conditional_formatting.add(\"H2:H100\", color_scale_rule)"
   ]
  },
  {
   "cell_type": "code",
   "execution_count": 104,
   "id": "50fd3045-b334-48d1-b572-ca3bf78b88ae",
   "metadata": {},
   "outputs": [],
   "source": [
    "# IconSet \n",
    "# https://openpyxl.readthedocs.io/en/stable/formatting.html#iconset\n",
    "from openpyxl.formatting.rule import IconSetRule\n",
    "\n",
    "icon_set_rule = IconSetRule(\"5Arrows\", \"num\", [1, 2, 3, 4, 5])\n",
    "sheet.conditional_formatting.add(\"H2:H100\", icon_set_rule)"
   ]
  },
  {
   "cell_type": "code",
   "execution_count": 105,
   "id": "ed426de8-0f78-4453-91ba-fc6bc0a6bc72",
   "metadata": {},
   "outputs": [],
   "source": [
    "# DataBar\n",
    "from openpyxl.formatting.rule import DataBarRule\n",
    "\n",
    "data_bar_rule = DataBarRule(start_type=\"num\",\n",
    "                            start_value=1,\n",
    "                            end_type=\"num\",\n",
    "                            end_value=\"5\",\n",
    "                            color=\"0000FF00\")  # Green\n",
    "sheet.conditional_formatting.add(\"H2:H100\", data_bar_rule)"
   ]
  },
  {
   "cell_type": "markdown",
   "id": "cc54a9b0-0c65-471f-b272-1a4407f39d8b",
   "metadata": {},
   "source": [
    "## Adding charts"
   ]
  },
  {
   "cell_type": "code",
   "execution_count": 107,
   "id": "565edcb5-c830-4452-b2f4-9bbe0c7b830d",
   "metadata": {},
   "outputs": [],
   "source": [
    "from openpyxl.chart import BarChart, Reference\n",
    "operations_sheet = workbook.create_sheet(\"Operations\")\n",
    "\n",
    "rows = [\n",
    "    [\"Product\", \"Online\", \"Store\"],\n",
    "    [1, 30, 45],\n",
    "    [2, 40, 30],\n",
    "    [3, 40, 25],\n",
    "    [4, 50, 30],\n",
    "    [5, 30, 25],\n",
    "    [6, 25, 35],\n",
    "    [7, 20, 40],\n",
    "]\n",
    "\n",
    "for row in rows:\n",
    "    operations_sheet.append(row)"
   ]
  },
  {
   "cell_type": "code",
   "execution_count": 111,
   "id": "ff27642d-2818-420a-a125-389b57b16042",
   "metadata": {},
   "outputs": [],
   "source": [
    "chart = BarChart()\n",
    "data = Reference(worksheet=operations_sheet,\n",
    "                 min_row=1,\n",
    "                 max_row=8,\n",
    "                 min_col=2,\n",
    "                 max_col=3)\n",
    "\n",
    "chart.add_data(data, titles_from_data=True)\n",
    "operations_sheet.add_chart(chart, \"E2\")"
   ]
  },
  {
   "cell_type": "code",
   "execution_count": 109,
   "id": "be775538-9cf9-4132-8704-f5127d182228",
   "metadata": {},
   "outputs": [],
   "source": [
    "import random\n",
    "from openpyxl.chart import LineChart, Reference\n",
    "\n",
    "line_sheet = workbook.create_sheet(\"Lines\")\n",
    "rows = [\n",
    "    [\"\", \"January\", \"February\", \"March\", \"April\",\n",
    "    \"May\", \"June\", \"July\", \"August\", \"September\",\n",
    "     \"October\", \"November\", \"December\"],\n",
    "    [1, ],\n",
    "    [2, ],\n",
    "    [3, ],\n",
    "]\n",
    "\n",
    "for row in rows:\n",
    "    line_sheet.append(row)\n",
    "    \n",
    "for row in line_sheet.iter_rows(min_row=2,\n",
    "                           max_row=4,\n",
    "                           min_col=2,\n",
    "                           max_col=13):\n",
    "    for cell in row:\n",
    "        cell.value = random.randrange(5, 100)\n"
   ]
  },
  {
   "cell_type": "code",
   "execution_count": 117,
   "id": "7f2ff4b1-9ebe-44cb-b17d-3d0e217b4033",
   "metadata": {},
   "outputs": [],
   "source": [
    "chart = LineChart()\n",
    "data = Reference(worksheet=line_sheet,\n",
    "                 min_row=2,\n",
    "                 max_row=4,\n",
    "                 min_col=1,\n",
    "                 max_col=13)\n",
    "\n",
    "chart.add_data(data, from_rows=True, titles_from_data=True)\n",
    "cats = Reference(worksheet=line_sheet,\n",
    "                 min_row=1,\n",
    "                 max_row=1,\n",
    "                 min_col=2,\n",
    "                 max_col=13)\n",
    "chart.set_categories(cats)\n",
    "chart.x_axis.title = \"Months\"\n",
    "chart.y_axis.title = \"Sales (per unit)\"\n",
    "# You can play with this by choosing any number between 1 and 48\n",
    "chart.style = 24\n",
    "line_sheet.add_chart(chart, \"C6\")\n",
    "\n",
    "workbook.save(filename=f\"{PATH}hello_world.xlsx\")"
   ]
  },
  {
   "cell_type": "code",
   "execution_count": 114,
   "id": "47d3ec7f-bfeb-426a-aeb6-e5f4dc8453ad",
   "metadata": {},
   "outputs": [],
   "source": [
    "chart = LineChart()\n",
    "data = Reference(worksheet=line_sheet,\n",
    "                 min_row=2,\n",
    "                 max_row=4,\n",
    "                 min_col=1,\n",
    "                 max_col=13)\n",
    "\n",
    "chart.add_data(data, from_rows=False, titles_from_data=True)\n",
    "line_sheet.add_chart(chart, \"C21\")\n",
    "\n",
    "workbook.save(filename=f\"{PATH}hello_world.xlsx\")"
   ]
  },
  {
   "cell_type": "markdown",
   "id": "3ca48dbf-dfdb-4b51-9394-55da353494e8",
   "metadata": {},
   "source": [
    "## Iteration cells"
   ]
  },
  {
   "cell_type": "code",
   "execution_count": 50,
   "id": "0c517d38-442f-4e6b-b334-8d67a1b73764",
   "metadata": {},
   "outputs": [
    {
     "name": "stdout",
     "output_type": "stream",
     "text": [
      "(<Cell 'Sheet'.A1>, <Cell 'Sheet'.B1>, <Cell 'Sheet'.C1>)\n",
      "(<Cell 'Sheet'.A2>, <Cell 'Sheet'.B2>, <Cell 'Sheet'.C2>)\n"
     ]
    }
   ],
   "source": [
    "for row in sheet.iter_rows(min_row=1,max_row=2,min_col=1,max_col=3):\n",
    "    print(row)"
   ]
  },
  {
   "cell_type": "code",
   "execution_count": 51,
   "id": "e2418334-78a3-4358-ba3a-c86cf261c2bd",
   "metadata": {},
   "outputs": [
    {
     "name": "stdout",
     "output_type": "stream",
     "text": [
      "(<Cell 'Sheet'.A1>, <Cell 'Sheet'.A2>)\n",
      "(<Cell 'Sheet'.B1>, <Cell 'Sheet'.B2>)\n",
      "(<Cell 'Sheet'.C1>, <Cell 'Sheet'.C2>)\n"
     ]
    }
   ],
   "source": [
    "for column in sheet.iter_cols(min_row=1,max_row=2,min_col=1,max_col=3):\n",
    "    print(column)"
   ]
  },
  {
   "cell_type": "code",
   "execution_count": 52,
   "id": "99c4a6cf-b04b-451f-ad5c-7b77eedf8f52",
   "metadata": {},
   "outputs": [
    {
     "name": "stdout",
     "output_type": "stream",
     "text": [
      "('hello', 'world!', None)\n",
      "('new row - variant 2', 'new col', None)\n"
     ]
    }
   ],
   "source": [
    "# get value\n",
    "for row in sheet.iter_rows(min_row=1,max_row=2,min_col=1,max_col=3,values_only=True):\n",
    "    print(row)"
   ]
  },
  {
   "cell_type": "code",
   "execution_count": 53,
   "id": "0fa87be3-e88e-4380-a210-11b72cb488be",
   "metadata": {},
   "outputs": [
    {
     "name": "stdout",
     "output_type": "stream",
     "text": [
      "(<Cell 'Sheet'.A1>, <Cell 'Sheet'.B1>, <Cell 'Sheet'.C1>, <Cell 'Sheet'.D1>, <Cell 'Sheet'.E1>, <Cell 'Sheet'.F1>)\n",
      "(<Cell 'Sheet'.A2>, <Cell 'Sheet'.B2>, <Cell 'Sheet'.C2>, <Cell 'Sheet'.D2>, <Cell 'Sheet'.E2>, <Cell 'Sheet'.F2>)\n",
      "(<Cell 'Sheet'.A3>, <Cell 'Sheet'.B3>, <Cell 'Sheet'.C3>, <Cell 'Sheet'.D3>, <Cell 'Sheet'.E3>, <Cell 'Sheet'.F3>)\n",
      "(<Cell 'Sheet'.A4>, <Cell 'Sheet'.B4>, <Cell 'Sheet'.C4>, <Cell 'Sheet'.D4>, <Cell 'Sheet'.E4>, <Cell 'Sheet'.F4>)\n",
      "(<Cell 'Sheet'.A5>, <Cell 'Sheet'.B5>, <Cell 'Sheet'.C5>, <Cell 'Sheet'.D5>, <Cell 'Sheet'.E5>, <Cell 'Sheet'.F5>)\n",
      "(<Cell 'Sheet'.A6>, <Cell 'Sheet'.B6>, <Cell 'Sheet'.C6>, <Cell 'Sheet'.D6>, <Cell 'Sheet'.E6>, <Cell 'Sheet'.F6>)\n",
      "(<Cell 'Sheet'.A7>, <Cell 'Sheet'.B7>, <Cell 'Sheet'.C7>, <Cell 'Sheet'.D7>, <Cell 'Sheet'.E7>, <Cell 'Sheet'.F7>)\n",
      "(<Cell 'Sheet'.A8>, <Cell 'Sheet'.B8>, <Cell 'Sheet'.C8>, <Cell 'Sheet'.D8>, <Cell 'Sheet'.E8>, <Cell 'Sheet'.F8>)\n",
      "(<Cell 'Sheet'.A9>, <Cell 'Sheet'.B9>, <Cell 'Sheet'.C9>, <Cell 'Sheet'.D9>, <Cell 'Sheet'.E9>, <Cell 'Sheet'.F9>)\n",
      "(<Cell 'Sheet'.A10>, <Cell 'Sheet'.B10>, <Cell 'Sheet'.C10>, <Cell 'Sheet'.D10>, <Cell 'Sheet'.E10>, <Cell 'Sheet'.F10>)\n",
      "(<Cell 'Sheet'.A11>, <Cell 'Sheet'.B11>, <Cell 'Sheet'.C11>, <Cell 'Sheet'.D11>, <Cell 'Sheet'.E11>, <Cell 'Sheet'.F11>)\n",
      "(<Cell 'Sheet'.A12>, <Cell 'Sheet'.B12>, <Cell 'Sheet'.C12>, <Cell 'Sheet'.D12>, <Cell 'Sheet'.E12>, <Cell 'Sheet'.F12>)\n"
     ]
    }
   ],
   "source": [
    "# all rows or columns\n",
    "for row in sheet.rows:\n",
    "    print(row)"
   ]
  },
  {
   "cell_type": "markdown",
   "id": "00f8d167-22e6-4dba-9964-89fd39b50929",
   "metadata": {},
   "source": [
    "# ADVANCED Function"
   ]
  },
  {
   "cell_type": "markdown",
   "id": "ea876fb6-e521-4f30-8ede-129d792a6f7c",
   "metadata": {},
   "source": [
    "## Convert data from .parquet to Excel file"
   ]
  },
  {
   "cell_type": "code",
   "execution_count": 68,
   "id": "2ce88d8f-c68f-4e36-a4a9-fd8e3a20ac14",
   "metadata": {},
   "outputs": [],
   "source": [
    "def from_parquet_to_excel(file_parquet,file_excel):\n",
    "    df=pd.read_parquet(file_parquet)\n",
    "    print(df.shape)\n",
    "    workbook = openpyxl.Workbook()\n",
    "    sheet = workbook.active\n",
    "    for row in dataframe_to_rows(df, index=False, header=True):\n",
    "        sheet.append(row)\n",
    "    workbook.save(filename=file_excel)\n",
    "    print(\"Total Rows:\", sheet.max_row)\n",
    "    print(\"Total Columns:\", sheet.max_column)\n",
    "    print(f\"file parquet size, mb: {round(os.path.getsize(file_parquet)/(1024*1024),1)}\")\n",
    "    print(f\"file excel size, mb: {round(os.path.getsize(file_excel)/(1024*1024),1)}\")"
   ]
  },
  {
   "cell_type": "code",
   "execution_count": 69,
   "id": "21789d9f-a02f-4379-8641-eaf796cc6402",
   "metadata": {},
   "outputs": [
    {
     "name": "stdout",
     "output_type": "stream",
     "text": [
      "(112650, 7)\n",
      "Total Rows: 112651\n",
      "Total Columns: 7\n",
      "file parquet size, mb: 6.3\n",
      "file excel size, mb: 9.9\n",
      "CPU times: total: 14.5 s\n",
      "Wall time: 14.5 s\n"
     ]
    }
   ],
   "source": [
    "%%time\n",
    "file_parquet=f'../../data/olist/olist_order_items_dataset.parquet'\n",
    "file_excel=f\"{PATH}olist_order_items.xlsx\"\n",
    "_ = from_parquet_to_excel(file_parquet,file_excel)"
   ]
  },
  {
   "cell_type": "code",
   "execution_count": 119,
   "id": "c81c3d15-9762-4c98-ba06-f22de0839e0b",
   "metadata": {},
   "outputs": [
    {
     "name": "stdout",
     "output_type": "stream",
     "text": [
      "(32951, 9)\n",
      "Total Rows: 32952\n",
      "Total Columns: 9\n",
      "file parquet size, mb: 1.4\n",
      "file excel size, mb: 2.0\n",
      "CPU times: total: 6 s\n",
      "Wall time: 5.99 s\n"
     ]
    }
   ],
   "source": [
    "%%time\n",
    "file_parquet=f'../../data/olist/olist_products_dataset.parquet'\n",
    "file_excel=f\"{PATH}olist_products.xlsx\"\n",
    "_ = from_parquet_to_excel(file_parquet,file_excel)"
   ]
  },
  {
   "cell_type": "markdown",
   "id": "b157002a-f7c3-4390-b15d-4fc7035da84f",
   "metadata": {},
   "source": [
    "## Convert data from Excel file to pandas dataframe"
   ]
  },
  {
   "cell_type": "code",
   "execution_count": 76,
   "id": "50631c5b-1867-4f5a-b7a6-d690f0506c81",
   "metadata": {},
   "outputs": [],
   "source": [
    "def from_excel_to_df(file_excel):\n",
    "    workbook = openpyxl.load_workbook(filename=file_excel)\n",
    "    sheet = workbook.active\n",
    "    values = sheet.values\n",
    "    df = pd.DataFrame(values)\n",
    "    df.columns = df.iloc[0] \n",
    "    df = df[1:]\n",
    "    return df"
   ]
  },
  {
   "cell_type": "code",
   "execution_count": 77,
   "id": "2614da49-6adb-4e95-98b5-2c81e7440e61",
   "metadata": {},
   "outputs": [
    {
     "name": "stdout",
     "output_type": "stream",
     "text": [
      "(112650, 7)\n",
      "CPU times: total: 16.3 s\n",
      "Wall time: 16.3 s\n"
     ]
    },
    {
     "data": {
      "text/html": [
       "<div>\n",
       "<style scoped>\n",
       "    .dataframe tbody tr th:only-of-type {\n",
       "        vertical-align: middle;\n",
       "    }\n",
       "\n",
       "    .dataframe tbody tr th {\n",
       "        vertical-align: top;\n",
       "    }\n",
       "\n",
       "    .dataframe thead th {\n",
       "        text-align: right;\n",
       "    }\n",
       "</style>\n",
       "<table border=\"1\" class=\"dataframe\">\n",
       "  <thead>\n",
       "    <tr style=\"text-align: right;\">\n",
       "      <th></th>\n",
       "      <th>order_id</th>\n",
       "      <th>order_item_id</th>\n",
       "      <th>product_id</th>\n",
       "      <th>seller_id</th>\n",
       "      <th>shipping_limit_date</th>\n",
       "      <th>price</th>\n",
       "      <th>freight_value</th>\n",
       "    </tr>\n",
       "  </thead>\n",
       "  <tbody>\n",
       "    <tr>\n",
       "      <th>1</th>\n",
       "      <td>00010242fe8c5a6d1ba2dd792cb16214</td>\n",
       "      <td>1</td>\n",
       "      <td>4244733e06e7ecb4970a6e2683c13e61</td>\n",
       "      <td>48436dade18ac8b2bce089ec2a041202</td>\n",
       "      <td>2017-09-19 09:45:35</td>\n",
       "      <td>58.9</td>\n",
       "      <td>13.29</td>\n",
       "    </tr>\n",
       "    <tr>\n",
       "      <th>2</th>\n",
       "      <td>00018f77f2f0320c557190d7a144bdd3</td>\n",
       "      <td>1</td>\n",
       "      <td>e5f2d52b802189ee658865ca93d83a8f</td>\n",
       "      <td>dd7ddc04e1b6c2c614352b383efe2d36</td>\n",
       "      <td>2017-05-03 11:05:13</td>\n",
       "      <td>239.9</td>\n",
       "      <td>19.93</td>\n",
       "    </tr>\n",
       "    <tr>\n",
       "      <th>3</th>\n",
       "      <td>000229ec398224ef6ca0657da4fc703e</td>\n",
       "      <td>1</td>\n",
       "      <td>c777355d18b72b67abbeef9df44fd0fd</td>\n",
       "      <td>5b51032eddd242adc84c38acab88f23d</td>\n",
       "      <td>2018-01-18 14:48:30</td>\n",
       "      <td>199</td>\n",
       "      <td>17.87</td>\n",
       "    </tr>\n",
       "    <tr>\n",
       "      <th>4</th>\n",
       "      <td>00024acbcdf0a6daa1e931b038114c75</td>\n",
       "      <td>1</td>\n",
       "      <td>7634da152a4610f1595efa32f14722fc</td>\n",
       "      <td>9d7a1d34a5052409006425275ba1c2b4</td>\n",
       "      <td>2018-08-15 10:10:18</td>\n",
       "      <td>12.99</td>\n",
       "      <td>12.79</td>\n",
       "    </tr>\n",
       "    <tr>\n",
       "      <th>5</th>\n",
       "      <td>00042b26cf59d7ce69dfabb4e55b4fd9</td>\n",
       "      <td>1</td>\n",
       "      <td>ac6c3623068f30de03045865e4e10089</td>\n",
       "      <td>df560393f3a51e74553ab94004ba5c87</td>\n",
       "      <td>2017-02-13 13:57:51</td>\n",
       "      <td>199.9</td>\n",
       "      <td>18.14</td>\n",
       "    </tr>\n",
       "  </tbody>\n",
       "</table>\n",
       "</div>"
      ],
      "text/plain": [
       "0                          order_id order_item_id  \\\n",
       "1  00010242fe8c5a6d1ba2dd792cb16214             1   \n",
       "2  00018f77f2f0320c557190d7a144bdd3             1   \n",
       "3  000229ec398224ef6ca0657da4fc703e             1   \n",
       "4  00024acbcdf0a6daa1e931b038114c75             1   \n",
       "5  00042b26cf59d7ce69dfabb4e55b4fd9             1   \n",
       "\n",
       "0                        product_id                         seller_id  \\\n",
       "1  4244733e06e7ecb4970a6e2683c13e61  48436dade18ac8b2bce089ec2a041202   \n",
       "2  e5f2d52b802189ee658865ca93d83a8f  dd7ddc04e1b6c2c614352b383efe2d36   \n",
       "3  c777355d18b72b67abbeef9df44fd0fd  5b51032eddd242adc84c38acab88f23d   \n",
       "4  7634da152a4610f1595efa32f14722fc  9d7a1d34a5052409006425275ba1c2b4   \n",
       "5  ac6c3623068f30de03045865e4e10089  df560393f3a51e74553ab94004ba5c87   \n",
       "\n",
       "0  shipping_limit_date  price freight_value  \n",
       "1  2017-09-19 09:45:35   58.9         13.29  \n",
       "2  2017-05-03 11:05:13  239.9         19.93  \n",
       "3  2018-01-18 14:48:30    199         17.87  \n",
       "4  2018-08-15 10:10:18  12.99         12.79  \n",
       "5  2017-02-13 13:57:51  199.9         18.14  "
      ]
     },
     "execution_count": 77,
     "metadata": {},
     "output_type": "execute_result"
    }
   ],
   "source": [
    "%%time\n",
    "file_excel=f\"{PATH}olist_order_items.xlsx\"\n",
    "df=from_excel_to_df(file_excel)\n",
    "print(df.shape)\n",
    "df.head()"
   ]
  },
  {
   "cell_type": "code",
   "execution_count": 133,
   "id": "b9449493-a724-4564-a603-2c80168fda1a",
   "metadata": {},
   "outputs": [
    {
     "name": "stdout",
     "output_type": "stream",
     "text": [
      "(32951, 9)\n",
      "CPU times: total: 5.36 s\n",
      "Wall time: 5.37 s\n"
     ]
    },
    {
     "data": {
      "text/html": [
       "<div>\n",
       "<style scoped>\n",
       "    .dataframe tbody tr th:only-of-type {\n",
       "        vertical-align: middle;\n",
       "    }\n",
       "\n",
       "    .dataframe tbody tr th {\n",
       "        vertical-align: top;\n",
       "    }\n",
       "\n",
       "    .dataframe thead th {\n",
       "        text-align: right;\n",
       "    }\n",
       "</style>\n",
       "<table border=\"1\" class=\"dataframe\">\n",
       "  <thead>\n",
       "    <tr style=\"text-align: right;\">\n",
       "      <th></th>\n",
       "      <th>product_id</th>\n",
       "      <th>product_category_name</th>\n",
       "      <th>product_name_lenght</th>\n",
       "      <th>product_description_lenght</th>\n",
       "      <th>product_photos_qty</th>\n",
       "      <th>product_weight_g</th>\n",
       "      <th>product_length_cm</th>\n",
       "      <th>product_height_cm</th>\n",
       "      <th>product_width_cm</th>\n",
       "    </tr>\n",
       "  </thead>\n",
       "  <tbody>\n",
       "    <tr>\n",
       "      <th>1</th>\n",
       "      <td>1e9e8ef04dbcff4541ed26657ea517e5</td>\n",
       "      <td>perfumaria</td>\n",
       "      <td>40</td>\n",
       "      <td>287</td>\n",
       "      <td>1</td>\n",
       "      <td>225</td>\n",
       "      <td>16</td>\n",
       "      <td>10</td>\n",
       "      <td>14</td>\n",
       "    </tr>\n",
       "    <tr>\n",
       "      <th>2</th>\n",
       "      <td>3aa071139cb16b67ca9e5dea641aaa2f</td>\n",
       "      <td>artes</td>\n",
       "      <td>44</td>\n",
       "      <td>276</td>\n",
       "      <td>1</td>\n",
       "      <td>1000</td>\n",
       "      <td>30</td>\n",
       "      <td>18</td>\n",
       "      <td>20</td>\n",
       "    </tr>\n",
       "    <tr>\n",
       "      <th>3</th>\n",
       "      <td>96bd76ec8810374ed1b65e291975717f</td>\n",
       "      <td>esporte_lazer</td>\n",
       "      <td>46</td>\n",
       "      <td>250</td>\n",
       "      <td>1</td>\n",
       "      <td>154</td>\n",
       "      <td>18</td>\n",
       "      <td>9</td>\n",
       "      <td>15</td>\n",
       "    </tr>\n",
       "    <tr>\n",
       "      <th>4</th>\n",
       "      <td>cef67bcfe19066a932b7673e239eb23d</td>\n",
       "      <td>bebes</td>\n",
       "      <td>27</td>\n",
       "      <td>261</td>\n",
       "      <td>1</td>\n",
       "      <td>371</td>\n",
       "      <td>26</td>\n",
       "      <td>4</td>\n",
       "      <td>26</td>\n",
       "    </tr>\n",
       "    <tr>\n",
       "      <th>5</th>\n",
       "      <td>9dc1a7de274444849c219cff195d0b71</td>\n",
       "      <td>utilidades_domesticas</td>\n",
       "      <td>37</td>\n",
       "      <td>402</td>\n",
       "      <td>4</td>\n",
       "      <td>625</td>\n",
       "      <td>20</td>\n",
       "      <td>17</td>\n",
       "      <td>13</td>\n",
       "    </tr>\n",
       "  </tbody>\n",
       "</table>\n",
       "</div>"
      ],
      "text/plain": [
       "0                        product_id  product_category_name  \\\n",
       "1  1e9e8ef04dbcff4541ed26657ea517e5             perfumaria   \n",
       "2  3aa071139cb16b67ca9e5dea641aaa2f                  artes   \n",
       "3  96bd76ec8810374ed1b65e291975717f          esporte_lazer   \n",
       "4  cef67bcfe19066a932b7673e239eb23d                  bebes   \n",
       "5  9dc1a7de274444849c219cff195d0b71  utilidades_domesticas   \n",
       "\n",
       "0 product_name_lenght product_description_lenght product_photos_qty  \\\n",
       "1                  40                        287                  1   \n",
       "2                  44                        276                  1   \n",
       "3                  46                        250                  1   \n",
       "4                  27                        261                  1   \n",
       "5                  37                        402                  4   \n",
       "\n",
       "0 product_weight_g product_length_cm product_height_cm product_width_cm  \n",
       "1              225                16                10               14  \n",
       "2             1000                30                18               20  \n",
       "3              154                18                 9               15  \n",
       "4              371                26                 4               26  \n",
       "5              625                20                17               13  "
      ]
     },
     "execution_count": 133,
     "metadata": {},
     "output_type": "execute_result"
    }
   ],
   "source": [
    "%%time\n",
    "file_excel=f\"{PATH}olist_products.xlsx\"\n",
    "df_prod=from_excel_to_df(file_excel)\n",
    "print(df_prod.shape)\n",
    "df_prod.head()"
   ]
  },
  {
   "cell_type": "markdown",
   "id": "ad9c5317-3b6a-4c9f-adcd-33352b52a85f",
   "metadata": {},
   "source": [
    "## USE DataClasses for get data from Excel"
   ]
  },
  {
   "cell_type": "markdown",
   "id": "a7b5ccf1-db29-43cd-a8f3-e5f24ca1a5b8",
   "metadata": {},
   "source": [
    "### STEP 1. Create 'classes.py'"
   ]
  },
  {
   "cell_type": "code",
   "execution_count": 166,
   "id": "2aad24bd-26ba-457b-ba29-dc501f05d53e",
   "metadata": {},
   "outputs": [],
   "source": [
    "import datetime\n",
    "from dataclasses import dataclass\n",
    "\n",
    "@dataclass\n",
    "class OrderItem:\n",
    "    order_id: str\n",
    "    order_item_id: int\n",
    "    product_id: str\n",
    "    seller_id: str\n",
    "    shipping_limit_date: datetime.datetime\n",
    "    price: float\n",
    "    freight_value: float\n",
    "\n",
    "@dataclass\n",
    "class Product:\n",
    "    product_id: str\n",
    "    product_category_name: str\n",
    "    product_name_lenght: int\n",
    "    product_description_lenght: int\n",
    "    product_photos_qty: int\n",
    "    product_weight_g: int\n",
    "    product_length_cm: int\n",
    "    product_height_cm: int\n",
    "    product_width_cm: int"
   ]
  },
  {
   "cell_type": "markdown",
   "id": "8fd1c376-6d76-4c8f-9128-f51208e70617",
   "metadata": {},
   "source": [
    "### STEP 2. Create 'mapping.py' (column location (zero-indexed) on the spreadsheet)"
   ]
  },
  {
   "cell_type": "code",
   "execution_count": 153,
   "id": "f914b383-5842-4fae-9d00-d3f4ab491959",
   "metadata": {},
   "outputs": [],
   "source": [
    "# OrderItems:\n",
    "ORDIT_ORDER_ID = 0\n",
    "ORDIT_ORDER_ITEM_ID = 1\n",
    "ORDIT_PRODUCT_ID = 2\n",
    "ORDIT_SELLER_ID = 3\n",
    "ORDIT_SHIPPING_LIMIT_DATE = 4\n",
    "ORDIT_PRICE = 5\n",
    "ORDIT_FREIGHT_VALUE = 6\n",
    "\n",
    "# Products:\n",
    "PROD_PRODUCT_ID = 0\n",
    "PROD_PRODUCT_CATEGORY_NAME = 1\n",
    "PROD_PRODUCT_NAME_LENGHT = 2\n",
    "PROD_PRODUCT_DESCRIPTION_LENGHT = 3\n",
    "PROD_PRODUCT_PHOTOS_QTY = 4\n",
    "PROD_PRODUCT_WEIGHT_G = 5\n",
    "PROD_PRODUCT_LENGTH_CM = 6\n",
    "PROD_PRODUCT_HEIGHT_CM = 7\n",
    "PROD_PRODUCT_WIDTH_CM = 8"
   ]
  },
  {
   "cell_type": "markdown",
   "id": "73a05fd0-aae4-4130-a658-db22195c8d75",
   "metadata": {},
   "source": [
    "### STEP 3. Get data from Excel to Dataclasses"
   ]
  },
  {
   "cell_type": "code",
   "execution_count": 164,
   "id": "4d83d2a8-dc38-41b8-9887-31e6e962e8a3",
   "metadata": {},
   "outputs": [
    {
     "name": "stdout",
     "output_type": "stream",
     "text": [
      "(112650, 7)\n",
      "CPU times: total: 18 s\n",
      "Wall time: 18.1 s\n"
     ]
    },
    {
     "data": {
      "text/html": [
       "<div>\n",
       "<style scoped>\n",
       "    .dataframe tbody tr th:only-of-type {\n",
       "        vertical-align: middle;\n",
       "    }\n",
       "\n",
       "    .dataframe tbody tr th {\n",
       "        vertical-align: top;\n",
       "    }\n",
       "\n",
       "    .dataframe thead th {\n",
       "        text-align: right;\n",
       "    }\n",
       "</style>\n",
       "<table border=\"1\" class=\"dataframe\">\n",
       "  <thead>\n",
       "    <tr style=\"text-align: right;\">\n",
       "      <th></th>\n",
       "      <th>order_id</th>\n",
       "      <th>order_item_id</th>\n",
       "      <th>product_id</th>\n",
       "      <th>seller_id</th>\n",
       "      <th>shipping_limit_date</th>\n",
       "      <th>price</th>\n",
       "      <th>freight_value</th>\n",
       "    </tr>\n",
       "  </thead>\n",
       "  <tbody>\n",
       "    <tr>\n",
       "      <th>0</th>\n",
       "      <td>00010242fe8c5a6d1ba2dd792cb16214</td>\n",
       "      <td>1</td>\n",
       "      <td>4244733e06e7ecb4970a6e2683c13e61</td>\n",
       "      <td>48436dade18ac8b2bce089ec2a041202</td>\n",
       "      <td>2017-09-19 09:45:35</td>\n",
       "      <td>58.90</td>\n",
       "      <td>13.29</td>\n",
       "    </tr>\n",
       "    <tr>\n",
       "      <th>1</th>\n",
       "      <td>00018f77f2f0320c557190d7a144bdd3</td>\n",
       "      <td>1</td>\n",
       "      <td>e5f2d52b802189ee658865ca93d83a8f</td>\n",
       "      <td>dd7ddc04e1b6c2c614352b383efe2d36</td>\n",
       "      <td>2017-05-03 11:05:13</td>\n",
       "      <td>239.90</td>\n",
       "      <td>19.93</td>\n",
       "    </tr>\n",
       "    <tr>\n",
       "      <th>2</th>\n",
       "      <td>000229ec398224ef6ca0657da4fc703e</td>\n",
       "      <td>1</td>\n",
       "      <td>c777355d18b72b67abbeef9df44fd0fd</td>\n",
       "      <td>5b51032eddd242adc84c38acab88f23d</td>\n",
       "      <td>2018-01-18 14:48:30</td>\n",
       "      <td>199.00</td>\n",
       "      <td>17.87</td>\n",
       "    </tr>\n",
       "    <tr>\n",
       "      <th>3</th>\n",
       "      <td>00024acbcdf0a6daa1e931b038114c75</td>\n",
       "      <td>1</td>\n",
       "      <td>7634da152a4610f1595efa32f14722fc</td>\n",
       "      <td>9d7a1d34a5052409006425275ba1c2b4</td>\n",
       "      <td>2018-08-15 10:10:18</td>\n",
       "      <td>12.99</td>\n",
       "      <td>12.79</td>\n",
       "    </tr>\n",
       "    <tr>\n",
       "      <th>4</th>\n",
       "      <td>00042b26cf59d7ce69dfabb4e55b4fd9</td>\n",
       "      <td>1</td>\n",
       "      <td>ac6c3623068f30de03045865e4e10089</td>\n",
       "      <td>df560393f3a51e74553ab94004ba5c87</td>\n",
       "      <td>2017-02-13 13:57:51</td>\n",
       "      <td>199.90</td>\n",
       "      <td>18.14</td>\n",
       "    </tr>\n",
       "  </tbody>\n",
       "</table>\n",
       "</div>"
      ],
      "text/plain": [
       "                           order_id  order_item_id  \\\n",
       "0  00010242fe8c5a6d1ba2dd792cb16214              1   \n",
       "1  00018f77f2f0320c557190d7a144bdd3              1   \n",
       "2  000229ec398224ef6ca0657da4fc703e              1   \n",
       "3  00024acbcdf0a6daa1e931b038114c75              1   \n",
       "4  00042b26cf59d7ce69dfabb4e55b4fd9              1   \n",
       "\n",
       "                         product_id                         seller_id  \\\n",
       "0  4244733e06e7ecb4970a6e2683c13e61  48436dade18ac8b2bce089ec2a041202   \n",
       "1  e5f2d52b802189ee658865ca93d83a8f  dd7ddc04e1b6c2c614352b383efe2d36   \n",
       "2  c777355d18b72b67abbeef9df44fd0fd  5b51032eddd242adc84c38acab88f23d   \n",
       "3  7634da152a4610f1595efa32f14722fc  9d7a1d34a5052409006425275ba1c2b4   \n",
       "4  ac6c3623068f30de03045865e4e10089  df560393f3a51e74553ab94004ba5c87   \n",
       "\n",
       "   shipping_limit_date   price  freight_value  \n",
       "0  2017-09-19 09:45:35   58.90          13.29  \n",
       "1  2017-05-03 11:05:13  239.90          19.93  \n",
       "2  2018-01-18 14:48:30  199.00          17.87  \n",
       "3  2018-08-15 10:10:18   12.99          12.79  \n",
       "4  2017-02-13 13:57:51  199.90          18.14  "
      ]
     },
     "execution_count": 164,
     "metadata": {},
     "output_type": "execute_result"
    }
   ],
   "source": [
    "%%time\n",
    "# this block uses script py\n",
    "#from classes import OrderItem, Product\n",
    "#from mapping import ORDIT_ORDER_ID, ORDIT_ORDER_ITEM_ID, ORDIT_PRODUCT_ID, ORDIT_SELLER_ID, ORDIT_SHIPPING_LIMIT_DATE, ORDIT_PRICE, ORDIT_FREIGHT_VALUE\n",
    "#from mapping import PROD_PRODUCT_ID, PROD_PRODUCT_CATEGORY_NAME, PROD_PRODUCT_NAME_LENGHT, PROD_PRODUCT_DESCRIPTION_LENGHT, PROD_PRODUCT_PHOTOS_QTY\n",
    "#from mapping import PROD_PRODUCT_WEIGHT_G, PROD_PRODUCT_LENGTH_CM, PROD_PRODUCT_HEIGHT_CM, PROD_PRODUCT_WIDTH_CM\n",
    "\n",
    "file_excel=f\"{PATH}olist_order_items.xlsx\"\n",
    "workbook = openpyxl.load_workbook(filename=file_excel)\n",
    "sheet = workbook.active\n",
    "\n",
    "orders_items = []\n",
    "\n",
    "# Using the values_only because you just want to return the cell value\n",
    "for row in sheet.iter_rows(min_row=2, values_only=True):\n",
    "    item = OrderItem(order_id=row[ORDIT_ORDER_ID],\n",
    "                     order_item_id=row[ORDIT_ORDER_ITEM_ID],\n",
    "                     product_id=row[ORDIT_PRODUCT_ID],\n",
    "                     seller_id=row[ORDIT_SELLER_ID],\n",
    "                     shipping_limit_date=row[ORDIT_SHIPPING_LIMIT_DATE],\n",
    "                     price=row[ORDIT_PRICE],\n",
    "                     freight_value=row[ORDIT_FREIGHT_VALUE])\n",
    "    orders_items.append(item)\n",
    "df_ord_class=pd.DataFrame(orders_items)\n",
    "print(df_ord_class.shape)\n",
    "df_ord_class.head()"
   ]
  },
  {
   "cell_type": "code",
   "execution_count": 167,
   "id": "b46b0abf-6f41-4fbd-9fa7-c5299b2d8ec3",
   "metadata": {},
   "outputs": [
    {
     "name": "stdout",
     "output_type": "stream",
     "text": [
      "(32951, 9)\n",
      "CPU times: total: 6.52 s\n",
      "Wall time: 6.54 s\n"
     ]
    },
    {
     "data": {
      "text/html": [
       "<div>\n",
       "<style scoped>\n",
       "    .dataframe tbody tr th:only-of-type {\n",
       "        vertical-align: middle;\n",
       "    }\n",
       "\n",
       "    .dataframe tbody tr th {\n",
       "        vertical-align: top;\n",
       "    }\n",
       "\n",
       "    .dataframe thead th {\n",
       "        text-align: right;\n",
       "    }\n",
       "</style>\n",
       "<table border=\"1\" class=\"dataframe\">\n",
       "  <thead>\n",
       "    <tr style=\"text-align: right;\">\n",
       "      <th></th>\n",
       "      <th>product_id</th>\n",
       "      <th>product_category_name</th>\n",
       "      <th>product_name_lenght</th>\n",
       "      <th>product_description_lenght</th>\n",
       "      <th>product_photos_qty</th>\n",
       "      <th>product_weight_g</th>\n",
       "      <th>product_length_cm</th>\n",
       "      <th>product_height_cm</th>\n",
       "      <th>product_width_cm</th>\n",
       "    </tr>\n",
       "  </thead>\n",
       "  <tbody>\n",
       "    <tr>\n",
       "      <th>0</th>\n",
       "      <td>1e9e8ef04dbcff4541ed26657ea517e5</td>\n",
       "      <td>perfumaria</td>\n",
       "      <td>40.0</td>\n",
       "      <td>287.0</td>\n",
       "      <td>1.0</td>\n",
       "      <td>225.0</td>\n",
       "      <td>16.0</td>\n",
       "      <td>10.0</td>\n",
       "      <td>14.0</td>\n",
       "    </tr>\n",
       "    <tr>\n",
       "      <th>1</th>\n",
       "      <td>3aa071139cb16b67ca9e5dea641aaa2f</td>\n",
       "      <td>artes</td>\n",
       "      <td>44.0</td>\n",
       "      <td>276.0</td>\n",
       "      <td>1.0</td>\n",
       "      <td>1000.0</td>\n",
       "      <td>30.0</td>\n",
       "      <td>18.0</td>\n",
       "      <td>20.0</td>\n",
       "    </tr>\n",
       "    <tr>\n",
       "      <th>2</th>\n",
       "      <td>96bd76ec8810374ed1b65e291975717f</td>\n",
       "      <td>esporte_lazer</td>\n",
       "      <td>46.0</td>\n",
       "      <td>250.0</td>\n",
       "      <td>1.0</td>\n",
       "      <td>154.0</td>\n",
       "      <td>18.0</td>\n",
       "      <td>9.0</td>\n",
       "      <td>15.0</td>\n",
       "    </tr>\n",
       "    <tr>\n",
       "      <th>3</th>\n",
       "      <td>cef67bcfe19066a932b7673e239eb23d</td>\n",
       "      <td>bebes</td>\n",
       "      <td>27.0</td>\n",
       "      <td>261.0</td>\n",
       "      <td>1.0</td>\n",
       "      <td>371.0</td>\n",
       "      <td>26.0</td>\n",
       "      <td>4.0</td>\n",
       "      <td>26.0</td>\n",
       "    </tr>\n",
       "    <tr>\n",
       "      <th>4</th>\n",
       "      <td>9dc1a7de274444849c219cff195d0b71</td>\n",
       "      <td>utilidades_domesticas</td>\n",
       "      <td>37.0</td>\n",
       "      <td>402.0</td>\n",
       "      <td>4.0</td>\n",
       "      <td>625.0</td>\n",
       "      <td>20.0</td>\n",
       "      <td>17.0</td>\n",
       "      <td>13.0</td>\n",
       "    </tr>\n",
       "  </tbody>\n",
       "</table>\n",
       "</div>"
      ],
      "text/plain": [
       "                         product_id  product_category_name  \\\n",
       "0  1e9e8ef04dbcff4541ed26657ea517e5             perfumaria   \n",
       "1  3aa071139cb16b67ca9e5dea641aaa2f                  artes   \n",
       "2  96bd76ec8810374ed1b65e291975717f          esporte_lazer   \n",
       "3  cef67bcfe19066a932b7673e239eb23d                  bebes   \n",
       "4  9dc1a7de274444849c219cff195d0b71  utilidades_domesticas   \n",
       "\n",
       "   product_name_lenght  product_description_lenght  product_photos_qty  \\\n",
       "0                 40.0                       287.0                 1.0   \n",
       "1                 44.0                       276.0                 1.0   \n",
       "2                 46.0                       250.0                 1.0   \n",
       "3                 27.0                       261.0                 1.0   \n",
       "4                 37.0                       402.0                 4.0   \n",
       "\n",
       "   product_weight_g  product_length_cm  product_height_cm  product_width_cm  \n",
       "0             225.0               16.0               10.0              14.0  \n",
       "1            1000.0               30.0               18.0              20.0  \n",
       "2             154.0               18.0                9.0              15.0  \n",
       "3             371.0               26.0                4.0              26.0  \n",
       "4             625.0               20.0               17.0              13.0  "
      ]
     },
     "execution_count": 167,
     "metadata": {},
     "output_type": "execute_result"
    }
   ],
   "source": [
    "%%time\n",
    "# this block uses script py\n",
    "#from classes import OrderItem, Product\n",
    "#from mapping import ORDIT_ORDER_ID, ORDIT_ORDER_ITEM_ID, ORDIT_PRODUCT_ID, ORDIT_SELLER_ID, ORDIT_SHIPPING_LIMIT_DATE, ORDIT_PRICE, ORDIT_FREIGHT_VALUE\n",
    "#from mapping import PROD_PRODUCT_ID, PROD_PRODUCT_CATEGORY_NAME, PROD_PRODUCT_NAME_LENGHT, PROD_PRODUCT_DESCRIPTION_LENGHT, PROD_PRODUCT_PHOTOS_QTY\n",
    "#from mapping import PROD_PRODUCT_WEIGHT_G, PROD_PRODUCT_LENGTH_CM, PROD_PRODUCT_HEIGHT_CM, PROD_PRODUCT_WIDTH_CM\n",
    "\n",
    "file_excel=f\"{PATH}olist_products.xlsx\"\n",
    "workbook = openpyxl.load_workbook(filename=file_excel)\n",
    "sheet = workbook.active\n",
    "\n",
    "products = []\n",
    "\n",
    "# Using the values_only because you just want to return the cell value\n",
    "for row in sheet.iter_rows(min_row=2, values_only=True):\n",
    "    item = Product(product_id=row[PROD_PRODUCT_ID],\n",
    "                     product_category_name=row[PROD_PRODUCT_CATEGORY_NAME],\n",
    "                     product_name_lenght=row[PROD_PRODUCT_NAME_LENGHT],\n",
    "                     product_description_lenght=row[PROD_PRODUCT_DESCRIPTION_LENGHT],\n",
    "                     product_photos_qty=row[PROD_PRODUCT_PHOTOS_QTY],\n",
    "                     product_weight_g=row[PROD_PRODUCT_WEIGHT_G],\n",
    "                     product_length_cm=row[PROD_PRODUCT_LENGTH_CM],\n",
    "                     product_height_cm=row[PROD_PRODUCT_HEIGHT_CM],\n",
    "                     product_width_cm=row[PROD_PRODUCT_WIDTH_CM])\n",
    "    products.append(item)\n",
    "df_prod_class=pd.DataFrame(products)\n",
    "print(df_prod_class.shape)\n",
    "df_prod_class.head()"
   ]
  },
  {
   "cell_type": "markdown",
   "id": "28a3abf2-cdb8-4597-977d-18798f2da682",
   "metadata": {},
   "source": [
    "# USE CASES\n",
    "\n",
    "1. Excel - витрина данных\n",
    "    - НЕ используется для внесения данных\n",
    "    - выступает в роли ПРОСТОЙ витрины данных: получил файл, посмотрел данные (графики, таблицы и т.д.), минимально их \"покрутил\" в этом файле и \"забыл\", потому что в следующий раз получит такой же файл с обновленными данными.\n",
    "    - файл может как класться в определенное место, так и отправляться по почте\n",
    "    - этот сценарий подходит, когда есть много разрозненных данных, сложных данных, больших и сложных таблиц, данные надо взять с баз данных, не хочется связываться пока с Power BI (т.е. нужны просто РЕГУЛЯРНЫЕ простые отчеты)\n",
    "    - при этом можно создавать кучу листов, на каждом своя таблица и визуализация.\n",
    "    - этот сценарий хорош, чтобы каждому рассылаться только его данные (т.е. минимизируем таблицу, а также имеем сразу фильтр на доступ только к определенной инфе).\n",
    "    \n",
    "2. Excel - база данных\n",
    "    - в один или несколько файлов вносятся данные \n",
    "    - а также они могут обновляться (например, корректировка запасов)\n",
    "    - как правило, такие файлы длинные и выглядят они как добавляемые строки со стандартным набором столбцов\n",
    "    - в них могут быть отдельные листы со справочниками, из которых потом подтягиваются данные\n",
    "\n",
    "3. Excel - как транзитный формат\n",
    "    - например ситуация, когда мы не можем напрямую забрать данные из источника, но источник может их выгрузить в файл Excel и прислать куда надо\n",
    "    - и тогда наша задача эту инфу считать и положить в нужную базу данных\n",
    "    \n",
    "4. Excel - как форма ввода данных (интерфейс)\n",
    "    - скорее всего здесь будет открытый лист - с формой ввода\n",
    "    - и скрытые для пользователя листы, где сохраняются данные\n",
    "\n",
    "5. Excel - как сложный большой расчетный файл\n",
    "    - например, файл с расчетом бюджета.\n",
    "    - в результате появляются задачи: \n",
    "        - свести в одном месте и проанализировать разные версии / варианты бюджета\n",
    "        - добавить фактические данные (как для анализа бюджета, так и как исходные данные для его расчета)\n",
    "    - эти задачи вручную делать сложно. А также сложно поддерживать формулы (особенно, когда добавляются разные новые подкатегории, категории, колонки и т.д.)\n",
    "    - при этом сам набор ЛОГИКИ он не сложный и его можно описать как некий MAPPING\n",
    "    - и здесь мы можем создавать два варианта решений:\n",
    "        - просто генерация такого бюджета как ФИНАЛЬНАЯ ТАБЛИЦА (т.е. без формул, чтобы просто смотреть). В этом случае вся логика расчета делается в более простых и структурированных таблицах, в т.ч.в виде расчетов в базе данных (например, отдельно считаем прогноз продаж, отдельно прогноз HR-расходов)\n",
    "        - ведущая роль у таблицы с ее формулами, а в Python добавляем возможности быстро ее анализировать и преобрзовывать в плоские таблицы и т.д."
   ]
  },
  {
   "cell_type": "code",
   "execution_count": null,
   "id": "ae168c22-35f0-4adb-a803-b74981383413",
   "metadata": {},
   "outputs": [],
   "source": []
  }
 ],
 "metadata": {
  "kernelspec": {
   "display_name": "Python 3 (ipykernel)",
   "language": "python",
   "name": "python3"
  },
  "language_info": {
   "codemirror_mode": {
    "name": "ipython",
    "version": 3
   },
   "file_extension": ".py",
   "mimetype": "text/x-python",
   "name": "python",
   "nbconvert_exporter": "python",
   "pygments_lexer": "ipython3",
   "version": "3.8.15"
  }
 },
 "nbformat": 4,
 "nbformat_minor": 5
}
