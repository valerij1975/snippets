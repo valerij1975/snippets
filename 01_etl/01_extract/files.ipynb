{
 "cells": [
  {
   "cell_type": "code",
   "execution_count": null,
   "id": "5531ce1b-bf16-4344-b6fd-36c6f90c1ef9",
   "metadata": {},
   "outputs": [],
   "source": [
    "#!pip install tables\n",
    "#!pip install pyarrow\n",
    "#!pip install fastparquet"
   ]
  },
  {
   "cell_type": "code",
   "execution_count": 1,
   "id": "648b8af0-e31d-499b-8f09-f6436ba8fafb",
   "metadata": {},
   "outputs": [],
   "source": [
    "import os\n",
    "import time\n",
    "import zipfile\n",
    "import pandas as pd"
   ]
  },
  {
   "cell_type": "code",
   "execution_count": 2,
   "id": "dc102c73-9753-4c87-89c8-aeac85ec5852",
   "metadata": {},
   "outputs": [],
   "source": [
    "pd.set_option('display.max_columns', None)\n",
    "pd.set_option('display.max_rows', 300)\n",
    "pd.set_option('display.max_colwidth', None)"
   ]
  },
  {
   "cell_type": "code",
   "execution_count": 3,
   "id": "15b2be3a-178e-4eaa-a634-a2bd21664365",
   "metadata": {},
   "outputs": [],
   "source": [
    "olist_list_csv_files=[\n",
    "    'olist_sellers_dataset',\n",
    "    'product_category_name_translation',\n",
    "    'olist_products_dataset',\n",
    "    'olist_order_reviews_dataset',\n",
    "    'olist_orders_dataset',\n",
    "    'olist_order_payments_dataset',\n",
    "    'olist_order_items_dataset',\n",
    "    'olist_geolocation_dataset',\n",
    "    'olist_customers_dataset',\n",
    "]"
   ]
  },
  {
   "cell_type": "markdown",
   "id": "6bb935df-65f0-43aa-9ca9-6f24309b7df9",
   "metadata": {},
   "source": [
    "# File type .csv, .hdf, .parquet"
   ]
  },
  {
   "cell_type": "code",
   "execution_count": null,
   "id": "63aca21e-f460-4cfd-8b5d-8b6d42647037",
   "metadata": {},
   "outputs": [],
   "source": [
    "%%time\n",
    "for file in olist_list_csv_files:\n",
    "    df=pd.read_csv(f'../../data/olist/{file}.csv')\n",
    "    df.to_hdf(f'../../data/olist/{file}.h5', key='data')\n",
    "    df.to_parquet(f'../../data/olist/{file}.parquet')"
   ]
  },
  {
   "cell_type": "code",
   "execution_count": 31,
   "id": "ad503b1f-80e3-4d7c-bace-13972abe2ade",
   "metadata": {},
   "outputs": [
    {
     "name": "stdout",
     "output_type": "stream",
     "text": [
      "CPU times: total: 484 ms\n",
      "Wall time: 475 ms\n"
     ]
    }
   ],
   "source": [
    "%%time\n",
    "file_name='olist_geolocation_dataset'\n",
    "df_csv=pd.read_csv(f\"../../data/olist/{file_name}.csv\")"
   ]
  },
  {
   "cell_type": "code",
   "execution_count": 32,
   "id": "44ef5428-4a12-43bc-8828-25a4ba604196",
   "metadata": {},
   "outputs": [
    {
     "name": "stdout",
     "output_type": "stream",
     "text": [
      "CPU times: total: 125 ms\n",
      "Wall time: 124 ms\n"
     ]
    }
   ],
   "source": [
    "%time df_hdf=pd.read_hdf(f\"../../data/olist/{file_name}.h5\")"
   ]
  },
  {
   "cell_type": "code",
   "execution_count": 38,
   "id": "89c193bc-6f5d-4e39-8d23-cb20a83c40ee",
   "metadata": {},
   "outputs": [
    {
     "name": "stdout",
     "output_type": "stream",
     "text": [
      "CPU times: total: 203 ms\n",
      "Wall time: 97 ms\n"
     ]
    }
   ],
   "source": [
    "%time df_parquet=pd.read_parquet(f'../../data/olist/{file_name}.parquet')"
   ]
  },
  {
   "cell_type": "code",
   "execution_count": 36,
   "id": "acc9de2f-adb7-40e6-8345-110c1f452d8a",
   "metadata": {},
   "outputs": [
    {
     "data": {
      "text/plain": [
       "(1000163, 5)"
      ]
     },
     "execution_count": 36,
     "metadata": {},
     "output_type": "execute_result"
    }
   ],
   "source": [
    "df_parquet.shape"
   ]
  },
  {
   "cell_type": "code",
   "execution_count": 37,
   "id": "6fc714bd-dd90-409c-b48b-9ae039567f47",
   "metadata": {},
   "outputs": [
    {
     "name": "stdout",
     "output_type": "stream",
     "text": [
      "CPU times: total: 46.9 ms\n",
      "Wall time: 16 ms\n"
     ]
    }
   ],
   "source": [
    "%time df_parquet_columns=pd.read_parquet(f'../../data/olist/{file_name}.parquet', columns=[\"geolocation_zip_code_prefix\", \"geolocation_lat\"])"
   ]
  },
  {
   "cell_type": "markdown",
   "id": "b0bee99a-4967-4a6e-a5a7-8a22d5d5f6ef",
   "metadata": {},
   "source": [
    "# Get file list"
   ]
  },
  {
   "cell_type": "code",
   "execution_count": 4,
   "id": "ad471f30-0324-4983-9b2a-2a38c5930fb2",
   "metadata": {},
   "outputs": [],
   "source": [
    "def __get_list_files(path_root):\n",
    "    path =path_root\n",
    "    filelist = []\n",
    "    filelist2 = []\n",
    "    for root, dirs, files in os.walk(path):\n",
    "        count_subdir=len(dirs)\n",
    "        dic1={\n",
    "                'root': root,\n",
    "                'dirs': dirs,\n",
    "                'file': None,\n",
    "                'file_name': None,\n",
    "                'file_ext': None,\n",
    "                'file_size': None,\n",
    "                'file_date_unix': None,\n",
    "                'file_date': None,\n",
    "                'count_subdir': count_subdir,\n",
    "                'path_full': None,\n",
    "        }\n",
    "        filelist2.append(dic1)   \n",
    "        for file in files:\n",
    "            path_full=os.path.join(root,file)\n",
    "            modTimesinceEpoc = os.path.getmtime(path_full)\n",
    "            modificationTime = time.strftime('%Y-%m-%d %H:%M:%S', time.localtime(modTimesinceEpoc))\n",
    "            dic1={\n",
    "                'root': root,\n",
    "                'dirs': dirs,\n",
    "                'file': file,\n",
    "                'file_name': os.path.splitext(file)[0],\n",
    "                'file_ext': os.path.splitext(file)[1],\n",
    "                'file_size': os.path.getsize(path_full),\n",
    "                'file_date_unix': modTimesinceEpoc,\n",
    "                'file_date': modificationTime,\n",
    "                'count_subdir': count_subdir,\n",
    "                'path_full': os.path.join(root,file)\n",
    "            }\n",
    "            filelist2.append(dic1)\n",
    "            filelist.append(path_full)\n",
    "    df_files=pd.DataFrame(filelist2)\n",
    "    df_files['first_level']=df_files['root'].map(lambda x: '/'.join(x.split('/')[0:4]))\n",
    "    df_files['file_size_mb']=df_files['file_size']/(1024*1024)\n",
    "    df_files['second_level']=df_files['root'].map(lambda x: '/'.join(x.split('/')[0:5]))\n",
    "    return df_files"
   ]
  },
  {
   "cell_type": "code",
   "execution_count": 5,
   "id": "b358cff4-edae-4b84-9895-28fb6784d6ae",
   "metadata": {},
   "outputs": [
    {
     "data": {
      "text/html": [
       "<div>\n",
       "<style scoped>\n",
       "    .dataframe tbody tr th:only-of-type {\n",
       "        vertical-align: middle;\n",
       "    }\n",
       "\n",
       "    .dataframe tbody tr th {\n",
       "        vertical-align: top;\n",
       "    }\n",
       "\n",
       "    .dataframe thead th {\n",
       "        text-align: right;\n",
       "    }\n",
       "</style>\n",
       "<table border=\"1\" class=\"dataframe\">\n",
       "  <thead>\n",
       "    <tr style=\"text-align: right;\">\n",
       "      <th></th>\n",
       "      <th>root</th>\n",
       "      <th>dirs</th>\n",
       "      <th>file</th>\n",
       "      <th>file_name</th>\n",
       "      <th>file_ext</th>\n",
       "      <th>file_size</th>\n",
       "      <th>file_date_unix</th>\n",
       "      <th>file_date</th>\n",
       "      <th>count_subdir</th>\n",
       "      <th>path_full</th>\n",
       "      <th>first_level</th>\n",
       "      <th>file_size_mb</th>\n",
       "      <th>second_level</th>\n",
       "    </tr>\n",
       "  </thead>\n",
       "  <tbody>\n",
       "    <tr>\n",
       "      <th>0</th>\n",
       "      <td>../../data/olist/</td>\n",
       "      <td>[.ipynb_checkpoints, zip]</td>\n",
       "      <td>None</td>\n",
       "      <td>None</td>\n",
       "      <td>None</td>\n",
       "      <td>NaN</td>\n",
       "      <td>NaN</td>\n",
       "      <td>None</td>\n",
       "      <td>2</td>\n",
       "      <td>None</td>\n",
       "      <td>../../data/olist</td>\n",
       "      <td>NaN</td>\n",
       "      <td>../../data/olist/</td>\n",
       "    </tr>\n",
       "    <tr>\n",
       "      <th>1</th>\n",
       "      <td>../../data/olist/</td>\n",
       "      <td>[.ipynb_checkpoints, zip]</td>\n",
       "      <td>olist_customers_dataset.csv</td>\n",
       "      <td>olist_customers_dataset</td>\n",
       "      <td>.csv</td>\n",
       "      <td>9033957.0</td>\n",
       "      <td>1.633105e+09</td>\n",
       "      <td>2021-10-01 19:08:42</td>\n",
       "      <td>2</td>\n",
       "      <td>../../data/olist/olist_customers_dataset.csv</td>\n",
       "      <td>../../data/olist</td>\n",
       "      <td>8.615453</td>\n",
       "      <td>../../data/olist/</td>\n",
       "    </tr>\n",
       "  </tbody>\n",
       "</table>\n",
       "</div>"
      ],
      "text/plain": [
       "                root                       dirs                         file  \\\n",
       "0  ../../data/olist/  [.ipynb_checkpoints, zip]                         None   \n",
       "1  ../../data/olist/  [.ipynb_checkpoints, zip]  olist_customers_dataset.csv   \n",
       "\n",
       "                 file_name file_ext  file_size  file_date_unix  \\\n",
       "0                     None     None        NaN             NaN   \n",
       "1  olist_customers_dataset     .csv  9033957.0    1.633105e+09   \n",
       "\n",
       "             file_date  count_subdir  \\\n",
       "0                 None             2   \n",
       "1  2021-10-01 19:08:42             2   \n",
       "\n",
       "                                      path_full       first_level  \\\n",
       "0                                          None  ../../data/olist   \n",
       "1  ../../data/olist/olist_customers_dataset.csv  ../../data/olist   \n",
       "\n",
       "   file_size_mb       second_level  \n",
       "0           NaN  ../../data/olist/  \n",
       "1      8.615453  ../../data/olist/  "
      ]
     },
     "execution_count": 5,
     "metadata": {},
     "output_type": "execute_result"
    }
   ],
   "source": [
    "path =\"../../data/olist/\"\n",
    "df_files_all=__get_list_files(path)\n",
    "df_files_all.head(2)"
   ]
  },
  {
   "cell_type": "code",
   "execution_count": 6,
   "id": "e1932f09-90fb-49e4-8104-489abf342603",
   "metadata": {},
   "outputs": [
    {
     "data": {
      "text/plain": [
       "file_ext\n",
       ".csv        120.341296\n",
       ".h5         163.692192\n",
       ".parquet     54.455955\n",
       "Name: file_size_mb, dtype: float64"
      ]
     },
     "execution_count": 6,
     "metadata": {},
     "output_type": "execute_result"
    }
   ],
   "source": [
    "df_files_all.groupby('file_ext')['file_size_mb'].sum()"
   ]
  },
  {
   "cell_type": "markdown",
   "id": "5f59c660-5a49-429e-9b11-b15e921e9d4d",
   "metadata": {},
   "source": [
    "# ZIP"
   ]
  },
  {
   "cell_type": "code",
   "execution_count": 15,
   "id": "6671ea84-a04d-4403-ad6f-b01dbe5d4288",
   "metadata": {},
   "outputs": [
    {
     "name": "stdout",
     "output_type": "stream",
     "text": [
      "Folder is exist\n",
      "Folder is exist\n"
     ]
    }
   ],
   "source": [
    "zip_folder_name='../../data/zip'\n",
    "unzip_folder_name='../../data/unzip'\n",
    "try:\n",
    "    os.mkdir(zip_folder_name)\n",
    "except OSError as error: \n",
    "    print('Folder is exist')\n",
    "try:\n",
    "    os.mkdir(unzip_folder_name)\n",
    "except OSError as error: \n",
    "    print('Folder is exist')"
   ]
  },
  {
   "cell_type": "code",
   "execution_count": 16,
   "id": "26e3902f-17b0-4e3d-b593-e0d3cbed8cd8",
   "metadata": {},
   "outputs": [
    {
     "name": "stdout",
     "output_type": "stream",
     "text": [
      "CPU times: total: 1 s\n",
      "Wall time: 997 ms\n"
     ]
    }
   ],
   "source": [
    "%%time\n",
    "# One file\n",
    "df_zip = zipfile.ZipFile(f'{zip_folder_name}/df_test.zip', 'w')\n",
    "df_zip.write('../../data/olist/olist_order_reviews_dataset.h5', compress_type=zipfile.ZIP_DEFLATED)\n",
    "df_zip.close()"
   ]
  },
  {
   "cell_type": "code",
   "execution_count": 17,
   "id": "b668ce15-973f-422a-8271-582283c5c1e0",
   "metadata": {},
   "outputs": [
    {
     "name": "stdout",
     "output_type": "stream",
     "text": [
      "Size folder, mb: 338.4894428253174\n",
      "CPU times: total: 12.3 s\n",
      "Wall time: 12.3 s\n"
     ]
    },
    {
     "data": {
      "text/html": [
       "<div>\n",
       "<style scoped>\n",
       "    .dataframe tbody tr th:only-of-type {\n",
       "        vertical-align: middle;\n",
       "    }\n",
       "\n",
       "    .dataframe tbody tr th {\n",
       "        vertical-align: top;\n",
       "    }\n",
       "\n",
       "    .dataframe thead th {\n",
       "        text-align: right;\n",
       "    }\n",
       "</style>\n",
       "<table border=\"1\" class=\"dataframe\">\n",
       "  <thead>\n",
       "    <tr style=\"text-align: right;\">\n",
       "      <th></th>\n",
       "      <th>file</th>\n",
       "      <th>file_size_mb</th>\n",
       "    </tr>\n",
       "  </thead>\n",
       "  <tbody>\n",
       "    <tr>\n",
       "      <th>0</th>\n",
       "      <td>None</td>\n",
       "      <td>NaN</td>\n",
       "    </tr>\n",
       "    <tr>\n",
       "      <th>1</th>\n",
       "      <td>df_test.zip</td>\n",
       "      <td>13.030367</td>\n",
       "    </tr>\n",
       "    <tr>\n",
       "      <th>2</th>\n",
       "      <td>df_test_folder.zip</td>\n",
       "      <td>148.689166</td>\n",
       "    </tr>\n",
       "  </tbody>\n",
       "</table>\n",
       "</div>"
      ],
      "text/plain": [
       "                 file  file_size_mb\n",
       "0                None           NaN\n",
       "1         df_test.zip     13.030367\n",
       "2  df_test_folder.zip    148.689166"
      ]
     },
     "execution_count": 17,
     "metadata": {},
     "output_type": "execute_result"
    }
   ],
   "source": [
    "%%time\n",
    "# few files\n",
    "\n",
    "folder_zip = zipfile.ZipFile(f'{zip_folder_name}/df_test_folder.zip', 'w')\n",
    "print(f'Size folder, mb: {df_files_all[\"file_size_mb\"].sum()}')\n",
    "fold='../../data/olist' \n",
    "for folder, subfolders, files in os.walk(fold):\n",
    "    for file in files:\n",
    "        folder_zip.write(os.path.join(folder, file), os.path.relpath(os.path.join(folder,file), fold), \n",
    "                          compress_type = zipfile.ZIP_DEFLATED)\n",
    "folder_zip.close()\n",
    "df_files_zip=__get_list_files(zip_folder_name)\n",
    "df_files_zip[['file','file_size_mb']]"
   ]
  },
  {
   "cell_type": "code",
   "execution_count": 18,
   "id": "b48363c4-1313-4094-921d-27e9c311ad4c",
   "metadata": {},
   "outputs": [
    {
     "name": "stdout",
     "output_type": "stream",
     "text": [
      "CPU times: total: 1.2 s\n",
      "Wall time: 1.23 s\n"
     ]
    }
   ],
   "source": [
    "%%time\n",
    "# unzip\n",
    "folder_zip = zipfile.ZipFile(f'{zip_folder_name}/df_test_folder.zip')\n",
    "folder_zip.extractall(unzip_folder_name)\n",
    "folder_zip.close()"
   ]
  },
  {
   "cell_type": "code",
   "execution_count": 21,
   "id": "83638fb1-1649-4036-932a-520359b84df6",
   "metadata": {},
   "outputs": [],
   "source": [
    "# remove one file\n",
    "file_path = f'{zip_folder_name}/df_test_folder.zip'\n",
    "if os.path.exists(file_path):\n",
    "    os.remove(file_path)\n",
    "else:\n",
    "    print(\"The system cannot find the file specified\")"
   ]
  },
  {
   "cell_type": "code",
   "execution_count": 25,
   "id": "a5fd3784-97e9-438d-8b0d-32cd399c25cd",
   "metadata": {},
   "outputs": [
    {
     "name": "stdout",
     "output_type": "stream",
     "text": [
      "Deleting file: ../../data/zip/df_test.zip\n"
     ]
    }
   ],
   "source": [
    "# delete all Files from a Directory\n",
    "for file_name in os.listdir(zip_folder_name):\n",
    "    file = f'{zip_folder_name}/{file_name}'\n",
    "    if os.path.isfile(file):\n",
    "        print('Deleting file:', file)\n",
    "        os.remove(file)"
   ]
  },
  {
   "cell_type": "code",
   "execution_count": 27,
   "id": "ebbbdd81-8054-4c80-95f4-2a1f362807f3",
   "metadata": {},
   "outputs": [],
   "source": [
    "# remove clear folder\n",
    "os.rmdir(zip_folder_name)"
   ]
  },
  {
   "cell_type": "code",
   "execution_count": 28,
   "id": "5d993a2d-e64a-448e-ac47-bbb3ad9edc97",
   "metadata": {},
   "outputs": [
    {
     "name": "stdout",
     "output_type": "stream",
     "text": [
      "Deleted '../../data/unzip' directory successfully\n"
     ]
    }
   ],
   "source": [
    "# Deleting an non-empty folder\n",
    "import shutil\n",
    "shutil.rmtree(unzip_folder_name, ignore_errors=True)\n",
    "print(\"Deleted '%s' directory successfully\" % unzip_folder_name)"
   ]
  },
  {
   "cell_type": "code",
   "execution_count": null,
   "id": "99f52220-8047-4723-9173-dec2ab5c667f",
   "metadata": {},
   "outputs": [],
   "source": []
  },
  {
   "cell_type": "code",
   "execution_count": null,
   "id": "1b151fb3-c884-421e-8c72-b54039c83ec5",
   "metadata": {},
   "outputs": [],
   "source": []
  }
 ],
 "metadata": {
  "kernelspec": {
   "display_name": "Python 3 (ipykernel)",
   "language": "python",
   "name": "python3"
  },
  "language_info": {
   "codemirror_mode": {
    "name": "ipython",
    "version": 3
   },
   "file_extension": ".py",
   "mimetype": "text/x-python",
   "name": "python",
   "nbconvert_exporter": "python",
   "pygments_lexer": "ipython3",
   "version": "3.8.15"
  }
 },
 "nbformat": 4,
 "nbformat_minor": 5
}
