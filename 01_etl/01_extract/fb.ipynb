{
 "cells": [
  {
   "cell_type": "code",
   "execution_count": null,
   "id": "48d2e3de-1c37-450d-abec-818f717a599d",
   "metadata": {},
   "outputs": [],
   "source": [
    "!pip3 install facebook_business"
   ]
  },
  {
   "cell_type": "code",
   "execution_count": 2,
   "id": "80caad0e-b87e-426e-8144-e3d023115988",
   "metadata": {},
   "outputs": [
    {
     "name": "stdout",
     "output_type": "stream",
     "text": [
      "16.0.0\n"
     ]
    }
   ],
   "source": [
    "import facebook_business as fb\n",
    "print (fb.__version__)"
   ]
  },
  {
   "cell_type": "code",
   "execution_count": null,
   "id": "cfbc49e5-3727-4df6-b543-e66f0acb8475",
   "metadata": {},
   "outputs": [],
   "source": [
    "import sys\n",
    "import os\n",
    "import pandas as pd\n",
    "import time\n",
    "from datetime import datetime\n",
    "from datetime import date\n",
    "from datetime import timedelta\n",
    "from facebook_business.adobjects.adaccount import AdAccount\n",
    "from facebook_business.adobjects.adsinsights import AdsInsights\n",
    "from facebook_business.api import FacebookAdsApi\n",
    "from facebook_business.adobjects.adset import AdSet\n",
    "from facebook_business.adobjects.page import Page\n",
    "from facebook_business.adobjects.ad import Ad\n",
    "from facebook_business.adobjects.campaign import Campaign\n",
    "from facebook_business.adobjects.adreportrun import AdReportRun\n",
    "from loguru import logger\n",
    "\n",
    "from google.cloud import bigquery\n",
    "from google.oauth2 import service_account"
   ]
  },
  {
   "cell_type": "code",
   "execution_count": null,
   "id": "7b06c1a1-eb87-4f3a-9bc6-02394d724a71",
   "metadata": {},
   "outputs": [],
   "source": [
    "marker_token='XXXXXXXXXXXXXXXXXXXXXXXXXXXX'\n",
    "app_secret = 'XXXXXXXXXXXXXXXXX'\n",
    "app_id = 'XXXXXXXXXXXXXXXXXXXXX'"
   ]
  },
  {
   "cell_type": "markdown",
   "id": "36f6ba0b-f41b-4f2d-887a-bebdd7a9bc42",
   "metadata": {},
   "source": [
    "# FROM FB to BIGQUERY"
   ]
  },
  {
   "cell_type": "markdown",
   "id": "e661fd2a-cf06-4165-ae53-29691e2ca0ce",
   "metadata": {},
   "source": [
    "## Connect to BigQuery"
   ]
  },
  {
   "cell_type": "code",
   "execution_count": null,
   "id": "219d0743-fa6a-455c-9fd9-741775016ed0",
   "metadata": {},
   "outputs": [],
   "source": [
    "big_query_key_path = \"XXXXXXX.json\"\n",
    "project_id = 'my_project'\n",
    "dataset=\"test1\"\n",
    "\n",
    "def get_client_and_table(dataset):\n",
    "    key_path = big_query_key_path\n",
    "    credentials = service_account.Credentials.from_service_account_file(\n",
    "        key_path, scopes=[\"https://www.googleapis.com/auth/cloud-platform\"],\n",
    "    )\n",
    "\n",
    "    client = bigquery.Client(credentials=credentials, project=credentials.project_id,)\n",
    "    return client, credentials\n",
    "\n",
    "client, credentials = get_client_and_table(dataset=dataset)"
   ]
  },
  {
   "cell_type": "code",
   "execution_count": null,
   "id": "56d81e9f-f9fb-43b6-bf80-5ea8eb5c5e7d",
   "metadata": {},
   "outputs": [],
   "source": [
    "def save_to_bq(df_adset_list, table_name, schema, write_disp=None):\n",
    "    table_id=f'{project_id}.{dataset}.{table_name}'\n",
    "    if write_disp==\"WRITE_TRUNCATE\"\n",
    "        job_config = bigquery.LoadJobConfig(\n",
    "            schema=schema,\n",
    "            write_disposition=write_disp)  \n",
    "    else:\n",
    "        job_config = bigquery.LoadJobConfig(\n",
    "            schema=schema)          \n",
    "    job = client.load_table_from_dataframe(df_adset_list, table_id, job_config=job_config) \n",
    "    job.result()  # Wait for the job to complete.\n",
    "    table = client.get_table(table_id)  # Make an API request.\n",
    "    print(\"Loaded {} rows and {} columns to {}\".format(table.num_rows, len(table.schema), table_id))"
   ]
  },
  {
   "cell_type": "markdown",
   "id": "c9c0381a-91c1-4837-b4f5-2e61fd4b1312",
   "metadata": {},
   "source": [
    "## FB Adset to BigQuery"
   ]
  },
  {
   "cell_type": "code",
   "execution_count": null,
   "id": "eee60af7-455d-4375-9e87-0e6f9a90c594",
   "metadata": {},
   "outputs": [],
   "source": [
    "def get_ads_set(ad_account):\n",
    "    # Get AdSet By ad account\n",
    "    # detail description of fields: https://developers.facebook.com/docs/marketing-api/reference/adgroup/\n",
    "    field_list=[Ad.Field.name,Ad.Field.id,Ad.Field.account_id,Ad.Field.adset,Ad.Field.campaign_id,\n",
    "                Ad.Field.configured_status, #The configured status of the ad. Use status instead of this field\n",
    "                Ad.Field.effective_status,\n",
    "                Ad.Field.status,\n",
    "                Ad.Field.created_time, Ad.Field.updated_time,\n",
    "                Ad.Field.source_ad,    \n",
    "               ]\n",
    "    ad_set_list=[]\n",
    "    adsets = ad_account.get_ad_sets(fields=field_list)\n",
    "    for adset in adsets:\n",
    "        ad_set_list.append(adset)\n",
    "    logger.info(\"count ad_sets: \", len(ad_set_list))\n",
    "    return ad_set_list"
   ]
  },
  {
   "cell_type": "code",
   "execution_count": null,
   "id": "39f5427d-6a81-41e9-b31c-95ad7efd7573",
   "metadata": {},
   "outputs": [],
   "source": [
    "def create_df(ad_set_list):\n",
    "    df_adset_list=pd.DataFrame(ad_set_list)\n",
    "    df_adset_list['created_time']=pd.to_datetime(df_adset_list['created_time'])\n",
    "    df_adset_list['updated_time']=pd.to_datetime(df_adset_list['updated_time'])\n",
    "    return df_adset_list"
   ]
  },
  {
   "cell_type": "code",
   "execution_count": null,
   "id": "f7c9261e-2e85-4434-9f6c-8bb17af5ae31",
   "metadata": {},
   "outputs": [],
   "source": [
    "schema_adset=[\n",
    "    bigquery.SchemaField('account_id', 'STRING', 'NULLABLE'),\n",
    "    bigquery.SchemaField('campaign_id', 'STRING', 'NULLABLE'),\n",
    "    bigquery.SchemaField('configured_status', 'STRING', 'NULLABLE'),\n",
    "    bigquery.SchemaField('created_time', 'DATETIME', 'NULLABLE'),\n",
    "    bigquery.SchemaField('effective_status', 'STRING', 'NULLABLE'),\n",
    "    bigquery.SchemaField('id', 'STRING', 'NULLABLE'),\n",
    "    bigquery.SchemaField('name', 'STRING', 'NULLABLE'),\n",
    "    bigquery.SchemaField('status', 'STRING', 'NULLABLE'),\n",
    "    bigquery.SchemaField('updated_time', 'DATETIME', 'NULLABLE'),\n",
    "]"
   ]
  },
  {
   "cell_type": "code",
   "execution_count": null,
   "id": "42db29d9-0461-4f2f-9490-a6d1c0695aea",
   "metadata": {},
   "outputs": [],
   "source": [
    "ad_set_list=get_ads_set(ad_account)\n",
    "df_adset_list=create_df(ad_set_list)\n",
    "_ = save_to_bq(df_adset_list, \"adset_list\", schema_adset, write_disp=\"WRITE_TRUNCATE\"  )"
   ]
  },
  {
   "cell_type": "markdown",
   "id": "9c1285bd-6c88-4aa1-a264-20e2fca0a1f8",
   "metadata": {},
   "source": [
    "## FB Ad to BigQuery"
   ]
  },
  {
   "cell_type": "code",
   "execution_count": null,
   "id": "ade2136e-e508-4ce7-bd1f-3e554702ce93",
   "metadata": {},
   "outputs": [],
   "source": [
    "def create_fb_account(ad_account_id):\n",
    "    FacebookAdsApi.init(access_token=marker_token, api_version='v14.0')\n",
    "    ad_account = AdAccount(ad_account_id)\n",
    "    return ad_account\n",
    "\n",
    "# count lids\n",
    "def actions_ex(track):\n",
    "    doc1=0\n",
    "    if track is not None:\n",
    "        for item in track:\n",
    "            if item.get('action_type')=='offsite_conversion.fb_pixel_lead':\n",
    "                doc1=int(item.get('value'))\n",
    "    return doc1\n",
    "\n",
    "# hourly range to end hour of range \n",
    "def hourly_int(h_range):\n",
    "    doc1=0\n",
    "    if h_range != 'unknown':\n",
    "        doc1=int(h_range.split(' - ')[1].split(':')[0])+1\n",
    "    return doc1   \n",
    "\n",
    "# change type to int.\n",
    "def to_int(h):\n",
    "    return int(h if h is not None else 0) \n",
    "\n",
    "# change type to float.\n",
    "def to_float(h):\n",
    "    return float(h if h is not None else 0)  \n",
    "\n",
    "# prepare one row for one hour\n",
    "def adins(ad):\n",
    "\n",
    "    doc={\n",
    "        'account_id': ad.get('account_id'),\n",
    "        'campaign_id': ad.get('campaign_id'),\n",
    "        'adset_id': ad.get('adset_id'),\n",
    "        'ad_id': ad.get('ad_id'),\n",
    "        'impressions': to_int(ad.get('impressions')),\n",
    "        'clicks': to_int(ad.get('clicks')),\n",
    "        'cpc': to_float(ad.get('cpc')),\n",
    "        'cpm': to_float(ad.get('cpm')),\n",
    "        'cpp': to_float(ad.get('cpp')),\n",
    "        'ctr': to_float(ad.get('ctr')),\n",
    "        'inline_link_clicks': to_int(ad.get('inline_link_clicks')),\n",
    "        'spend': to_float(ad.get('spend')),\n",
    "        'reach': to_int(ad.get('reach')),\n",
    "        'date_start': ad.get('date_start'),\n",
    "        'date_stop': ad.get('date_stop'),\n",
    "        'hourly_agg_by_audience_time_zone': hourly_int(ad.get('hourly_stats_aggregated_by_audience_time_zone')),\n",
    "        'fb_pixel_lead': actions_ex(ad.get('actions')),\n",
    "       \n",
    "    }\n",
    "    return doc\n",
    "\n",
    "def req_fb(time_range_since,time_range_until,ad_account):\n",
    "    # query FB to get ads stat\n",
    "    params = {\n",
    "        \"time_increment\": 1, # per day\n",
    "        \"level\": \"ad\",\n",
    "        'time_range': {'since': time_range_since, 'until': time_range_until}, \n",
    "        \"breakdowns\": \"hourly_stats_aggregated_by_audience_time_zone\", \n",
    "    }\n",
    "\n",
    "    fields = [\n",
    "        'ad_id',\n",
    "        'adset_id',\n",
    "        'campaign_id',\n",
    "        'impressions',  \n",
    "        'clicks',\n",
    "        'cpc', # avg click cost\n",
    "        'cpm', # avg 1000view cost\n",
    "        'cpp', # avg 1000user cost \n",
    "        'ctr', \n",
    "        'inline_link_clicks',\n",
    "        'reach',\n",
    "        'spend',\n",
    "        'actions'\n",
    "    ]\n",
    "\n",
    "    async_job = ad_account.get_insights_async(params=params,fields=fields)\n",
    "    async_job.api_get()\n",
    "    while async_job[AdReportRun.Field.async_status]!= 'Job Completed':\n",
    "         time.sleep(1)\n",
    "         async_job.api_get()\n",
    "    time.sleep(1)\n",
    "    result_cursor=async_job.get_result(params={\"limit\": 10000})\n",
    "    list_ins=list(result_cursor)\n",
    "\n",
    "    adins_list=[]\n",
    "    if list_ins==[]:\n",
    "        logger.info('Not stat')\n",
    "        return pd.DataFrame()\n",
    "    else:\n",
    "        for item in list_ins:\n",
    "            doc=adins(item)\n",
    "            adins_list.append(doc)\n",
    "\n",
    "\n",
    "    # check\n",
    "    logger.info('request_fb_api - get list_ins - len list_ins: {}'.format(len(list_ins)))\n",
    "    logger.success('request_fb_api - get list_ins - len adins_list: {}'.format(len(adins_list)))\n",
    "\n",
    "    # to dataframe\n",
    "    if len(adins_list)>0:\n",
    "        df_adinsights=pd.DataFrame(adins_list)\n",
    "        df_adinsights['date_start']=pd.to_datetime(df_adinsights['date_start'])\n",
    "        df_adinsights['date_stop']=pd.to_datetime(df_adinsights['date_stop'])\n",
    "    else:\n",
    "        df_adinsights=pd.DataFrame()\n",
    "    return df_adinsights,'OK'"
   ]
  },
  {
   "cell_type": "code",
   "execution_count": null,
   "id": "e4bc2a74-d6dd-40d9-8cb3-7dc115011f3b",
   "metadata": {},
   "outputs": [],
   "source": [
    "schema_ad=[\n",
    "    bigquery.SchemaField('account_id', 'STRING', 'NULLABLE'),\n",
    "    bigquery.SchemaField('campaign_id', 'STRING', 'NULLABLE'),\n",
    "    bigquery.SchemaField('adset_id', 'STRING', 'NULLABLE'),\n",
    "    bigquery.SchemaField('ad_id', 'STRING', 'NULLABLE'),\n",
    "    bigquery.SchemaField('date_start', 'DATETIME', 'NULLABLE'),\n",
    "    bigquery.SchemaField('date_stop', 'DATETIME', 'NULLABLE'),\n",
    "    bigquery.SchemaField('hourly_agg_by_audience_time_zone', 'INTEGER', 'NULLABLE'),\n",
    "    bigquery.SchemaField('impressions', 'INTEGER', 'NULLABLE'),\n",
    "    bigquery.SchemaField('clicks', 'INTEGER', 'NULLABLE'),\n",
    "    bigquery.SchemaField('inline_link_clicks', 'INTEGER', 'NULLABLE'),\n",
    "    bigquery.SchemaField('reach', 'INTEGER', 'NULLABLE'),\n",
    "    bigquery.SchemaField('fb_pixel_lead', 'INTEGER', 'NULLABLE'),\n",
    "    bigquery.SchemaField('cpc', 'FLOAT', 'NULLABLE'),\n",
    "    bigquery.SchemaField('cpm', 'FLOAT', 'NULLABLE'),\n",
    "    bigquery.SchemaField('cpp', 'FLOAT', 'NULLABLE'),\n",
    "    bigquery.SchemaField('ctr', 'FLOAT', 'NULLABLE'),\n",
    "    bigquery.SchemaField('spend', 'FLOAT', 'NULLABLE'),\n",
    "]"
   ]
  },
  {
   "cell_type": "code",
   "execution_count": null,
   "id": "998837ee-379c-4639-8c57-6d062d846a7c",
   "metadata": {},
   "outputs": [],
   "source": [
    "ad_account=create_fb_account(ad_account_id)\n",
    "df_adinsights,err=req_fb(time_range_since,time_range_until,ad_account)\n",
    "if err=='OK':\n",
    "    _ = save_to_bq(df_adinsights, \"ad_insights\", schema_ad)"
   ]
  },
  {
   "cell_type": "markdown",
   "id": "18c1e0fa-d781-47ce-bf7b-f6663499d3cf",
   "metadata": {},
   "source": [
    "# OTHER Methods"
   ]
  },
  {
   "cell_type": "markdown",
   "id": "9b139d3e-5abb-4d19-9da3-d44769fbb25f",
   "metadata": {},
   "source": [
    "## breakdowns:\n",
    "list<enum{ad_format_asset, age, app_id, body_asset, call_to_action_asset, страна, description_asset, пол, image_asset, Impression_Device, link_url_asset, product_id, region, skan_conversion_id, title_asset, video_asset, dma, Frequency_value, hourly_stats_aggregated_by_advertiser_time_zone, hourly_stats_aggregated_by_advertiser_time_zone, hourly_form_stats_aggregated_by_placeer_time_zone, publisher_pageid_position_time_zone, place_audience_time_zone, платформа_устройства}>\n",
    "\n",
    "- https://developers.facebook.com/docs/marketing-api/insights/breakdowns\n",
    "- https://developers.facebook.com/docs/marketing-api/insights/breakdowns#combiningbreakdowns"
   ]
  },
  {
   "cell_type": "markdown",
   "id": "1f3aefab-c021-4d50-b47e-14254a551969",
   "metadata": {},
   "source": [
    "## ad_account.get_insights - info about account"
   ]
  },
  {
   "cell_type": "code",
   "execution_count": null,
   "id": "1fe7eb5f-33a8-4e97-b5dd-2dc259887604",
   "metadata": {},
   "outputs": [],
   "source": [
    "fields = [\n",
    "    'clicks'\n",
    "]\n",
    "params = {\n",
    "    'time_range': {'since':'2022-01-19','until':'2022-02-18'},\n",
    "    'filtering': [],\n",
    "    'level': 'account',\n",
    "    'breakdowns': ['age'],\n",
    "}\n",
    "result=(ad_account.get_insights(\n",
    "    fields=fields,\n",
    "    params=params,\n",
    "))"
   ]
  },
  {
   "cell_type": "code",
   "execution_count": null,
   "id": "f86829b9-830c-48ca-b495-d820ffed95a1",
   "metadata": {},
   "outputs": [],
   "source": [
    "fields = [\n",
    "    'clicks'\n",
    "]\n",
    "params = {\n",
    "    'time_range': {'since':'2022-01-19','until':'2022-02-18'},\n",
    "    'filtering': [],\n",
    "    'level': 'account',\n",
    "    'breakdowns': ['gender','age'],\n",
    "}\n",
    "result=(ad_account.get_insights(\n",
    "    fields=fields,\n",
    "    params=params,\n",
    "))"
   ]
  },
  {
   "cell_type": "markdown",
   "id": "a901752e-c731-49c8-8c52-7273e0b541ed",
   "metadata": {},
   "source": [
    "## ad_account.get_ad_sets - info about ads group"
   ]
  },
  {
   "cell_type": "code",
   "execution_count": null,
   "id": "dd199f1f-0eda-4d80-902c-ea183606491a",
   "metadata": {},
   "outputs": [],
   "source": [
    "adsets = ad_account.get_ad_sets(fields=[AdSet.Field.name])\n",
    "for adset in adsets:\n",
    "    print(adset[AdSet.Field.name])"
   ]
  },
  {
   "cell_type": "markdown",
   "id": "b50d6b42-c718-4cf8-8cd8-1cf389bd5d74",
   "metadata": {},
   "source": [
    "## ad_account.get_ads - info about ads"
   ]
  },
  {
   "cell_type": "code",
   "execution_count": null,
   "id": "37056711-054d-498a-a1de-ebc6200e9bf9",
   "metadata": {},
   "outputs": [],
   "source": [
    "ad_iter = ad_account.get_ads(fields=[Ad.Field.name])\n",
    "print(ad_iter[24])\n",
    "print(ad_iter[1][Ad.Field.name])"
   ]
  },
  {
   "cell_type": "markdown",
   "id": "3264e72b-5daa-4228-8387-d40ff00d6957",
   "metadata": {},
   "source": [
    "## campaign.get_ads\n",
    "\n",
    "campaign = Campaign(campaign_id)\n",
    "ad_iter = campaign.get_ads(fields=[Ad.Field.name])"
   ]
  },
  {
   "cell_type": "code",
   "execution_count": null,
   "id": "317015a1-1a24-4e46-802b-91907331178c",
   "metadata": {},
   "outputs": [],
   "source": [
    "campaign_id = '2323523525235235325'\n",
    "campaign = Campaign(campaign_id)\n",
    "ad_iter = campaign.get_ads(fields=[Ad.Field.name])\n",
    "for ad in ad_iter:\n",
    "    print(ad[Ad.Field.name]) "
   ]
  },
  {
   "cell_type": "code",
   "execution_count": null,
   "id": "23215019-7db3-4f13-a3b2-e73fcb4fbb8a",
   "metadata": {},
   "outputs": [],
   "source": [
    "fields = [\n",
    "    'impressions',\n",
    "    'clicks',\n",
    "]\n",
    "params = {\n",
    "    'date_preset': 'this_month',\n",
    "    'breakdowns': 'age',\n",
    "}\n",
    "print(campaign.get_insights(\n",
    "  fields=fields,\n",
    "  params=params,\n",
    "))"
   ]
  },
  {
   "cell_type": "markdown",
   "id": "23f39399-a922-4cb7-aa0d-184a4f177254",
   "metadata": {},
   "source": [
    "## ad_set.get_ads\n",
    "\n",
    "ad_set = AdSet(adset_id)\n",
    "ad_iter = ad_set.get_ads(fields=[Ad.Field.name])\n",
    "ad_set.get_insights - получить статистику по группе объявлений"
   ]
  },
  {
   "cell_type": "code",
   "execution_count": null,
   "id": "2e36ffa4-2a4d-496b-8f2f-0a22fb6d35da",
   "metadata": {},
   "outputs": [],
   "source": [
    "adset_id = '345345346346346346'\n",
    "ad_set = AdSet(adset_id)\n",
    "field_list=[Ad.Field.name,Ad.Field.id,Ad.Field.account_id,Ad.Field.ad_review_feedback,Ad.Field.adlabels,\n",
    "          Ad.Field.adset,Ad.Field.bid_amount,Ad.Field.campaign,Ad.Field.campaign_id,\n",
    "          Ad.Field.configured_status,Ad.Field.effective_status,Ad.Field.status,\n",
    "          Ad.Field.conversion_domain,Ad.Field.created_time,\n",
    "          Ad.Field.preview_shareable_link,Ad.Field.source_ad, Ad.Field.tracking_specs,Ad.Field.updated_time]\n",
    "ad_iter = ad_set.get_ads(fields=field_list)\n",
    "for ad in ad_iter:\n",
    "    print(ad[Ad.Field.name])"
   ]
  },
  {
   "cell_type": "code",
   "execution_count": null,
   "id": "30ff39ff-a529-4f22-b3dd-64a65158ed70",
   "metadata": {},
   "outputs": [],
   "source": [
    "fields = [\n",
    "    'impressions',\n",
    "    'clicks',\n",
    "]\n",
    "params = {\n",
    "    'date_preset': 'this_month',\n",
    "    'breakdowns': 'age',\n",
    "}\n",
    "print(ad_set.get_insights(\n",
    "  fields=fields,\n",
    "  params=params,\n",
    "))"
   ]
  },
  {
   "cell_type": "markdown",
   "id": "155d8f07-2427-4300-819e-529b36184ecf",
   "metadata": {},
   "source": [
    "## ad.api_get"
   ]
  },
  {
   "cell_type": "code",
   "execution_count": null,
   "id": "4e3f681c-234c-4ce8-b109-6c11af6f5471",
   "metadata": {},
   "outputs": [],
   "source": [
    "def each_ad(adid):\n",
    "    ad_id = adid\n",
    "    ad = Ad(ad_id)\n",
    "    print(ad_id)\n",
    "    field_list=[Ad.Field.name,Ad.Field.id,Ad.Field.account_id,Ad.Field.ad_review_feedback,Ad.Field.adlabels,\n",
    "          Ad.Field.adset,Ad.Field.bid_amount,Ad.Field.campaign,Ad.Field.campaign_id,\n",
    "          Ad.Field.configured_status,Ad.Field.effective_status,Ad.Field.status,\n",
    "          Ad.Field.conversion_domain,Ad.Field.created_time,\n",
    "          Ad.Field.preview_shareable_link,Ad.Field.source_ad, Ad.Field.tracking_specs,Ad.Field.updated_time]\n",
    "    print(ad.api_get(fields=field_list))\n",
    "    print('-----------------------------')\n",
    "    \n",
    "    fields = [\n",
    "        'ad_id',\n",
    "        'adset_id',\n",
    "        'campaign_id',\n",
    "        'impressions',  \n",
    "        'clicks',\n",
    "        'conversions',  \n",
    "        'cpc', \n",
    "    ]\n",
    "    \n",
    "    params = {\n",
    "        'date_preset': 'this_month',\n",
    "        'breakdowns': ['age'],\n",
    "    }\n",
    "    print(ad.get_insights(\n",
    "      fields=fields,\n",
    "      params=params,\n",
    "    ))\n",
    "    print('=======================================================')"
   ]
  },
  {
   "cell_type": "code",
   "execution_count": null,
   "id": "3f3d6152-f8b8-4a66-acc8-9434ca617230",
   "metadata": {},
   "outputs": [],
   "source": [
    "ad_iter = ad_account.get_ads(fields=[Ad.Field.name,Ad.Field.id])\n",
    "for i in range(1,3):\n",
    "    each_ad(ad_iter[1][Ad.Field.id])"
   ]
  }
 ],
 "metadata": {
  "kernelspec": {
   "display_name": "Python 3 (ipykernel)",
   "language": "python",
   "name": "python3"
  },
  "language_info": {
   "codemirror_mode": {
    "name": "ipython",
    "version": 3
   },
   "file_extension": ".py",
   "mimetype": "text/x-python",
   "name": "python",
   "nbconvert_exporter": "python",
   "pygments_lexer": "ipython3",
   "version": "3.8.15"
  }
 },
 "nbformat": 4,
 "nbformat_minor": 5
}
