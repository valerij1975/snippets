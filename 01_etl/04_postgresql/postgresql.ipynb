{
 "cells": [
  {
   "cell_type": "code",
   "execution_count": null,
   "id": "14113084-d282-47b5-9d4b-269b1430ce16",
   "metadata": {},
   "outputs": [],
   "source": [
    "import os\n",
    "import pandas as pd\n",
    "import psycopg2\n",
    "from sqlalchemy import create_engine"
   ]
  },
  {
   "cell_type": "markdown",
   "id": "a22b2874-e615-49a8-9966-05c8bad579ae",
   "metadata": {},
   "source": [
    "# SQLAlchemy - from PostgreSQL to .parquet"
   ]
  },
  {
   "cell_type": "code",
   "execution_count": null,
   "id": "0d7d6295-3ce1-438d-b3ad-aa49db14055b",
   "metadata": {},
   "outputs": [],
   "source": [
    "host = '111.111.111.111'\n",
    "dbname = 'db_new'\n",
    "port = 15555"
   ]
  },
  {
   "cell_type": "code",
   "execution_count": null,
   "id": "6db926ba-e1cc-4465-a487-971ccd93c512",
   "metadata": {},
   "outputs": [],
   "source": [
    "# user, password, host, port, dbname\n",
    "conn_string='postgresql://{}:{}@{}:{}/{}'.format(input(),input(),host,port,dbname)\n",
    "engine=create_engine(conn_string)\n",
    "engine"
   ]
  },
  {
   "cell_type": "code",
   "execution_count": null,
   "id": "49f8b776-f837-4169-a491-78723dccd834",
   "metadata": {},
   "outputs": [],
   "source": [
    "%%time\n",
    "mon_list=['202201','202202']\n",
    "for d in mon_list:\n",
    "    print(d)\n",
    "    query_sales = \"\"\"\n",
    "        select *\n",
    "        from base_sales_{}\n",
    "        where product_group='food';\n",
    "        \"\"\".format(d)\n",
    "    df = pd.read_sql_query(query_sales, engine)\n",
    "    df.to_parquet('base_sales_{}.parquet'.format(d))"
   ]
  },
  {
   "cell_type": "markdown",
   "id": "906066d3-2a93-4a25-bc22-1c55363335f3",
   "metadata": {},
   "source": [
    "# Psycopg2 - from PostgreSQL, samples"
   ]
  },
  {
   "cell_type": "markdown",
   "id": "46f2dd2b-27a5-4474-a13e-189fa272ee13",
   "metadata": {},
   "source": [
    "## Connect to PostgreSQL"
   ]
  },
  {
   "cell_type": "code",
   "execution_count": null,
   "id": "e2dc5a87-36c4-4c8c-bbb9-b1383276ad1b",
   "metadata": {},
   "outputs": [],
   "source": [
    "HOST=\"fffffffff\"\n",
    "PORT=\"6432\"\n",
    "DBNAME='olist'\n",
    "USER=\"user1\"\n",
    "PASSWORD='olist'"
   ]
  },
  {
   "cell_type": "code",
   "execution_count": null,
   "id": "3c7b5f96-87e9-409a-bc54-588805123c2f",
   "metadata": {},
   "outputs": [],
   "source": [
    "conn = psycopg2.connect(\"\"\"\n",
    "    host={}\n",
    "    port={}\n",
    "    dbname={}\n",
    "    user={}\n",
    "    password={}\n",
    "    target_session_attrs=read-write\n",
    "    sslmode=verify-full\n",
    "\"\"\".format(HOST,PORT,DBNAME,USER,PASSWORD)) "
   ]
  },
  {
   "cell_type": "code",
   "execution_count": null,
   "id": "045149d5-3c90-4e78-a42e-7cdf9e5be89b",
   "metadata": {},
   "outputs": [],
   "source": [
    "# reconnection\n",
    "def refcon():\n",
    "    global conn\n",
    "    global cursor\n",
    "    cursor.close()\n",
    "    conn.close()\n",
    "    conn = psycopg2.connect(\"\"\"\n",
    "        host={}\n",
    "        port={}\n",
    "        dbname={}\n",
    "        user={}\n",
    "        password={}\n",
    "        target_session_attrs=read-write\n",
    "        sslmode=verify-full\n",
    "    \"\"\") \n",
    "    cursor = conn.cursor()"
   ]
  },
  {
   "cell_type": "markdown",
   "id": "3f34dff9-0a8f-4d92-883c-f994ea0d2b16",
   "metadata": {},
   "source": [
    "## Query about database"
   ]
  },
  {
   "cell_type": "code",
   "execution_count": null,
   "id": "e4cd9e99-590f-46f6-b271-ee7b58a7db0c",
   "metadata": {},
   "outputs": [],
   "source": [
    "print(\"Info about server PostgreSQL\")\n",
    "print(conn.get_dsn_parameters(), \"\\n\")"
   ]
  },
  {
   "cell_type": "code",
   "execution_count": null,
   "id": "53130758-dca2-4d2c-89ab-df6e51a13e61",
   "metadata": {},
   "outputs": [],
   "source": [
    "cursor = conn.cursor()"
   ]
  },
  {
   "cell_type": "code",
   "execution_count": null,
   "id": "d9e6a0c7-7d37-46ed-a6c1-3d1be5ec88a6",
   "metadata": {},
   "outputs": [],
   "source": [
    "cursor.execute(\"SELECT version();\")\n",
    "record = cursor.fetchone()\n",
    "print(\"You connect to - \", record, \"\\n\")"
   ]
  },
  {
   "cell_type": "code",
   "execution_count": null,
   "id": "62636484-701c-408f-84a7-d58ca9019915",
   "metadata": {},
   "outputs": [],
   "source": [
    "cursor.execute(\"SELECT table_name FROM information_schema.tables WHERE table_schema NOT IN ('information_schema','pg_catalog');\")\n",
    "record = cursor.fetchall()\n",
    "print(\"List of tables - \", record, \"\\n\")"
   ]
  },
  {
   "cell_type": "code",
   "execution_count": null,
   "id": "34296f33-4658-4729-a9c3-097dbea7de28",
   "metadata": {},
   "outputs": [],
   "source": [
    "query_txt=\"SELECT table_name, ordinal_position, column_name FROM information_schema.columns WHERE table_schema NOT IN ('information_schema','pg_catalog');\"\n",
    "cursor.execute(query_txt)\n",
    "record = cursor.fetchall()\n",
    "print(\"List of tables and fields - \", record, \"\\n\")"
   ]
  },
  {
   "cell_type": "code",
   "execution_count": null,
   "id": "89ca0515-f1e5-4c96-a52c-67d354c13fb3",
   "metadata": {},
   "outputs": [],
   "source": [
    "# create dataframe with list of tables and fields\n",
    "df_shema=pd.DataFrame(list(record), columns=['table_name','column_position','column_name']).sort_values(['table_name','column_position'])"
   ]
  },
  {
   "cell_type": "markdown",
   "id": "5b1c9899-74c5-4f15-bdf6-9e98b078e32f",
   "metadata": {},
   "source": [
    "## SQL queries - samples"
   ]
  },
  {
   "cell_type": "code",
   "execution_count": null,
   "id": "e07725d2-88d6-4af3-b437-3f90a7f7c890",
   "metadata": {},
   "outputs": [],
   "source": [
    "# sql-query to dataframe\n",
    "def sql_full(sql_text):\n",
    "    try:\n",
    "        cursor.execute(sql_text)\n",
    "        tmp = cursor.fetchall()\n",
    "        col_names = []\n",
    "        for item in cursor.description:\n",
    "            col_names.append(item[0])\n",
    "        df = pd.DataFrame(tmp, columns=col_names)\n",
    "        return [col_names]+tmp, df\n",
    "    except Exception:\n",
    "        print('Error SQL query')  \n",
    "        refcon()\n",
    "        return 'NO', pd.DataFrame(columns = ['in'])"
   ]
  },
  {
   "cell_type": "code",
   "execution_count": null,
   "id": "cb775622-adc3-468d-b76b-63d406cac363",
   "metadata": {},
   "outputs": [],
   "source": [
    "query_txt=\"\"\"\n",
    "SELECT\n",
    "  COUNT(DISTINCT order_item_id) num_order_item,\n",
    "  COUNT(DISTINCT order_id) num_order,\n",
    "  COUNT(DISTINCT product_id) num_product,\n",
    "  COUNT(DISTINCT seller_id) num_seller,\n",
    "  COUNT(*) totalRows\n",
    "FROM\n",
    "  order_items;\n",
    "\"\"\"\n",
    "q_txt, q_pandas = sql_full(query_txt)\n",
    "q_pandas.head()"
   ]
  },
  {
   "cell_type": "code",
   "execution_count": null,
   "id": "2f264bbd-2bfb-4937-83a3-8c29a846b148",
   "metadata": {},
   "outputs": [],
   "source": [
    "query_txt_closed_deals=\"\"\"\n",
    "SELECT '' || STRING_AGG('o.' || column_name, ', ') || ''\n",
    "FROM information_schema.columns\n",
    "WHERE table_name = 'closed_deals'\n",
    "AND table_schema NOT IN ('information_schema','pg_catalog')\n",
    "AND column_name NOT IN ('seller_id');\n",
    "\"\"\"\n",
    "q_txt_closed_deals, q_pandas = sql_full(query_txt_closed_deals)\n",
    "\n",
    "query_txt_order_items=\"\"\"\n",
    "SELECT '' || STRING_AGG('ord.' || column_name, ', ') || ''\n",
    "FROM information_schema.columns\n",
    "WHERE table_name = 'order_items'\n",
    "AND table_schema NOT IN ('information_schema','pg_catalog')\n",
    "AND column_name NOT IN ('seller_id');\n",
    "\"\"\"\n",
    "q_txt_order_items, q_pandas = sql_full(query_txt_order_items)\n",
    "\n",
    "query_txt_products=\"\"\"\n",
    "SELECT '' || STRING_AGG('p.' || column_name, ', ') || ''\n",
    "FROM information_schema.columns\n",
    "WHERE table_name = 'products'\n",
    "AND table_schema NOT IN ('information_schema','pg_catalog')\n",
    "AND column_name NOT IN ('product_id');\n",
    "\"\"\"\n",
    "q_txt_products, q_pandas = sql_full(query_txt_products)\n",
    "\n",
    "q_txt_ordcustgeo=\"c.customer_unique_id, c.customer_zip_code_prefix, c.customer_city, c.customer_state, c.customers_geo_lat, c.customers_geo_lng\"\n",
    "\n",
    "q_txt_rev=\"\"\"rev.num_reviews_per_order, rev.min_review_create_date, rev.max_review_create_date, rev.min_review_answer_date, \n",
    "rev.max_review_answer_date, rev.review_id, rev.review_score\"\"\"\n",
    "\n",
    "query_txt=f\"\"\"\n",
    "WITH geoavg AS (SELECT \n",
    "  geolocation_zip_code_prefix,\n",
    "  AVG(geolocation_lat) AS lat,\n",
    "  AVG(geolocation_lng) AS lng\n",
    "FROM geolocation\n",
    "GROUP BY\n",
    "    geolocation_zip_code_prefix),  \n",
    "\n",
    "selzip AS (\n",
    "SELECT \n",
    "    s.*, \n",
    "    geoavg.lat AS sellers_geo_lat,\n",
    "    geoavg.lng AS sellers_geo_lng\n",
    "FROM sellers s LEFT JOIN geoavg ON s.seller_zip_code_prefix=geoavg.geolocation_zip_code_prefix),\n",
    "\n",
    "selzipclose AS (\n",
    "SELECT \n",
    "    s.*, \n",
    "    {q_txt_closed_deals[1][0]}\n",
    "FROM selzip s LEFT JOIN closed_deals o ON s.seller_id=o.seller_id),\n",
    "\n",
    "\n",
    "oit AS (SELECT \n",
    "    {q_txt_order_items[1][0]}, \n",
    "    s.* \n",
    "FROM order_items ord LEFT JOIN selzipclose s ON ord.seller_id=s.seller_id),\n",
    "\n",
    "order_items1 AS (SELECT\n",
    "    oit.*, \n",
    "    {q_txt_products[1][0]}\n",
    "FROM oit LEFT JOIN products p ON oit.product_id=p.product_id),\n",
    "\n",
    "\n",
    "custgeo AS (\n",
    "SELECT \n",
    "    c.*, \n",
    "    geoavg.lat AS customers_geo_lat,\n",
    "    geoavg.lng AS customers_geo_lng\n",
    "FROM customers c LEFT JOIN geoavg ON c.customer_zip_code_prefix=geoavg.geolocation_zip_code_prefix),\n",
    "\n",
    "ordcustgeo AS (\n",
    "SELECT\n",
    "    ord.*, \n",
    "    {q_txt_ordcustgeo}\n",
    "FROM orders ord LEFT JOIN custgeo c ON ord.customer_id=c.customer_id),\n",
    "\n",
    "itemavg AS (SELECT \n",
    "  order_id,\n",
    "  MAX(order_item_id) AS order_item_count,\n",
    "  SUM(price) AS sum_price,\n",
    "  SUM(freight_value) AS sum_freight_value,\n",
    "  SUM(price)+SUM(freight_value) AS sum_price_freight\n",
    "\n",
    "FROM order_items1\n",
    "GROUP BY\n",
    "    order_id),  \n",
    "\n",
    "orditem1 AS (\n",
    "SELECT \n",
    "    o.*, \n",
    "    i.order_item_count, i.sum_price, i.sum_freight_value, i.sum_price_freight\n",
    "FROM ordcustgeo o LEFT JOIN itemavg i ON o.order_id=i.order_id),\n",
    "\n",
    "ordprod AS (\n",
    "SELECT \n",
    "  COUNT(*) as num_prod,\n",
    "  order_id,\n",
    "  product_id\n",
    "FROM order_items1\n",
    "\n",
    "GROUP BY\n",
    "  order_id, \n",
    "  product_id),\n",
    "  \n",
    "unprod AS(\n",
    "SELECT \n",
    "  COUNT(*) as num_uniq_prod,\n",
    "  order_id\n",
    "FROM ordprod\n",
    "\n",
    "GROUP BY\n",
    "  order_id),\n",
    "\n",
    "orditem2 AS (\n",
    "SELECT \n",
    "    o.*, \n",
    "    unprod.num_uniq_prod\n",
    "FROM orditem1 o LEFT JOIN unprod ON o.order_id=unprod.order_id),\n",
    "\n",
    "tmp AS (\n",
    "SELECT \n",
    "  MAX(review_answer_timestamp) as max_review_answer_date,\n",
    "  order_id\n",
    "FROM order_reviews\n",
    "GROUP BY\n",
    "  order_id),\n",
    " \n",
    "score AS( \n",
    "SELECT \n",
    "  s.review_score AS review_score,\n",
    "  s.review_id AS review_id,\n",
    "  s.review_answer_timestamp AS review_answer_timestamp,\n",
    "  s.order_id AS order_id\n",
    "FROM order_reviews s RIGHT JOIN tmp ON s.review_answer_timestamp=tmp.max_review_answer_date AND s.order_id=tmp.order_id),\n",
    "\n",
    "avgr AS(\n",
    "SELECT \n",
    "  order_id,\n",
    "  COUNT(*) as num_reviews_per_order,\n",
    "  MIN(review_creation_date) as min_review_create_date,\n",
    "  MAX(review_creation_date) as max_review_create_date,\n",
    "  MIN(review_answer_timestamp) as min_review_answer_date,\n",
    "  MAX(review_answer_timestamp) as max_review_answer_date\n",
    "\n",
    "  \n",
    "FROM order_reviews\n",
    "\n",
    "GROUP BY\n",
    "  order_id),\n",
    "  \n",
    "rev AS (\n",
    "SELECT \n",
    "a.*,\n",
    "score.review_id AS review_id,\n",
    "score.review_score\n",
    "FROM avgr a LEFT JOIN score ON a.order_id=score.order_id)\n",
    "\n",
    "SELECT \n",
    "    s.*,\n",
    "    {q_txt_rev}\n",
    "FROM orditem2 s LEFT JOIN rev ON s.order_id=rev.order_id;\n",
    "\n",
    "\"\"\"\n",
    "#print(query_txt)\n",
    "q_txt, df_orders = sql_full(query_txt)\n",
    "print(df_orders.shape)\n",
    "df_orders.head(1)"
   ]
  },
  {
   "cell_type": "code",
   "execution_count": null,
   "id": "ad4cbb87-b964-4b3a-93ba-e59f6f53c22b",
   "metadata": {},
   "outputs": [],
   "source": []
  },
  {
   "cell_type": "code",
   "execution_count": null,
   "id": "6d045f59-5504-4179-9628-9d85acecc142",
   "metadata": {},
   "outputs": [],
   "source": []
  },
  {
   "cell_type": "code",
   "execution_count": null,
   "id": "96a097c2-c5b3-40b2-ab34-6524fa6a50bc",
   "metadata": {},
   "outputs": [],
   "source": [
    "# Close communication with the database\n",
    "cursor.close()\n",
    "conn.close()"
   ]
  }
 ],
 "metadata": {
  "kernelspec": {
   "display_name": "Python 3 (ipykernel)",
   "language": "python",
   "name": "python3"
  },
  "language_info": {
   "codemirror_mode": {
    "name": "ipython",
    "version": 3
   },
   "file_extension": ".py",
   "mimetype": "text/x-python",
   "name": "python",
   "nbconvert_exporter": "python",
   "pygments_lexer": "ipython3",
   "version": "3.8.15"
  }
 },
 "nbformat": 4,
 "nbformat_minor": 5
}
