{
 "cells": [
  {
   "cell_type": "code",
   "execution_count": null,
   "id": "c4064029-dc0e-46b8-a1b7-d9d6a98fd1a0",
   "metadata": {},
   "outputs": [],
   "source": [
    "#!pip install redis\n",
    "#!sudo snap install redis"
   ]
  },
  {
   "cell_type": "code",
   "execution_count": 24,
   "id": "bba10e25-9550-432d-9428-03328cfa4b05",
   "metadata": {},
   "outputs": [],
   "source": [
    "import pandas as pd\n",
    "import numpy as np\n",
    "import redis\n",
    "import concurrent.futures\n",
    "import pickle as pkl\n",
    "from loguru import logger\n",
    "import random\n",
    "import string"
   ]
  },
  {
   "cell_type": "markdown",
   "id": "424b808f-4e2c-493f-841b-6fbb1b4e2877",
   "metadata": {},
   "source": [
    "# Sample datasets"
   ]
  },
  {
   "cell_type": "code",
   "execution_count": 97,
   "id": "6e192581-b6f4-4717-89a8-eb11316806a5",
   "metadata": {},
   "outputs": [],
   "source": [
    "def random_string(length):\n",
    "    letters = string.ascii_letters\n",
    "    return ''.join(random.choice(letters) for i in range(length))\n",
    "\n",
    "def create_random_df():\n",
    "    unique_strings = [random_string(10) for i in range(1, 100)]\n",
    "    data = {'col1': np.random.choice(unique_strings, 10),\n",
    "            'col2': np.random.normal(100,10,10),\n",
    "            'col3': np.random.choice(['A','B','C','D'],10)}\n",
    "    return pd.DataFrame(data)\n",
    "df=create_random_df()\n",
    "df1=create_random_df()"
   ]
  },
  {
   "cell_type": "code",
   "execution_count": 98,
   "id": "511c6f98-af32-44a6-9d3c-6d07ee3af53a",
   "metadata": {},
   "outputs": [
    {
     "data": {
      "text/html": [
       "<div><div id=48330d7a-0c9f-4976-925a-70e6df350597 style=\"display:none; background-color:#9D6CFF; color:white; width:200px; height:30px; padding-left:5px; border-radius:4px; flex-direction:row; justify-content:space-around; align-items:center;\" onmouseover=\"this.style.backgroundColor='#BA9BF8'\" onmouseout=\"this.style.backgroundColor='#9D6CFF'\" onclick=\"window.commands?.execute('create-mitosheet-from-dataframe-output');\">See Full Dataframe in Mito</div> <script> if (window.commands.hasCommand('create-mitosheet-from-dataframe-output')) document.getElementById('48330d7a-0c9f-4976-925a-70e6df350597').style.display = 'flex' </script> <table border=\"1\" class=\"dataframe\">\n",
       "  <thead>\n",
       "    <tr style=\"text-align: right;\">\n",
       "      <th></th>\n",
       "      <th>col1</th>\n",
       "      <th>col2</th>\n",
       "      <th>col3</th>\n",
       "    </tr>\n",
       "  </thead>\n",
       "  <tbody>\n",
       "    <tr>\n",
       "      <th>0</th>\n",
       "      <td>coEvnluuNT</td>\n",
       "      <td>101.166692</td>\n",
       "      <td>C</td>\n",
       "    </tr>\n",
       "    <tr>\n",
       "      <th>1</th>\n",
       "      <td>JgoRGvhMTX</td>\n",
       "      <td>94.258721</td>\n",
       "      <td>D</td>\n",
       "    </tr>\n",
       "    <tr>\n",
       "      <th>2</th>\n",
       "      <td>RchPMPBskj</td>\n",
       "      <td>86.799792</td>\n",
       "      <td>B</td>\n",
       "    </tr>\n",
       "    <tr>\n",
       "      <th>3</th>\n",
       "      <td>oTIIRSQeKb</td>\n",
       "      <td>92.425227</td>\n",
       "      <td>A</td>\n",
       "    </tr>\n",
       "    <tr>\n",
       "      <th>4</th>\n",
       "      <td>oxtgmVTTyh</td>\n",
       "      <td>100.691178</td>\n",
       "      <td>D</td>\n",
       "    </tr>\n",
       "    <tr>\n",
       "      <th>5</th>\n",
       "      <td>kyAyznfqqV</td>\n",
       "      <td>117.567837</td>\n",
       "      <td>B</td>\n",
       "    </tr>\n",
       "    <tr>\n",
       "      <th>6</th>\n",
       "      <td>pgwglhogWJ</td>\n",
       "      <td>98.950190</td>\n",
       "      <td>D</td>\n",
       "    </tr>\n",
       "    <tr>\n",
       "      <th>7</th>\n",
       "      <td>WmAVcrAonK</td>\n",
       "      <td>104.296631</td>\n",
       "      <td>D</td>\n",
       "    </tr>\n",
       "    <tr>\n",
       "      <th>8</th>\n",
       "      <td>agnVotqonr</td>\n",
       "      <td>103.781794</td>\n",
       "      <td>D</td>\n",
       "    </tr>\n",
       "    <tr>\n",
       "      <th>9</th>\n",
       "      <td>UKLnKKDDUs</td>\n",
       "      <td>87.255390</td>\n",
       "      <td>B</td>\n",
       "    </tr>\n",
       "  </tbody>\n",
       "</table></div>"
      ],
      "text/plain": [
       "         col1        col2 col3\n",
       "0  coEvnluuNT  101.166692    C\n",
       "1  JgoRGvhMTX   94.258721    D\n",
       "2  RchPMPBskj   86.799792    B\n",
       "3  oTIIRSQeKb   92.425227    A\n",
       "4  oxtgmVTTyh  100.691178    D\n",
       "5  kyAyznfqqV  117.567837    B\n",
       "6  pgwglhogWJ   98.950190    D\n",
       "7  WmAVcrAonK  104.296631    D\n",
       "8  agnVotqonr  103.781794    D\n",
       "9  UKLnKKDDUs   87.255390    B"
      ]
     },
     "execution_count": 98,
     "metadata": {},
     "output_type": "execute_result"
    }
   ],
   "source": [
    "df"
   ]
  },
  {
   "cell_type": "code",
   "execution_count": 99,
   "id": "e2f2e3cf-620e-4327-91b6-5600494ccf35",
   "metadata": {},
   "outputs": [
    {
     "data": {
      "text/html": [
       "<div><div id=92cb28d0-f82d-460a-aea9-3ea4de4abacf style=\"display:none; background-color:#9D6CFF; color:white; width:200px; height:30px; padding-left:5px; border-radius:4px; flex-direction:row; justify-content:space-around; align-items:center;\" onmouseover=\"this.style.backgroundColor='#BA9BF8'\" onmouseout=\"this.style.backgroundColor='#9D6CFF'\" onclick=\"window.commands?.execute('create-mitosheet-from-dataframe-output');\">See Full Dataframe in Mito</div> <script> if (window.commands.hasCommand('create-mitosheet-from-dataframe-output')) document.getElementById('92cb28d0-f82d-460a-aea9-3ea4de4abacf').style.display = 'flex' </script> <table border=\"1\" class=\"dataframe\">\n",
       "  <thead>\n",
       "    <tr style=\"text-align: right;\">\n",
       "      <th></th>\n",
       "      <th>col1</th>\n",
       "      <th>col2</th>\n",
       "      <th>col3</th>\n",
       "    </tr>\n",
       "  </thead>\n",
       "  <tbody>\n",
       "    <tr>\n",
       "      <th>0</th>\n",
       "      <td>vIzrAxMDIx</td>\n",
       "      <td>98.010808</td>\n",
       "      <td>A</td>\n",
       "    </tr>\n",
       "    <tr>\n",
       "      <th>1</th>\n",
       "      <td>RhEJnLAFoi</td>\n",
       "      <td>102.010487</td>\n",
       "      <td>B</td>\n",
       "    </tr>\n",
       "    <tr>\n",
       "      <th>2</th>\n",
       "      <td>vEcZjtBzLD</td>\n",
       "      <td>112.437672</td>\n",
       "      <td>D</td>\n",
       "    </tr>\n",
       "    <tr>\n",
       "      <th>3</th>\n",
       "      <td>BBlswaYvji</td>\n",
       "      <td>108.277743</td>\n",
       "      <td>D</td>\n",
       "    </tr>\n",
       "    <tr>\n",
       "      <th>4</th>\n",
       "      <td>isebCUDsgh</td>\n",
       "      <td>116.039990</td>\n",
       "      <td>A</td>\n",
       "    </tr>\n",
       "    <tr>\n",
       "      <th>5</th>\n",
       "      <td>ASydNKfEOk</td>\n",
       "      <td>93.984055</td>\n",
       "      <td>D</td>\n",
       "    </tr>\n",
       "    <tr>\n",
       "      <th>6</th>\n",
       "      <td>vyMOBsdDcG</td>\n",
       "      <td>96.337740</td>\n",
       "      <td>B</td>\n",
       "    </tr>\n",
       "    <tr>\n",
       "      <th>7</th>\n",
       "      <td>OewKjylHtr</td>\n",
       "      <td>99.585763</td>\n",
       "      <td>D</td>\n",
       "    </tr>\n",
       "    <tr>\n",
       "      <th>8</th>\n",
       "      <td>VnImfPVUKN</td>\n",
       "      <td>109.421772</td>\n",
       "      <td>D</td>\n",
       "    </tr>\n",
       "    <tr>\n",
       "      <th>9</th>\n",
       "      <td>snWdlYcOJv</td>\n",
       "      <td>95.542644</td>\n",
       "      <td>B</td>\n",
       "    </tr>\n",
       "  </tbody>\n",
       "</table></div>"
      ],
      "text/plain": [
       "         col1        col2 col3\n",
       "0  vIzrAxMDIx   98.010808    A\n",
       "1  RhEJnLAFoi  102.010487    B\n",
       "2  vEcZjtBzLD  112.437672    D\n",
       "3  BBlswaYvji  108.277743    D\n",
       "4  isebCUDsgh  116.039990    A\n",
       "5  ASydNKfEOk   93.984055    D\n",
       "6  vyMOBsdDcG   96.337740    B\n",
       "7  OewKjylHtr   99.585763    D\n",
       "8  VnImfPVUKN  109.421772    D\n",
       "9  snWdlYcOJv   95.542644    B"
      ]
     },
     "execution_count": 99,
     "metadata": {},
     "output_type": "execute_result"
    }
   ],
   "source": [
    "df1"
   ]
  },
  {
   "cell_type": "markdown",
   "id": "e144d224-44f3-466e-9b32-edbccf831a97",
   "metadata": {},
   "source": [
    "# SAVE to Redis / GET from Redis dataframes"
   ]
  },
  {
   "cell_type": "code",
   "execution_count": 100,
   "id": "474299d4-9eaa-4b6f-adf5-8861527301ba",
   "metadata": {},
   "outputs": [
    {
     "name": "stderr",
     "output_type": "stream",
     "text": [
      "2023-02-05 11:05:56.076 | INFO     | __main__:<module>:3 - Connect to redis\n",
      "2023-02-05 11:05:56.080 | INFO     | __main__:<module>:7 - Connecting to redis works!\n"
     ]
    }
   ],
   "source": [
    "USE_CACHE = True\n",
    "\n",
    "logger.info(\"Connect to redis\")\n",
    "r = redis.Redis(host=\"127.0.0.1\", port=6379, db=1)\n",
    "\n",
    "if r.ping():\n",
    "    logger.info(\"Connecting to redis works!\")\n",
    "else:\n",
    "    logger.error(\"Problem connect to redis\")\n",
    "\n",
    "\n",
    "def cache(key, use_cache=USE_CACHE):\n",
    "    def def_decorator(func):\n",
    "        def wrap(*args, **kwargs):\n",
    "            overwrite_cache = kwargs.get(\"overwrite_cache\", False)\n",
    "            logger.info(overwrite_cache)\n",
    "            if False == overwrite_cache and use_cache:\n",
    "                buff = r.get(key)\n",
    "                if buff:\n",
    "                    return pkl.loads(buff)\n",
    "                    logger.info(\"OK load cache for {}\".format(key))\n",
    "            result = func(*args)\n",
    "            logger.info(\"OK load original for {}\".format(key))\n",
    "            if (False == use_cache) or (use_cache and overwrite_cache) or (not buff):\n",
    "                r.set(key, pkl.dumps(result, pkl.HIGHEST_PROTOCOL))\n",
    "                logger.info(\"OK save cache for {}\".format(key))\n",
    "            return result\n",
    "        return wrap\n",
    "    return def_decorator\n",
    "\n",
    "def list_key(str_find):\n",
    "    k=[]\n",
    "    for key in r.scan_iter(str_find):\n",
    "        k.append(str(key))\n",
    "    return k\n",
    "    \n",
    "def get_cache_on_key(key):\n",
    "    buff = r.get(key)\n",
    "    if buff:\n",
    "        return pkl.loads(buff)\n",
    "    else:\n",
    "        logger.info('Not found data in redis')"
   ]
  },
  {
   "cell_type": "code",
   "execution_count": 101,
   "id": "98cb8c44-e359-4b42-a9b1-23a61fe25d4a",
   "metadata": {},
   "outputs": [],
   "source": [
    "@cache(key=\"df.test.1\")\n",
    "def __get_day_sales(df, overwrite_cache=False):\n",
    "    return df"
   ]
  },
  {
   "cell_type": "code",
   "execution_count": 102,
   "id": "ee9d06d7-ca23-4ebf-8929-db62638bc7d3",
   "metadata": {},
   "outputs": [
    {
     "name": "stderr",
     "output_type": "stream",
     "text": [
      "2023-02-05 11:05:58.428 | INFO     | __main__:wrap:16 - True\n",
      "2023-02-05 11:05:58.429 | INFO     | __main__:wrap:23 - OK load original for df.test.1\n",
      "2023-02-05 11:05:58.431 | INFO     | __main__:wrap:26 - OK save cache for df.test.1\n"
     ]
    },
    {
     "data": {
      "text/html": [
       "<div><div id=2d527f81-2c73-4651-99b4-4bc0c501d61f style=\"display:none; background-color:#9D6CFF; color:white; width:200px; height:30px; padding-left:5px; border-radius:4px; flex-direction:row; justify-content:space-around; align-items:center;\" onmouseover=\"this.style.backgroundColor='#BA9BF8'\" onmouseout=\"this.style.backgroundColor='#9D6CFF'\" onclick=\"window.commands?.execute('create-mitosheet-from-dataframe-output');\">See Full Dataframe in Mito</div> <script> if (window.commands.hasCommand('create-mitosheet-from-dataframe-output')) document.getElementById('2d527f81-2c73-4651-99b4-4bc0c501d61f').style.display = 'flex' </script> <table border=\"1\" class=\"dataframe\">\n",
       "  <thead>\n",
       "    <tr style=\"text-align: right;\">\n",
       "      <th></th>\n",
       "      <th>col1</th>\n",
       "      <th>col2</th>\n",
       "      <th>col3</th>\n",
       "    </tr>\n",
       "  </thead>\n",
       "  <tbody>\n",
       "    <tr>\n",
       "      <th>0</th>\n",
       "      <td>coEvnluuNT</td>\n",
       "      <td>101.166692</td>\n",
       "      <td>C</td>\n",
       "    </tr>\n",
       "    <tr>\n",
       "      <th>1</th>\n",
       "      <td>JgoRGvhMTX</td>\n",
       "      <td>94.258721</td>\n",
       "      <td>D</td>\n",
       "    </tr>\n",
       "    <tr>\n",
       "      <th>2</th>\n",
       "      <td>RchPMPBskj</td>\n",
       "      <td>86.799792</td>\n",
       "      <td>B</td>\n",
       "    </tr>\n",
       "    <tr>\n",
       "      <th>3</th>\n",
       "      <td>oTIIRSQeKb</td>\n",
       "      <td>92.425227</td>\n",
       "      <td>A</td>\n",
       "    </tr>\n",
       "    <tr>\n",
       "      <th>4</th>\n",
       "      <td>oxtgmVTTyh</td>\n",
       "      <td>100.691178</td>\n",
       "      <td>D</td>\n",
       "    </tr>\n",
       "    <tr>\n",
       "      <th>5</th>\n",
       "      <td>kyAyznfqqV</td>\n",
       "      <td>117.567837</td>\n",
       "      <td>B</td>\n",
       "    </tr>\n",
       "    <tr>\n",
       "      <th>6</th>\n",
       "      <td>pgwglhogWJ</td>\n",
       "      <td>98.950190</td>\n",
       "      <td>D</td>\n",
       "    </tr>\n",
       "    <tr>\n",
       "      <th>7</th>\n",
       "      <td>WmAVcrAonK</td>\n",
       "      <td>104.296631</td>\n",
       "      <td>D</td>\n",
       "    </tr>\n",
       "    <tr>\n",
       "      <th>8</th>\n",
       "      <td>agnVotqonr</td>\n",
       "      <td>103.781794</td>\n",
       "      <td>D</td>\n",
       "    </tr>\n",
       "    <tr>\n",
       "      <th>9</th>\n",
       "      <td>UKLnKKDDUs</td>\n",
       "      <td>87.255390</td>\n",
       "      <td>B</td>\n",
       "    </tr>\n",
       "  </tbody>\n",
       "</table></div>"
      ],
      "text/plain": [
       "         col1        col2 col3\n",
       "0  coEvnluuNT  101.166692    C\n",
       "1  JgoRGvhMTX   94.258721    D\n",
       "2  RchPMPBskj   86.799792    B\n",
       "3  oTIIRSQeKb   92.425227    A\n",
       "4  oxtgmVTTyh  100.691178    D\n",
       "5  kyAyznfqqV  117.567837    B\n",
       "6  pgwglhogWJ   98.950190    D\n",
       "7  WmAVcrAonK  104.296631    D\n",
       "8  agnVotqonr  103.781794    D\n",
       "9  UKLnKKDDUs   87.255390    B"
      ]
     },
     "execution_count": 102,
     "metadata": {},
     "output_type": "execute_result"
    }
   ],
   "source": [
    "# save to redis\n",
    "__get_day_sales(df, overwrite_cache=True)"
   ]
  },
  {
   "cell_type": "code",
   "execution_count": 103,
   "id": "5fa5f1ce-5f06-4602-ab56-848f88eaad4e",
   "metadata": {},
   "outputs": [
    {
     "data": {
      "text/plain": [
       "[\"b'df.test.1'\"]"
      ]
     },
     "execution_count": 103,
     "metadata": {},
     "output_type": "execute_result"
    }
   ],
   "source": [
    "# list key in redis\n",
    "str_find=\"df*\"\n",
    "list_key(str_find)"
   ]
  },
  {
   "cell_type": "code",
   "execution_count": 104,
   "id": "2e8d2cd3-9755-414a-baeb-732fd9df1f19",
   "metadata": {},
   "outputs": [
    {
     "data": {
      "text/html": [
       "<div><div id=8f98ca9f-1e6a-4984-8dca-eaa32b19d63f style=\"display:none; background-color:#9D6CFF; color:white; width:200px; height:30px; padding-left:5px; border-radius:4px; flex-direction:row; justify-content:space-around; align-items:center;\" onmouseover=\"this.style.backgroundColor='#BA9BF8'\" onmouseout=\"this.style.backgroundColor='#9D6CFF'\" onclick=\"window.commands?.execute('create-mitosheet-from-dataframe-output');\">See Full Dataframe in Mito</div> <script> if (window.commands.hasCommand('create-mitosheet-from-dataframe-output')) document.getElementById('8f98ca9f-1e6a-4984-8dca-eaa32b19d63f').style.display = 'flex' </script> <table border=\"1\" class=\"dataframe\">\n",
       "  <thead>\n",
       "    <tr style=\"text-align: right;\">\n",
       "      <th></th>\n",
       "      <th>col1</th>\n",
       "      <th>col2</th>\n",
       "      <th>col3</th>\n",
       "    </tr>\n",
       "  </thead>\n",
       "  <tbody>\n",
       "    <tr>\n",
       "      <th>0</th>\n",
       "      <td>coEvnluuNT</td>\n",
       "      <td>101.166692</td>\n",
       "      <td>C</td>\n",
       "    </tr>\n",
       "    <tr>\n",
       "      <th>1</th>\n",
       "      <td>JgoRGvhMTX</td>\n",
       "      <td>94.258721</td>\n",
       "      <td>D</td>\n",
       "    </tr>\n",
       "    <tr>\n",
       "      <th>2</th>\n",
       "      <td>RchPMPBskj</td>\n",
       "      <td>86.799792</td>\n",
       "      <td>B</td>\n",
       "    </tr>\n",
       "    <tr>\n",
       "      <th>3</th>\n",
       "      <td>oTIIRSQeKb</td>\n",
       "      <td>92.425227</td>\n",
       "      <td>A</td>\n",
       "    </tr>\n",
       "    <tr>\n",
       "      <th>4</th>\n",
       "      <td>oxtgmVTTyh</td>\n",
       "      <td>100.691178</td>\n",
       "      <td>D</td>\n",
       "    </tr>\n",
       "    <tr>\n",
       "      <th>5</th>\n",
       "      <td>kyAyznfqqV</td>\n",
       "      <td>117.567837</td>\n",
       "      <td>B</td>\n",
       "    </tr>\n",
       "    <tr>\n",
       "      <th>6</th>\n",
       "      <td>pgwglhogWJ</td>\n",
       "      <td>98.950190</td>\n",
       "      <td>D</td>\n",
       "    </tr>\n",
       "    <tr>\n",
       "      <th>7</th>\n",
       "      <td>WmAVcrAonK</td>\n",
       "      <td>104.296631</td>\n",
       "      <td>D</td>\n",
       "    </tr>\n",
       "    <tr>\n",
       "      <th>8</th>\n",
       "      <td>agnVotqonr</td>\n",
       "      <td>103.781794</td>\n",
       "      <td>D</td>\n",
       "    </tr>\n",
       "    <tr>\n",
       "      <th>9</th>\n",
       "      <td>UKLnKKDDUs</td>\n",
       "      <td>87.255390</td>\n",
       "      <td>B</td>\n",
       "    </tr>\n",
       "  </tbody>\n",
       "</table></div>"
      ],
      "text/plain": [
       "         col1        col2 col3\n",
       "0  coEvnluuNT  101.166692    C\n",
       "1  JgoRGvhMTX   94.258721    D\n",
       "2  RchPMPBskj   86.799792    B\n",
       "3  oTIIRSQeKb   92.425227    A\n",
       "4  oxtgmVTTyh  100.691178    D\n",
       "5  kyAyznfqqV  117.567837    B\n",
       "6  pgwglhogWJ   98.950190    D\n",
       "7  WmAVcrAonK  104.296631    D\n",
       "8  agnVotqonr  103.781794    D\n",
       "9  UKLnKKDDUs   87.255390    B"
      ]
     },
     "execution_count": 104,
     "metadata": {},
     "output_type": "execute_result"
    }
   ],
   "source": [
    "# get from redis\n",
    "key=\"df.test.1\"\n",
    "df2=get_cache_on_key(key)\n",
    "df2"
   ]
  },
  {
   "cell_type": "code",
   "execution_count": 105,
   "id": "e7378411-3695-438d-8e17-5d897207e669",
   "metadata": {},
   "outputs": [
    {
     "name": "stderr",
     "output_type": "stream",
     "text": [
      "2023-02-05 11:06:02.274 | INFO     | __main__:wrap:16 - False\n"
     ]
    },
    {
     "data": {
      "text/html": [
       "<div><div id=037bf5c4-f527-4eae-8d4d-fd456dc10e87 style=\"display:none; background-color:#9D6CFF; color:white; width:200px; height:30px; padding-left:5px; border-radius:4px; flex-direction:row; justify-content:space-around; align-items:center;\" onmouseover=\"this.style.backgroundColor='#BA9BF8'\" onmouseout=\"this.style.backgroundColor='#9D6CFF'\" onclick=\"window.commands?.execute('create-mitosheet-from-dataframe-output');\">See Full Dataframe in Mito</div> <script> if (window.commands.hasCommand('create-mitosheet-from-dataframe-output')) document.getElementById('037bf5c4-f527-4eae-8d4d-fd456dc10e87').style.display = 'flex' </script> <table border=\"1\" class=\"dataframe\">\n",
       "  <thead>\n",
       "    <tr style=\"text-align: right;\">\n",
       "      <th></th>\n",
       "      <th>col1</th>\n",
       "      <th>col2</th>\n",
       "      <th>col3</th>\n",
       "    </tr>\n",
       "  </thead>\n",
       "  <tbody>\n",
       "    <tr>\n",
       "      <th>0</th>\n",
       "      <td>coEvnluuNT</td>\n",
       "      <td>101.166692</td>\n",
       "      <td>C</td>\n",
       "    </tr>\n",
       "    <tr>\n",
       "      <th>1</th>\n",
       "      <td>JgoRGvhMTX</td>\n",
       "      <td>94.258721</td>\n",
       "      <td>D</td>\n",
       "    </tr>\n",
       "    <tr>\n",
       "      <th>2</th>\n",
       "      <td>RchPMPBskj</td>\n",
       "      <td>86.799792</td>\n",
       "      <td>B</td>\n",
       "    </tr>\n",
       "    <tr>\n",
       "      <th>3</th>\n",
       "      <td>oTIIRSQeKb</td>\n",
       "      <td>92.425227</td>\n",
       "      <td>A</td>\n",
       "    </tr>\n",
       "    <tr>\n",
       "      <th>4</th>\n",
       "      <td>oxtgmVTTyh</td>\n",
       "      <td>100.691178</td>\n",
       "      <td>D</td>\n",
       "    </tr>\n",
       "    <tr>\n",
       "      <th>5</th>\n",
       "      <td>kyAyznfqqV</td>\n",
       "      <td>117.567837</td>\n",
       "      <td>B</td>\n",
       "    </tr>\n",
       "    <tr>\n",
       "      <th>6</th>\n",
       "      <td>pgwglhogWJ</td>\n",
       "      <td>98.950190</td>\n",
       "      <td>D</td>\n",
       "    </tr>\n",
       "    <tr>\n",
       "      <th>7</th>\n",
       "      <td>WmAVcrAonK</td>\n",
       "      <td>104.296631</td>\n",
       "      <td>D</td>\n",
       "    </tr>\n",
       "    <tr>\n",
       "      <th>8</th>\n",
       "      <td>agnVotqonr</td>\n",
       "      <td>103.781794</td>\n",
       "      <td>D</td>\n",
       "    </tr>\n",
       "    <tr>\n",
       "      <th>9</th>\n",
       "      <td>UKLnKKDDUs</td>\n",
       "      <td>87.255390</td>\n",
       "      <td>B</td>\n",
       "    </tr>\n",
       "  </tbody>\n",
       "</table></div>"
      ],
      "text/plain": [
       "         col1        col2 col3\n",
       "0  coEvnluuNT  101.166692    C\n",
       "1  JgoRGvhMTX   94.258721    D\n",
       "2  RchPMPBskj   86.799792    B\n",
       "3  oTIIRSQeKb   92.425227    A\n",
       "4  oxtgmVTTyh  100.691178    D\n",
       "5  kyAyznfqqV  117.567837    B\n",
       "6  pgwglhogWJ   98.950190    D\n",
       "7  WmAVcrAonK  104.296631    D\n",
       "8  agnVotqonr  103.781794    D\n",
       "9  UKLnKKDDUs   87.255390    B"
      ]
     },
     "execution_count": 105,
     "metadata": {},
     "output_type": "execute_result"
    }
   ],
   "source": [
    "# don't set to redis\n",
    "__get_day_sales(df1, overwrite_cache=False)\n",
    "# get on key\n",
    "key=\"df.test.1\"\n",
    "df2=get_cache_on_key(key)\n",
    "df2"
   ]
  },
  {
   "cell_type": "code",
   "execution_count": 106,
   "id": "e05e4d96-e307-4d71-8b35-ffff7f0ee679",
   "metadata": {},
   "outputs": [
    {
     "name": "stderr",
     "output_type": "stream",
     "text": [
      "2023-02-05 11:06:04.296 | INFO     | __main__:wrap:16 - True\n",
      "2023-02-05 11:06:04.298 | INFO     | __main__:wrap:23 - OK load original for df.test.1\n",
      "2023-02-05 11:06:04.299 | INFO     | __main__:wrap:26 - OK save cache for df.test.1\n"
     ]
    },
    {
     "data": {
      "text/html": [
       "<div><div id=7b5d6de0-d55a-4ef4-a716-0db40313fe8c style=\"display:none; background-color:#9D6CFF; color:white; width:200px; height:30px; padding-left:5px; border-radius:4px; flex-direction:row; justify-content:space-around; align-items:center;\" onmouseover=\"this.style.backgroundColor='#BA9BF8'\" onmouseout=\"this.style.backgroundColor='#9D6CFF'\" onclick=\"window.commands?.execute('create-mitosheet-from-dataframe-output');\">See Full Dataframe in Mito</div> <script> if (window.commands.hasCommand('create-mitosheet-from-dataframe-output')) document.getElementById('7b5d6de0-d55a-4ef4-a716-0db40313fe8c').style.display = 'flex' </script> <table border=\"1\" class=\"dataframe\">\n",
       "  <thead>\n",
       "    <tr style=\"text-align: right;\">\n",
       "      <th></th>\n",
       "      <th>col1</th>\n",
       "      <th>col2</th>\n",
       "      <th>col3</th>\n",
       "    </tr>\n",
       "  </thead>\n",
       "  <tbody>\n",
       "    <tr>\n",
       "      <th>0</th>\n",
       "      <td>vIzrAxMDIx</td>\n",
       "      <td>98.010808</td>\n",
       "      <td>A</td>\n",
       "    </tr>\n",
       "    <tr>\n",
       "      <th>1</th>\n",
       "      <td>RhEJnLAFoi</td>\n",
       "      <td>102.010487</td>\n",
       "      <td>B</td>\n",
       "    </tr>\n",
       "    <tr>\n",
       "      <th>2</th>\n",
       "      <td>vEcZjtBzLD</td>\n",
       "      <td>112.437672</td>\n",
       "      <td>D</td>\n",
       "    </tr>\n",
       "    <tr>\n",
       "      <th>3</th>\n",
       "      <td>BBlswaYvji</td>\n",
       "      <td>108.277743</td>\n",
       "      <td>D</td>\n",
       "    </tr>\n",
       "    <tr>\n",
       "      <th>4</th>\n",
       "      <td>isebCUDsgh</td>\n",
       "      <td>116.039990</td>\n",
       "      <td>A</td>\n",
       "    </tr>\n",
       "    <tr>\n",
       "      <th>5</th>\n",
       "      <td>ASydNKfEOk</td>\n",
       "      <td>93.984055</td>\n",
       "      <td>D</td>\n",
       "    </tr>\n",
       "    <tr>\n",
       "      <th>6</th>\n",
       "      <td>vyMOBsdDcG</td>\n",
       "      <td>96.337740</td>\n",
       "      <td>B</td>\n",
       "    </tr>\n",
       "    <tr>\n",
       "      <th>7</th>\n",
       "      <td>OewKjylHtr</td>\n",
       "      <td>99.585763</td>\n",
       "      <td>D</td>\n",
       "    </tr>\n",
       "    <tr>\n",
       "      <th>8</th>\n",
       "      <td>VnImfPVUKN</td>\n",
       "      <td>109.421772</td>\n",
       "      <td>D</td>\n",
       "    </tr>\n",
       "    <tr>\n",
       "      <th>9</th>\n",
       "      <td>snWdlYcOJv</td>\n",
       "      <td>95.542644</td>\n",
       "      <td>B</td>\n",
       "    </tr>\n",
       "  </tbody>\n",
       "</table></div>"
      ],
      "text/plain": [
       "         col1        col2 col3\n",
       "0  vIzrAxMDIx   98.010808    A\n",
       "1  RhEJnLAFoi  102.010487    B\n",
       "2  vEcZjtBzLD  112.437672    D\n",
       "3  BBlswaYvji  108.277743    D\n",
       "4  isebCUDsgh  116.039990    A\n",
       "5  ASydNKfEOk   93.984055    D\n",
       "6  vyMOBsdDcG   96.337740    B\n",
       "7  OewKjylHtr   99.585763    D\n",
       "8  VnImfPVUKN  109.421772    D\n",
       "9  snWdlYcOJv   95.542644    B"
      ]
     },
     "execution_count": 106,
     "metadata": {},
     "output_type": "execute_result"
    }
   ],
   "source": [
    "# save to redis\n",
    "__get_day_sales(df1, overwrite_cache=True)\n",
    "# get on key\n",
    "key=\"df.test.1\"\n",
    "df2=get_cache_on_key(key)\n",
    "df2"
   ]
  },
  {
   "cell_type": "markdown",
   "id": "8846a28c-5da0-4b1a-947d-df563db0467d",
   "metadata": {},
   "source": [
    "# SAVE to Redis / GET from Redis pair \"Key:Values\""
   ]
  },
  {
   "cell_type": "code",
   "execution_count": 117,
   "id": "6211150e-4990-489c-8489-b875b76cc6c4",
   "metadata": {},
   "outputs": [
    {
     "name": "stdout",
     "output_type": "stream",
     "text": [
      "(10000, 3)\n",
      "CPU times: user 1.4 s, sys: 0 ns, total: 1.4 s\n",
      "Wall time: 1.44 s\n"
     ]
    },
    {
     "data": {
      "text/html": [
       "<div><div id=b0fa3424-fe2c-40f6-8d18-553c6e84cb01 style=\"display:none; background-color:#9D6CFF; color:white; width:200px; height:30px; padding-left:5px; border-radius:4px; flex-direction:row; justify-content:space-around; align-items:center;\" onmouseover=\"this.style.backgroundColor='#BA9BF8'\" onmouseout=\"this.style.backgroundColor='#9D6CFF'\" onclick=\"window.commands?.execute('create-mitosheet-from-dataframe-output');\">See Full Dataframe in Mito</div> <script> if (window.commands.hasCommand('create-mitosheet-from-dataframe-output')) document.getElementById('b0fa3424-fe2c-40f6-8d18-553c6e84cb01').style.display = 'flex' </script> <table border=\"1\" class=\"dataframe\">\n",
       "  <thead>\n",
       "    <tr style=\"text-align: right;\">\n",
       "      <th></th>\n",
       "      <th>col1</th>\n",
       "      <th>col2</th>\n",
       "      <th>col3</th>\n",
       "    </tr>\n",
       "  </thead>\n",
       "  <tbody>\n",
       "    <tr>\n",
       "      <th>0</th>\n",
       "      <td>WqQdvDaHyA</td>\n",
       "      <td>106.851814</td>\n",
       "      <td>B</td>\n",
       "    </tr>\n",
       "    <tr>\n",
       "      <th>1</th>\n",
       "      <td>ykkOaWZQYi</td>\n",
       "      <td>102.909115</td>\n",
       "      <td>D</td>\n",
       "    </tr>\n",
       "    <tr>\n",
       "      <th>2</th>\n",
       "      <td>BbBpSxLSZx</td>\n",
       "      <td>103.522302</td>\n",
       "      <td>A</td>\n",
       "    </tr>\n",
       "    <tr>\n",
       "      <th>3</th>\n",
       "      <td>ogzQNDTvSq</td>\n",
       "      <td>118.940135</td>\n",
       "      <td>C</td>\n",
       "    </tr>\n",
       "    <tr>\n",
       "      <th>4</th>\n",
       "      <td>juZdIBAiti</td>\n",
       "      <td>121.724189</td>\n",
       "      <td>B</td>\n",
       "    </tr>\n",
       "  </tbody>\n",
       "</table></div>"
      ],
      "text/plain": [
       "         col1        col2 col3\n",
       "0  WqQdvDaHyA  106.851814    B\n",
       "1  ykkOaWZQYi  102.909115    D\n",
       "2  BbBpSxLSZx  103.522302    A\n",
       "3  ogzQNDTvSq  118.940135    C\n",
       "4  juZdIBAiti  121.724189    B"
      ]
     },
     "execution_count": 117,
     "metadata": {},
     "output_type": "execute_result"
    }
   ],
   "source": [
    "%%time\n",
    "def create_random_big_df():\n",
    "    unique_strings = [random_string(10) for i in range(1, 100000)]\n",
    "    data = {'col1': np.random.choice(unique_strings, 10000),\n",
    "            'col2': np.random.normal(100,10,10000),\n",
    "            'col3': np.random.choice(['A','B','C','D'],10000)}\n",
    "    return pd.DataFrame(data)\n",
    "df2=create_random_big_df()\n",
    "print(df2.shape)\n",
    "df2.head()"
   ]
  },
  {
   "cell_type": "code",
   "execution_count": 118,
   "id": "70d4b703-bc55-456f-ac0d-a5af77cd917f",
   "metadata": {},
   "outputs": [],
   "source": [
    "# save to redis each pair\n",
    "r2 = redis.Redis(host=\"127.0.0.1\", port=6379, db=0)\n",
    "def run_in_pipe(df):\n",
    "    pipe = r2.pipeline()\n",
    "    df_dict = df.to_dict()\n",
    "    for col2, col3, col1 in zip(df_dict[\"col2\"].values(), df_dict[\"col3\"].values(), df_dict[\"col1\"].values()):\n",
    "        pipe.set(str(col1),f\"{col3}_{col2}\")\n",
    "    return pipe.execute()"
   ]
  },
  {
   "cell_type": "code",
   "execution_count": 119,
   "id": "046f605f-0ff8-4a12-a194-eaa598592ad5",
   "metadata": {},
   "outputs": [
    {
     "data": {
      "text/plain": [
       "True"
      ]
     },
     "execution_count": 119,
     "metadata": {},
     "output_type": "execute_result"
    }
   ],
   "source": [
    "# delete all keys\n",
    "r2.flushall()"
   ]
  },
  {
   "cell_type": "code",
   "execution_count": 120,
   "id": "62501e4c-86ef-4083-a15d-c1389aa9c5c7",
   "metadata": {},
   "outputs": [
    {
     "name": "stdout",
     "output_type": "stream",
     "text": [
      "CPU times: user 214 ms, sys: 0 ns, total: 214 ms\n",
      "Wall time: 251 ms\n"
     ]
    }
   ],
   "source": [
    "%time _ = run_in_pipe(df2) # save to redis"
   ]
  },
  {
   "cell_type": "code",
   "execution_count": 121,
   "id": "b3774fff-ac81-4546-b54e-8ecae348e17b",
   "metadata": {},
   "outputs": [],
   "source": [
    "# get from redis\n",
    "def find_id(data):\n",
    "    list_id = []\n",
    "    if data:\n",
    "        list_id = [x.decode('UTF-8') for x in set(r2.mget(data)) if x]\n",
    "    return list_id\n",
    "\n",
    "def get_from_redis(vals, max_workers=200):\n",
    "    with concurrent.futures.ThreadPoolExecutor(max_workers=max_workers) as executor:\n",
    "        return [x for x in executor.map(lambda x: find_id(x), vals)]"
   ]
  },
  {
   "cell_type": "code",
   "execution_count": 123,
   "id": "981bcb59-2901-47e2-b4a8-ac7365376642",
   "metadata": {},
   "outputs": [
    {
     "name": "stdout",
     "output_type": "stream",
     "text": [
      "CPU times: user 3.04 s, sys: 1.43 s, total: 4.47 s\n",
      "Wall time: 5.02 s\n"
     ]
    }
   ],
   "source": [
    "%time df2['col_from_redis'] = get_from_redis(df2[\"col1\"].map(lambda x: [x]))"
   ]
  },
  {
   "cell_type": "code",
   "execution_count": 125,
   "id": "e7fa3a1d-4781-4935-b420-c9aaee13c892",
   "metadata": {},
   "outputs": [
    {
     "data": {
      "text/html": [
       "<div><div id=38aa0067-7f5d-490e-80a5-16322244a4e8 style=\"display:none; background-color:#9D6CFF; color:white; width:200px; height:30px; padding-left:5px; border-radius:4px; flex-direction:row; justify-content:space-around; align-items:center;\" onmouseover=\"this.style.backgroundColor='#BA9BF8'\" onmouseout=\"this.style.backgroundColor='#9D6CFF'\" onclick=\"window.commands?.execute('create-mitosheet-from-dataframe-output');\">See Full Dataframe in Mito</div> <script> if (window.commands.hasCommand('create-mitosheet-from-dataframe-output')) document.getElementById('38aa0067-7f5d-490e-80a5-16322244a4e8').style.display = 'flex' </script> <table border=\"1\" class=\"dataframe\">\n",
       "  <thead>\n",
       "    <tr style=\"text-align: right;\">\n",
       "      <th></th>\n",
       "      <th>col1</th>\n",
       "      <th>col2</th>\n",
       "      <th>col3</th>\n",
       "      <th>col_from_redis</th>\n",
       "    </tr>\n",
       "  </thead>\n",
       "  <tbody>\n",
       "    <tr>\n",
       "      <th>0</th>\n",
       "      <td>WqQdvDaHyA</td>\n",
       "      <td>106.851814</td>\n",
       "      <td>B</td>\n",
       "      <td>[B_106.85181431567248]</td>\n",
       "    </tr>\n",
       "    <tr>\n",
       "      <th>1</th>\n",
       "      <td>ykkOaWZQYi</td>\n",
       "      <td>102.909115</td>\n",
       "      <td>D</td>\n",
       "      <td>[D_102.9091146093156]</td>\n",
       "    </tr>\n",
       "    <tr>\n",
       "      <th>2</th>\n",
       "      <td>BbBpSxLSZx</td>\n",
       "      <td>103.522302</td>\n",
       "      <td>A</td>\n",
       "      <td>[A_103.52230211092746]</td>\n",
       "    </tr>\n",
       "    <tr>\n",
       "      <th>3</th>\n",
       "      <td>ogzQNDTvSq</td>\n",
       "      <td>118.940135</td>\n",
       "      <td>C</td>\n",
       "      <td>[C_118.94013488987596]</td>\n",
       "    </tr>\n",
       "    <tr>\n",
       "      <th>4</th>\n",
       "      <td>juZdIBAiti</td>\n",
       "      <td>121.724189</td>\n",
       "      <td>B</td>\n",
       "      <td>[B_121.72418868290654]</td>\n",
       "    </tr>\n",
       "  </tbody>\n",
       "</table></div>"
      ],
      "text/plain": [
       "         col1        col2 col3          col_from_redis\n",
       "0  WqQdvDaHyA  106.851814    B  [B_106.85181431567248]\n",
       "1  ykkOaWZQYi  102.909115    D   [D_102.9091146093156]\n",
       "2  BbBpSxLSZx  103.522302    A  [A_103.52230211092746]\n",
       "3  ogzQNDTvSq  118.940135    C  [C_118.94013488987596]\n",
       "4  juZdIBAiti  121.724189    B  [B_121.72418868290654]"
      ]
     },
     "execution_count": 125,
     "metadata": {},
     "output_type": "execute_result"
    }
   ],
   "source": [
    "df2.head()"
   ]
  },
  {
   "cell_type": "code",
   "execution_count": null,
   "id": "461279af-2360-4830-a044-dee705252991",
   "metadata": {},
   "outputs": [],
   "source": []
  }
 ],
 "metadata": {
  "kernelspec": {
   "display_name": "Python 3",
   "language": "python",
   "name": "python3"
  },
  "language_info": {
   "codemirror_mode": {
    "name": "ipython",
    "version": 3
   },
   "file_extension": ".py",
   "mimetype": "text/x-python",
   "name": "python",
   "nbconvert_exporter": "python",
   "pygments_lexer": "ipython3",
   "version": "3.7.2"
  }
 },
 "nbformat": 4,
 "nbformat_minor": 5
}
