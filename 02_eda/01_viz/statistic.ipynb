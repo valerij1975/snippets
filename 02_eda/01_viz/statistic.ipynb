{
 "cells": [
  {
   "cell_type": "markdown",
   "id": "f1c06172-5487-4950-8e36-7fd384b4ba64",
   "metadata": {},
   "source": [
    "Statistics are used in two main stages of a ML-project:\n",
    "\n",
    "- **Conducting EDA**. The goal at this stage is to identify patterns in the data (descriptive statistics). It is closely related to visualization, so it is placed in the visualization section.\n",
    "- **Feature engineering**. The goal at this stage is to construct additional fetures for the machine learning model."
   ]
  },
  {
   "cell_type": "code",
   "execution_count": null,
   "id": "a1b1f306-7fe0-43a0-9d47-ee365be33950",
   "metadata": {},
   "outputs": [],
   "source": []
  }
 ],
 "metadata": {
  "kernelspec": {
   "display_name": "Python 3 (ipykernel)",
   "language": "python",
   "name": "python3"
  },
  "language_info": {
   "codemirror_mode": {
    "name": "ipython",
    "version": 3
   },
   "file_extension": ".py",
   "mimetype": "text/x-python",
   "name": "python",
   "nbconvert_exporter": "python",
   "pygments_lexer": "ipython3",
   "version": "3.8.15"
  }
 },
 "nbformat": 4,
 "nbformat_minor": 5
}
